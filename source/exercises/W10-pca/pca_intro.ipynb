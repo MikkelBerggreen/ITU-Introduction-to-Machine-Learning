{
 "cells": [
  {
   "cell_type": "code",
   "execution_count": 1,
   "id": "e5453ce2",
   "metadata": {},
   "outputs": [],
   "source": [
    "import matplotlib.pyplot as plt\n",
    "import numpy as np\n",
    "\n",
    "from utils import *"
   ]
  },
  {
   "cell_type": "markdown",
   "id": "293fbec1",
   "metadata": {
    "tags": []
   },
   "source": [
    "# {{ exercise }} Introduction to PCA\n",
    "\n",
    "In this exercise you will create a basic PCA implementation that you will use for the next exercise.\n"
   ]
  },
  {
   "cell_type": "markdown",
   "id": "13430904",
   "metadata": {},
   "source": [
    "## Implementing PCA\n",
    "\n",
    "Your first task is to implement the PCA method as well as functions for\n",
    "transforming to and from the space defined by the principal components.\n",
    "But first, a quick recap of the terminology to minimize confusion.\n",
    "\n",
    "Principal component analysis is about finding a linear transformation\n",
    "that reduces the number of dimensions used to represent samples while\n",
    "destroying as little of the variation as possible. PCA is defined by\n",
    "$\\Phi_{:k}$, an $M\\times k$ matrix representing a linear transformation from\n",
    "vectors in $M$-dimensional data space to $k$-dimensional latent space. We have the\n",
    "following transformations\n",
    "\n",
    "$$ \n",
    "b = \\Phi_{:k}^\\top x, \n",
    "$$\n",
    "\n",
    "$$\n",
    "x + \\epsilon = \\Phi_{:k} b,\n",
    "$$\n",
    "\n",
    "where\n",
    "$x\\in\\mathbb{R}^M$ is the input vector and $b\\in\\mathbb{R}^K$ is the\n",
    "embedded vector. As shown in the second equation, it is possible to reconstruct $x$ with some amount of error $\\epsilon$. To find $\\Phi$, we use the _eigenvectors_ of the covariance matrix of our data matrix $W$ where each row $i$ is a sample $x_i \\in \\mathbb{R}^M$. The eigenvectors are sorted by their associated eigenvalues which represent the variance of each dimension in latent space. Selecting the $k$ first columns (we use the notation $\\Phi_{:k}$) results in a transformation that reduces the dimensionality of the latent space to $k$ dimensions. \n",
    "\n",
    "\n",
    "1.  {{ task-code }} **Implement PCA:** Create a function that calculates and returns the\n",
    "    principle components of the shapes dataset. Use the method described\n",
    "    above where the eigenvectors of the covariance matrix is used.\n",
    "    **Make sure to center the samples (subtract the mean before\n",
    "    calculating the covariance matrix)**.\n",
    "\n",
    "2.  {{ task-code }} **Implement transformations:** Create two functions, one for\n",
    "    transforming from feature space to principal component space\n",
    "    (eqaution {eq}`trans`) and one for transforming from principal\n",
    "    component space to feature space\n",
    "    (equation {eq}`inv`). You have to subtract the mean, $\\mu$, vector when\n",
    "    transforming to the principal component space and add it again when\n",
    "    transforming back to feature space. You may use the following\n",
    "    modified equations for reference:\n",
    "\n",
    "$$\n",
    "b = \\Phi_{:k}^\\top(x-\\mu)\n",
    "$$  \n",
    "\n",
    "$$\n",
    "x = \\Phi_{:k} b + \\mu\n",
    "$$\n",
    "\n",
    "```{tip}\n",
    "The reading material for the PCA lecture contains an excellent [tutorial](https://sebastianraschka.com/Articles/2014_pca_step_by_step.html) on how this can be done, but remember that copying is not allowed!!\n",
    "```\n",
    "\n",
    "```{tip}\n",
    "Some of the later tasks will be easier if you return all 146 principle components. You can then create another function for extracting $n$ components to generate $\\Phi$.\n",
    "```\n"
   ]
  },
  {
   "cell_type": "code",
   "execution_count": 251,
   "id": "f6f04c84",
   "metadata": {},
   "outputs": [],
   "source": [
    "# Write your implementation here.\n",
    "\n",
    "def get_principle_components(shapes):\n",
    "    # # Step 2: Calculating meanvector\n",
    "    meanVector = np.mean(shapes.T, axis=1)\n",
    "    \n",
    "    # Centering samples\n",
    "    centeredShapes = shapes - meanVector\n",
    "\n",
    "    # Step 3.b: Computing the covariance matrix\n",
    "    covarianceMatrix = np.cov(centeredShapes.T)\n",
    "\n",
    "    # Step 4: Computing eigenvectors and eigenvalues\n",
    "    eigenValues, eigenVectors = np.linalg.eig(covarianceMatrix)\n",
    "\n",
    "    # Step 5.1\n",
    "    # Sort eigenvectors by decreasing eigenvalues\n",
    "    eigenPairs = [(np.abs(eigenValues[i]), eigenVectors[:,i]) for i in range(len(eigenValues))]\n",
    "    eigenPairs.sort(key=lambda x: x[0], reverse=True)\n",
    "\n",
    "    # Step 5.2\n",
    "    # Creating eigenvector matrix W but with the same k\n",
    "    matrixW = eigenPairs[0][1].reshape(len(shapes[0]), 1)\n",
    "    for d in range(1, len(shapes)):\n",
    "        matrixW = np.hstack((matrixW, eigenPairs[d][1].reshape(len(shapes[0]), 1)))\n",
    "    \n",
    "    # Returning the W matrix, val (I don't know what this was supposed to be?), and the mean vector (my)\n",
    "    return matrixW, 0, meanVector\n",
    "\n"
   ]
  },
  {
   "cell_type": "code",
   "execution_count": 252,
   "id": "50f7afae",
   "metadata": {},
   "outputs": [],
   "source": [
    "# Step 6: Transforming the samples onto the new subspace (wk is expected to be reduced to k dimensions)\n",
    "# equation trans\n",
    "def transform(x, wk, u):\n",
    "    b = np.dot(np.transpose(wk), np.transpose(x - u))\n",
    "    return b\n",
    "\n",
    "# equation inv\n",
    "def transformBack(b, wk, u):\n",
    "    x = np.dot(wk, np.transpose(b))\n",
    "    for i in range(len(x)):\n",
    "        x[i] = x[i] + u[i]\n",
    "    return x"
   ]
  },
  {
   "cell_type": "code",
   "execution_count": 255,
   "id": "ed4f7ea7",
   "metadata": {},
   "outputs": [
    {
     "name": "stdout",
     "output_type": "stream",
     "text": [
      "120\n",
      "Original shapes:\n",
      " [[-0.12118084 -0.10599773 -0.09972317 ...  0.09159876  0.13804808\n",
      "   0.0317374 ]\n",
      " [-0.12106093 -0.11516926 -0.10307789 ...  0.09591061  0.13727475\n",
      "   0.04046178]\n",
      " [-0.1237347  -0.10303802 -0.10523646 ...  0.08152419  0.13704319\n",
      "   0.01980427]\n",
      " ...\n",
      " [-0.12568886 -0.11200123 -0.11172953 ...  0.12620653  0.15206109\n",
      "   0.07766519]\n",
      " [-0.12247754 -0.1148791  -0.1072442  ...  0.12278225  0.14627607\n",
      "   0.07366567]\n",
      " [-0.12308832 -0.11129153 -0.10852273 ...  0.1356115   0.14591611\n",
      "   0.08376085]]\n",
      "\n",
      "Transformed shapes:\n",
      " [[-3.43241375e-02+0.j -3.77402183e-02+0.j -5.16889066e-02+0.j ...\n",
      "   5.38828509e-02+0.j  2.87240598e-02+0.j  5.37804943e-02+0.j]\n",
      " [ 2.94763854e-02+0.j  2.36983437e-02+0.j  3.91355582e-02+0.j ...\n",
      "  -4.18755334e-02+0.j -3.36469417e-02+0.j -5.26907749e-02+0.j]\n",
      " [-3.46530642e-03+0.j  2.00605508e-02+0.j -5.62181824e-03+0.j ...\n",
      "   3.16328035e-02+0.j  3.75539257e-02+0.j  3.34106396e-02+0.j]\n",
      " ...\n",
      " [-2.73525003e-06+0.j -3.00194403e-05+0.j  3.06318580e-05+0.j ...\n",
      "   6.99193386e-06+0.j  4.62132415e-05+0.j -4.68214666e-05+0.j]\n",
      " [ 3.30286368e-05+0.j -1.31850445e-05+0.j -2.17453320e-05+0.j ...\n",
      "   2.14020621e-05+0.j -5.03200697e-05+0.j -3.15022942e-06+0.j]\n",
      " [-4.86301087e-16+0.j -1.29572230e-16+0.j  1.01696968e-15+0.j ...\n",
      "  -5.06340722e-16+0.j  3.95164450e-16+0.j  3.22844070e-16+0.j]]\n",
      "\n",
      "Transformed back to original shapes:\n",
      " [[-0.17745189+0.j -0.08547384+0.j -0.11150474+0.j ... -0.12338898+0.j\n",
      "  -0.12330969+0.j -0.1233574 +0.j]\n",
      " [-0.07250282+0.j -0.11104845+0.j -0.10797472+0.j ... -0.10838354+0.j\n",
      "  -0.10830374+0.j -0.10821668+0.j]\n",
      " [-0.1722147 +0.j -0.13273902+0.j -0.15213298+0.j ... -0.10734676+0.j\n",
      "  -0.10727025+0.j -0.10727042+0.j]\n",
      " ...\n",
      " [ 0.08260158+0.j  0.14551112+0.j  0.10906991+0.j ...  0.10261541+0.j\n",
      "   0.1025936 +0.j  0.10262503+0.j]\n",
      " [ 0.1003461 +0.j  0.23176967+0.j  0.12577383+0.j ...  0.1436689 +0.j\n",
      "   0.1436736 +0.j  0.143708  +0.j]\n",
      " [-0.01516094+0.j  0.07841011+0.j -0.00668622+0.j ...  0.04483564+0.j\n",
      "   0.04486709+0.j  0.04485926+0.j]]\n"
     ]
    }
   ],
   "source": [
    "# Load data\n",
    "path = './db'\n",
    "shapes, images = face_shape_data(path)\n",
    "\n",
    "#Your implementation, uncomment below when the pca and tranformation is working.\n",
    "\n",
    "n_components = 146\n",
    "comp, val, mu = get_principle_components(shapes)\n",
    "\n",
    "used = comp[:, :n_components]\n",
    "print(\"Original shapes:\\n\", shapes)\n",
    "\n",
    "transformed = transform(shapes, used, mu)\n",
    "print(\"\\nTransformed shapes:\\n\", transformed)\n",
    "\n",
    "transformedBack = transformBack(transformed, used, mu)\n",
    "print(\"\\nTransformed back to original shapes:\\n\", transformedBack)"
   ]
  },
  {
   "cell_type": "markdown",
   "id": "7bf68d1a",
   "metadata": {
    "tags": []
   },
   "source": [
    "## Evaluating precision\n",
    "\n",
    "As described above, using PCA to transform a sample $x$ to a principal\n",
    "component space and back again likely results in an error $\\epsilon$, called the _reconstruction error_. In this task you will implement a\n",
    "method for calculating this error and use it to test the effect of\n",
    "increasing or decreasing the number of principal components used.\n",
    "\n",
    "When solving regression problems, the error is typically measured as the\n",
    "average distance error, otherwise known as root mean square error\n",
    "(RMSE). This is also used when calculating the construction error. For\n",
    "reference, the RMSE is\n",
    "\n",
    "$$RMSE(x, \\widetilde{x}) = \\sqrt{\\frac{1}{N}\\sum_i (x_i-\\widetilde{x}_i)^2},$$\n",
    "\n",
    "where $x$, $\\widetilde{x}$ are the original and transformed samples\n",
    "respectively and $N$ is the total number of samples $x_i$.\n",
    "\n",
    "Another method for evaluating PCA models is to look at the eigenvalues,\n",
    "where eigenvalue $i$ is denoted $\\lambda^{(i)}$. The eigenvalues explain\n",
    "the variance of each dimension when that data has been transformed by\n",
    "PCA. The sum of all eigenvalues $\\lambda^{(1)}+\\dots+\\lambda^{(n)}$ is\n",
    "equal to the total variance of the data. By comparing all the\n",
    "eigenvalues we can calculate:\n",
    "\n",
    "(1) **Proportional variance:** What proportion of the total variance is\n",
    "explained by a single component. The following formula can be used\n",
    "\n",
    "$$\\frac{\\lambda^{(i)}}{\\lambda^{(1)} + \\dots + \\lambda^{(n)}}$$\n",
    "\n",
    "(2) **Cumulative proportional variance:** What cumulative proportion of\n",
    "the total variance is explained by the first $k$ components.\n",
    "\n",
    "$$\\frac{\\lambda^{(1)} + \\dots + \\lambda^{(k)}}{\\lambda^{(1)} + \\dots + \\lambda^{(n)}}$$\n",
    "\n",
    "\n",
    "1.  **{{ task-code }} Calculate reconstruction error:** Implement a function in your\n",
    "    script that calculates the reconstruction error given a dataset $X$,\n",
    "    principle components $\\Phi$, and a mean vector $\\mu$.\n",
    "\n",
    "2.  **{{ task-code }} Plot reconstruction error:** When constructing $\\Phi$ you may use a single principal component or all of them. Plot the reconstruction error of $\\Phi$ for all possible numbers of principle components. An example is shown in {numref}`fig:plot_var`.\n",
    "\n",
    "3.  **{{ task-code }} Calculate variance:** Create functions that calculate the\n",
    "    _proportional_ and _cumulative proportional_ variance.\n",
    "\n",
    "4.  **{{ task-code }} Plot variance metrics:** Plot both the proportional and cumulative\n",
    "    proportional variance in a single plot. An example is shown in\n",
    "    {numref}`fig:plot_var`.\n",
    "\n",
    "\n",
    "```{figure} ./img/plot_var.png\n",
    "---\n",
    "name: fig:plot_var\n",
    "width: 400px\n",
    "---\n",
    "The expected result of the cumulative and individual variance\n",
    "proportion.\n",
    "```"
   ]
  },
  {
   "cell_type": "code",
   "execution_count": 8,
   "id": "6f6b4766",
   "metadata": {},
   "outputs": [],
   "source": [
    "# Write your implementation here."
   ]
  },
  {
   "cell_type": "code",
   "execution_count": 9,
   "id": "2c1cc431",
   "metadata": {},
   "outputs": [
    {
     "data": {
      "image/png": "[encoded data removed]",
      "text/plain": [
       "<Figure size 432x288 with 1 Axes>"
      ]
     },
     "metadata": {
      "needs_background": "light"
     },
     "output_type": "display_data"
    },
    {
     "data": {
      "image/png": "[encoded data removed]",
      "text/plain": [
       "<Figure size 432x288 with 1 Axes>"
      ]
     },
     "metadata": {
      "needs_background": "light"
     },
     "output_type": "display_data"
    }
   ],
   "source": [
    "# Write your implementation here."
   ]
  }
 ],
 "metadata": {
  "kernelspec": {
   "display_name": "Python 3.9.13 ('iaml')",
   "language": "python",
   "name": "python3"
  },
  "language_info": {
   "codemirror_mode": {
    "name": "ipython",
    "version": 3
   },
   "file_extension": ".py",
   "mimetype": "text/x-python",
   "name": "python",
   "nbconvert_exporter": "python",
   "pygments_lexer": "ipython3",
   "version": "3.9.13"
  },
  "vscode": {
   "interpreter": {
    "hash": "28639c5af99c749e34dfe6e3a394e8201230bfd30612e23d9ec6dde41159fd64"
   }
  }
 },
 "nbformat": 4,
 "nbformat_minor": 5
}
