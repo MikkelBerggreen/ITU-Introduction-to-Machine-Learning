{
    "cells": [
        {
            "cell_type": "markdown",
            "id": "74a91968",
            "metadata": {},
            "source": [
                "# <i class=\"fas fa-circle\" style=\"color: #f0ad4e;\"></i> Regression Metrics\n",
                "<span style=\"background-color: #343A40; color: white; border-radius: 10px; padding-top: 2px; padding-bottom: 2px; padding-left: 6px;padding-right: 6px;\">notebook</span>\n",
                "\n",
                "In the following you will experiment with evaluation metrics for regression. In particular you will work on the Boston dataset to predict the price for houses with given dufferent features. You have to evaluate the model using Mean Absolute Error and Mean squared Error and use this to argue for which model is the most appropriate for the given dataset. \n",
                "\n",
                "- Run the following cell to read the dataset\n"
            ]
        },
        {
            "cell_type": "code",
            "execution_count": 2,
            "id": "34bd4020",
            "metadata": {},
            "outputs": [
                {
                    "name": "stdout",
                    "output_type": "stream",
                    "text": [
                        "Dataset Size :  (506, 13) (506,)\n"
                    ]
                },
                {
                    "name": "stderr",
                    "output_type": "stream",
                    "text": [
                        "/Users/anton/Library/Caches/pypoetry/virtualenvs/iml-course-s21qN5ct-py3.9/lib/python3.9/site-packages/sklearn/utils/deprecation.py:87: FutureWarning: Function load_boston is deprecated; `load_boston` is deprecated in 1.0 and will be removed in 1.2.\n",
                        "\n",
                        "    The Boston housing prices dataset has an ethical problem. You can refer to\n",
                        "    the documentation of this function for further details.\n",
                        "\n",
                        "    The scikit-learn maintainers therefore strongly discourage the use of this\n",
                        "    dataset unless the purpose of the code is to study and educate about\n",
                        "    ethical issues in data science and machine learning.\n",
                        "\n",
                        "    In this special case, you can fetch the dataset from the original\n",
                        "    source::\n",
                        "\n",
                        "        import pandas as pd\n",
                        "        import numpy as np\n",
                        "\n",
                        "\n",
                        "        data_url = \"http://lib.stat.cmu.edu/datasets/boston\"\n",
                        "        raw_df = pd.read_csv(data_url, sep=\"\\s+\", skiprows=22, header=None)\n",
                        "        data = np.hstack([raw_df.values[::2, :], raw_df.values[1::2, :2]])\n",
                        "        target = raw_df.values[1::2, 2]\n",
                        "\n",
                        "    Alternative datasets include the California housing dataset (i.e.\n",
                        "    :func:`~sklearn.datasets.fetch_california_housing`) and the Ames housing\n",
                        "    dataset. You can load the datasets as follows::\n",
                        "\n",
                        "        from sklearn.datasets import fetch_california_housing\n",
                        "        housing = fetch_california_housing()\n",
                        "\n",
                        "    for the California housing dataset and::\n",
                        "\n",
                        "        from sklearn.datasets import fetch_openml\n",
                        "        housing = fetch_openml(name=\"house_prices\", as_frame=True)\n",
                        "\n",
                        "    for the Ames housing dataset.\n",
                        "    \n",
                        "  warnings.warn(msg, category=FutureWarning)\n"
                    ]
                }
            ],
            "source": [
                "# read dataset\n",
                "#X, Y = datasets.make_regression(n_samples=200, n_features=20, )\n",
                "import sklearn\n",
                "from sklearn import metrics, datasets\n",
                "from sklearn.model_selection import train_test_split, cross_val_score\n",
                "boston = datasets.load_boston()\n",
                "X, Y = boston.data, boston.target\n",
                "print('Dataset Size : ', X.shape, Y.shape)\n"
            ]
        },
        {
            "cell_type": "markdown",
            "id": "ad455331",
            "metadata": {},
            "source": [
                "You will be splitting a dataset into train/test sets with 80% for a train set and 20% for the test set.\n"
            ]
        },
        {
            "cell_type": "code",
            "execution_count": 3,
            "id": "e343e7e5",
            "metadata": {},
            "outputs": [
                {
                    "name": "stdout",
                    "output_type": "stream",
                    "text": [
                        "Train/Test Size :  (404, 13) (102, 13) (404,) (102,)\n"
                    ]
                }
            ],
            "source": [
                "X_train, X_test, Y_train, Y_test = train_test_split(X, Y, train_size=0.80, test_size=0.20, random_state=1, )\n",
                "print('Train/Test Size : ', X_train.shape, X_test.shape, Y_train.shape, Y_test.shape)\n"
            ]
        },
        {
            "cell_type": "markdown",
            "id": "1b9016b0",
            "metadata": {},
            "source": [
                "We'll now initialize a simple LinearSVR model and train it on the train dataset. We'll then check its performance by evaluating various regression metrics provided by scikit-learn.\n"
            ]
        },
        {
            "cell_type": "code",
            "execution_count": 4,
            "id": "1210b982",
            "metadata": {},
            "outputs": [
                {
                    "name": "stderr",
                    "output_type": "stream",
                    "text": [
                        "/Users/anton/Library/Caches/pypoetry/virtualenvs/iml-course-s21qN5ct-py3.9/lib/python3.9/site-packages/sklearn/svm/_base.py:1206: ConvergenceWarning: Liblinear failed to converge, increase the number of iterations.\n",
                        "  warnings.warn(\n"
                    ]
                },
                {
                    "data": {
                        "text/plain": [
                            "LinearSVR()"
                        ]
                    },
                    "execution_count": 4,
                    "metadata": {},
                    "output_type": "execute_result"
                }
            ],
            "source": [
                "from sklearn.svm import LinearSVR\n",
                "\n",
                "svr = LinearSVR()\n",
                "svr.fit(X_train, Y_train)\n"
            ]
        },
        {
            "cell_type": "markdown",
            "id": "7e710a3d",
            "metadata": {},
            "source": [
                "**Mean Absolute Error**\n",
                "\n",
                "Mean absolute error is a simple sum of the absolute difference between actual and predicted target value divided by a number of samples.\n",
                "\n",
                "\n",
                "$$ MAE=\\frac{1}{n}  \\sum_{i=1}^{n}|x_i-y_i| $$\n"
            ]
        },
        {
            "cell_type": "code",
            "execution_count": 5,
            "id": "4d17f93c",
            "metadata": {},
            "outputs": [
                {
                    "name": "stdout",
                    "output_type": "stream",
                    "text": [
                        "Test MAE  : 5.687\n",
                        "Train MAE : 6.092\n"
                    ]
                }
            ],
            "source": [
                "from sklearn.metrics import mean_absolute_error\n",
                "Y_preds = svr.predict(X_test)\n",
                "print('Test MAE  : %.3f'%mean_absolute_error(Y_test, Y_preds))\n",
                "print('Train MAE : %.3f'%mean_absolute_error(Y_train, svr.predict(X_train)))\n"
            ]
        },
        {
            "cell_type": "markdown",
            "id": "9e556b0d",
            "metadata": {},
            "source": [
                "**Mean Squared Error**\n",
                "\n",
                "Mean Squared Error loss function sum of the squared difference between actual and predicted value divided by a number of samples.\n",
                "\n",
                "$$ MSE=\\frac{1}{n}  \\sum_{i=1}^{n}(x_i-y_i)^2 $$\n"
            ]
        },
        {
            "cell_type": "code",
            "execution_count": 6,
            "id": "a7269d4b",
            "metadata": {},
            "outputs": [
                {
                    "name": "stdout",
                    "output_type": "stream",
                    "text": [
                        "Test MSE  : 56.633\n",
                        "Train MSE : 61.492\n"
                    ]
                }
            ],
            "source": [
                "from sklearn.metrics import mean_squared_error, mean_squared_log_error\n",
                "\n",
                "print('Test MSE  : %.3f'%mean_squared_error(Y_test, Y_preds))\n",
                "print('Train MSE : %.3f'%mean_squared_error(Y_train, svr.predict(X_train)))\n"
            ]
        },
        {
            "cell_type": "markdown",
            "id": "ab60019c",
            "metadata": {},
            "source": [
                "**Model Selection**\n",
                "\n",
                "In this excercise you will use polynomial fitting in a linear regression model and will try to find the optimal complexity by looking at the error for different models.   \n"
            ]
        },
        {
            "cell_type": "code",
            "execution_count": 7,
            "id": "dc1c1290",
            "metadata": {},
            "outputs": [],
            "source": [
                "import numpy as np\n",
                "import sklearn\n",
                "import matplotlib.pyplot as plt\n",
                "from sklearn.pipeline import Pipeline\n",
                "from sklearn.preprocessing import PolynomialFeatures\n",
                "from sklearn.linear_model import LinearRegression\n"
            ]
        },
        {
            "cell_type": "markdown",
            "id": "4fd59c47",
            "metadata": {},
            "source": [
                "**Dataset**\n",
                "\n",
                "Run the cell below to bulid the dataset and then split it to test and train sets. \n"
            ]
        },
        {
            "cell_type": "code",
            "execution_count": 8,
            "id": "b41af7d6",
            "metadata": {},
            "outputs": [
                {
                    "name": "stdout",
                    "output_type": "stream",
                    "text": [
                        "Train/Test Size :  (18,) (12,) (18,) (12,)\n"
                    ]
                }
            ],
            "source": [
                "from sklearn.model_selection import train_test_split\n",
                "\n",
                "#cosin function\n",
                "def true_fun(X):\n",
                "    return np.cos(1.5 * np.pi * X)\n",
                "\n",
                "np.random.seed(0)\n",
                "\n",
                "n_samples = 30\n",
                "\n",
                "X = np.sort(np.random.rand(n_samples))\n",
                "y = true_fun(X) + np.random.randn(n_samples) * 0.1\n",
                "\n",
                "\n",
                "X_train, X_test, Y_train, Y_test = train_test_split(X, y, train_size=0.60, test_size=0.40, random_state=1)\n",
                "print('Train/Test Size : ', X_train.shape, X_test.shape, Y_train.shape, Y_test.shape)\n"
            ]
        },
        {
            "cell_type": "markdown",
            "id": "63ef4dde",
            "metadata": {},
            "source": [
                "**Polynomial model**\n",
                "\n",
                "In the next cell you will bulid a polynomial regression model. The Mean squred error for test and train set is claculated and printed. Change the \"order\" of the polynomial  and observe how the model performance vary.  \n"
            ]
        },
        {
            "cell_type": "code",
            "execution_count": 9,
            "id": "8e14fa40",
            "metadata": {},
            "outputs": [
                {
                    "name": "stdout",
                    "output_type": "stream",
                    "text": [
                        "MSE_test 0.018747943073095935\n",
                        "MSE_train 0.11116794774975625\n"
                    ]
                }
            ],
            "source": [
                "degree=3\n",
                "polynomial_features = PolynomialFeatures(degree=degree, include_bias=False)\n",
                "linear_regression = LinearRegression()\n",
                "pipeline = Pipeline(\n",
                "    [\n",
                "        (\"polynomial_features\", polynomial_features),\n",
                "        (\"linear_regression\", linear_regression),\n",
                "    ]\n",
                ")\n",
                "pipeline.fit(X_train[:, np.newaxis], Y_train)\n",
                "\n",
                "\n",
                "# Evaluate the models \n",
                "scores_mse = cross_val_score(\n",
                "        pipeline, X[:, np.newaxis], y, scoring=\"neg_mean_squared_error\", cv=10\n",
                "    )\n",
                "scores_mae = cross_val_score(\n",
                "    pipeline, X[:, np.newaxis], y, scoring=\"neg_mean_absolute_error\", cv=10\n",
                ")\n",
                "\n",
                "MSE=-scores_mse.mean()\n",
                "MAE=-scores_mae.mean()\n",
                "print(\"MSE_test\",MSE)\n",
                "print(\"MSE_train\",MAE)\n"
            ]
        },
        {
            "cell_type": "markdown",
            "id": "ab4d0f7d",
            "metadata": {},
            "source": [
                "## Model selection\n",
                "In this task you have to find the order of the polynomial model which has the best performance.\n",
                "\n",
                "- <i class=\"fas fa-code\"></i> Calculate Mean Squared Error(MSE) and Mean Absolute Error (MAE) using crossvlidation for orders of the polynomial ranging  from 1 to 9 and plot Error vs Complexity(1-9) based on MSE, MAE\n",
                "- <i class=\"fas fa-code\"></i> Find optimal complexity based on each metric. Does the optimal model differ for different metrics? If yes, how you justiy this? \n"
            ]
        },
        {
            "cell_type": "code",
            "execution_count": 10,
            "id": "dcdd982c",
            "metadata": {},
            "outputs": [
                {
                    "data": {
                        "text/plain": [
                            "<matplotlib.legend.Legend at 0x7fbbd0418c10>"
                        ]
                    },
                    "execution_count": 10,
                    "metadata": {},
                    "output_type": "execute_result"
                },
                {
                    "data": {
                        "image/png": "[encoded data removed]",
                        "text/plain": [
                            "<Figure size 432x288 with 1 Axes>"
                        ]
                    },
                    "metadata": {
                        "needs_background": "light"
                    },
                    "output_type": "display_data"
                }
            ],
            "source": []
        }
    ],
    "metadata": {
        "kernelspec": {
            "display_name": "Python 3 (ipykernel)",
            "language": "python",
            "name": "python3"
        },
        "language_info": {
            "codemirror_mode": {
                "name": "ipython",
                "version": 3
            },
            "file_extension": ".py",
            "mimetype": "text/x-python",
            "name": "python",
            "nbconvert_exporter": "python",
            "pygments_lexer": "ipython3",
            "version": "3.9.5"
        }
    },
    "nbformat": 4,
    "nbformat_minor": 5
}