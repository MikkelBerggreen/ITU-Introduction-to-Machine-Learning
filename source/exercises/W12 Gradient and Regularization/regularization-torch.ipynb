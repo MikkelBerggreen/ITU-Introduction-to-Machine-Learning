{
 "cells": [
  {
   "cell_type": "code",
   "execution_count": 23,
   "id": "2b3f1b42-5e15-4594-9088-2b572b1271f8",
   "metadata": {},
   "outputs": [],
   "source": [
    "import torch\n",
    "import math\n",
    "import numpy as np\n",
    "import matplotlib.pyplot as plt\n",
    "from sklearn.model_selection import train_test_split\n",
    "plt.style.use('seaborn')"
   ]
  },
  {
   "cell_type": "markdown",
   "id": "6e17450b-575c-4f41-966b-b24c1cfcf090",
   "metadata": {},
   "source": [
    "# {{ exercise }} Optimization and Regularization in pytroch"
   ]
  },
  {
   "cell_type": "markdown",
   "id": "384308bd-0751-4608-9818-e9b05f4b4306",
   "metadata": {},
   "source": [
    "In this exercise, you will use the pytorch library to perform polynomial regression (of $n^{th}$-order) on different types of data.\n",
    "While we have already seen in earlier exercises that polynomial regression is a linear problem that can be optimized with least squares. In this exercerise, however, we will use the iterative gradient descent optimization, where the parameters are iteratively adjusted in the negative direction of the gradient. \n",
    "\n",
    "$$\\theta_{t+1} = \\theta_t-\\gamma\\nabla_{\\theta_t}\\mathcal{L}$$\n",
    "where $\\theta$ is the trainable weight of the model, $t$ is the current number of training steps, $\\mathcal{L}$ is the loss, and $\\gamma$ is the learning rate. \n",
    "\\\n",
    "The primary loss function throughout the exercise will be the mean squared error (MSE),\n",
    "$$MSE = \\sum_i^n (y_i-\\hat{y}_i)^2,$$\n",
    "$\\hat{y}_i$ is the predicted value and $y_i$ is the target value. \n",
    "\n",
    "We will optimize the polynomial model\n",
    "$$f(x) = \\theta_0+ \\theta_1\\text{x}+\\theta_2\\text{x}^2 + \\theta_3\\text{x}^3 + \\ldots + \\theta_n\\text{x}^n$$\n",
    "due to its simplicity and how easy it is to interpret. \n",
    "\n",
    "The primary focus of the exercise is to implement both Ridge and Lasso regularization into the optimization rutine and test how they affect the perfomance of the model. \n",
    "Both Ridge and Lasso regularization involves adding a second term to the loss function that pushishes large values of the training parameters. \n",
    "\n",
    "Rigde:\n",
    "\n",
    "$$\\mathcal{L} = MSE + \\lambda\\sum_{i=0}^{n}\\theta_i^2$$\n",
    "\n",
    "Lasso:\n",
    "\n",
    "$$\\mathcal{L} = MSE + \\lambda\\sum_{i=0}^{n}|\\theta_i|$$\n",
    "\n",
    "where $\\lambda$ is the regularization constrant which determine the importance of the regularization term.\n",
    "\n",
    "## Task (A) \n",
    "In the cell below you are given the implementation and training rutine of the of the polynomial model using the pytorch library.\n",
    "\\\n",
    "<i class=\"fas fa-code\"></i> Read through the given code and comments, such thay you understand the model implementation and optimization process. \n",
    "\n",
    "\n",
    "<i class=\"fas fa-code\"></i> Make the function `L1_reg(model,LAMBDA_L2)` which takes the model and $\\lambda$ and return the value of the L2 (ridge) regularization term, see formula above. \n",
    "\n",
    "```{tip}\n",
    "Iterate over `model.parameters()` and use the method `torch.norm(weights, order)` to implement the regularizing terms in the loss function.\n",
    "```\n",
    "\n",
    "<i class=\"fas fa-code\"></i> Make the function `L1_reg(model,LAMBDA_L1)` which is identical to `L2_reg` but this time the L1 term is calculated and returned as output.\n"
   ]
  },
  {
   "cell_type": "code",
   "execution_count": 2,
   "id": "3801cf6e-e2d5-4bcd-bd0c-7e4c88080244",
   "metadata": {},
   "outputs": [
    {
     "name": "stdout",
     "output_type": "stream",
     "text": [
      "iteration:   99,lambda-value: 0.0000, training loss:  19.01833, MSE test data: 18.58396\n",
      "iteration: 1099,lambda-value: 0.0000, training loss:  0.27186, MSE test data: 0.26326\n",
      "iteration: 2099,lambda-value: 0.0000, training loss:  0.21607, MSE test data: 0.20679\n",
      "iteration: 3099,lambda-value: 0.0000, training loss:  0.19192, MSE test data: 0.18347\n",
      "iteration: 4099,lambda-value: 0.0000, training loss:  0.17117, MSE test data: 0.16371\n",
      "iteration: 5099,lambda-value: 0.0000, training loss:  0.15303, MSE test data: 0.14656\n",
      "iteration: 6099,lambda-value: 0.0000, training loss:  0.13711, MSE test data: 0.13159\n",
      "iteration: 7099,lambda-value: 0.0000, training loss:  0.12311, MSE test data: 0.11847\n",
      "iteration: 8099,lambda-value: 0.0000, training loss:  0.11079, MSE test data: 0.10695\n",
      "iteration: 9099,lambda-value: 0.0000, training loss:  0.09994, MSE test data: 0.09683\n",
      "iteration: 10099,lambda-value: 0.0000, training loss:  0.09038, MSE test data: 0.08793\n",
      "iteration: 11099,lambda-value: 0.0000, training loss:  0.08194, MSE test data: 0.08009\n",
      "iteration: 12099,lambda-value: 0.0000, training loss:  0.07450, MSE test data: 0.07318\n",
      "iteration: 13099,lambda-value: 0.0000, training loss:  0.06792, MSE test data: 0.06709\n",
      "iteration: 14099,lambda-value: 0.0000, training loss:  0.06209, MSE test data: 0.06170\n",
      "iteration: 15099,lambda-value: 0.0000, training loss:  0.05694, MSE test data: 0.05693\n",
      "iteration: 16099,lambda-value: 0.0000, training loss:  0.05236, MSE test data: 0.05271\n",
      "iteration: 17099,lambda-value: 0.0000, training loss:  0.04830, MSE test data: 0.04897\n",
      "iteration: 18099,lambda-value: 0.0000, training loss:  0.04469, MSE test data: 0.04565\n",
      "iteration: 19099,lambda-value: 0.0000, training loss:  0.04147, MSE test data: 0.04269\n"
     ]
    }
   ],
   "source": [
    "# Create Tensors to hold input and outputs\n",
    "### different data to train/fit you polynomial to\n",
    "#x = torch.linspace(-math.pi, math.pi, 2000)\n",
    "#y = torch.sin(x)\n",
    "### \n",
    "x =torch.linspace(-4, 4, 800)\n",
    "y = 0.2*x**3+0.8*x**2+2.5*x -1.0\n",
    "n= 5\n",
    "\n",
    "# PLACEHOLDER <<\n",
    "# def L1_reg(model,LAMBDA_L1):\n",
    "#      pass\n",
    "\n",
    "# def L2_reg(model,LAMBDA_L2):\n",
    "#      pass\n",
    "# >>\n",
    "\n",
    "def poly_model(x,y,n,iterations, learning_rate,lambda_reg=0.0): \n",
    "\n",
    "    p = torch.tensor(np.arange(1,n+1))\n",
    "    xx = x.unsqueeze(-1).pow(p)\n",
    "\n",
    "    ## Splitting of test and training data\n",
    "    X_train, X_test, y_train, y_test = train_test_split(xx, y, test_size=0.5, random_state=42)\n",
    "\n",
    "    # In the above code, x.unsqueeze(-1) has shape (2000, 1), and p has shape\n",
    "    # (n,), for this case, broadcasting semantics will apply to obtain a tensor\n",
    "    # of shape (2000, n)\n",
    "\n",
    "    # Normalize input\n",
    "    X_train = X_train/X_train.max(axis=0).values\n",
    "    X_test = X_test/X_test.max(axis=0).values\n",
    "\n",
    "    # Use the nn package to define our model as a sequence of layers. nn.Sequential\n",
    "    # is a Module which contains other Modules, and applies them in sequence to\n",
    "    # produce its output. The Linear Module computes output from input using a\n",
    "    # linear function, and holds internal Tensors for its weight and bias.\n",
    "    # The Flatten layer flatens the output of the linear layer to a 1D tensor,\n",
    "    # to match the shape of `y`.\n",
    "    model = torch.nn.Sequential(\n",
    "        torch.nn.Linear(n, 1),\n",
    "        torch.nn.Flatten(0, 1)\n",
    "    )\n",
    "\n",
    "    #model[0].weight[:,5:].data.fill_(torch.randn(1)[0]/1000)\n",
    "    # The nn package also contains definitions of popular loss functions; in this\n",
    "    # case we will use Mean Squared Error (MSE) as our loss function.\n",
    "    loss_fn = torch.nn.MSELoss(reduction='mean')\n",
    "    \n",
    "    for t in range(iterations):\n",
    "\n",
    "        # Forward pass: compute predicted y by passing x to the model. Module objects\n",
    "        # override the __call__ operator so you can call them like functions. When\n",
    "        # doing so you pass a Tensor of input data to the Module and it produces\n",
    "        # a Tensor of output data.\n",
    "        y_pred_train = model(X_train)\n",
    "        y_pred_test = model(X_test)\n",
    "\n",
    "        # Compute and print loss. We pass Tensors containing the predicted and target\n",
    "        # values of y, and the loss function returns a Tensor containing the\n",
    "        # loss.\n",
    "        # PLACEHOLDER <<\n",
    "        # loss = loss_fn(y_pred_train, y_train) ### add regularization term(s) here!!\n",
    "        # >>\n",
    "        loss_mse = loss_fn(y_pred_test, y_test).item()\n",
    "        if t % (iterations/20) ==99:\n",
    "            print(f'iteration: {t:4},lambda-value: {lambda_reg:4.4f}, training loss:  {loss.item():4.5f}, MSE test data: {loss_mse:4.5f}') #print the test MSE and training loss for certain iterations. \n",
    "\n",
    "\n",
    "        # Zero the gradients before running the backward pass.\n",
    "        model.zero_grad()\n",
    "\n",
    "        # Backward pass: compute gradient of the loss with respect to all the learnable\n",
    "        # parameters of the model. Internally, the parameters of each Module are stored\n",
    "        # in Tensors with requires_grad=True, so this call will compute gradients for\n",
    "        # all learnable parameters in the model.\n",
    "        loss.backward()\n",
    "\n",
    "        # Update the weights using gradient descent. Each parameter is a Tensor, so\n",
    "        # we can access its gradients like we did before.\n",
    "        with torch.no_grad():\n",
    "            for param in model.parameters():\n",
    "                param -= learning_rate * param.grad\n",
    "    return model, xx\n",
    "\n",
    "# PLACEHOLDER <<\n",
    "# ###====####\n",
    "# # copy code here\n",
    "# ###====#### \n",
    "# >>\n",
    "\n",
    "### hyper parameters  \n",
    "learning_rate = 1e-2\n",
    "lambda_reg = 0.00\n",
    "iterations = 20000\n",
    "model , xx = poly_model(x, y, n, iterations, learning_rate, lambda_reg)\n"
   ]
  },
  {
   "cell_type": "markdown",
   "id": "b948d2c7-ad63-4a27-abfb-2ed0a4c1eebf",
   "metadata": {},
   "source": [
    "## Questions\n",
    "<i class=\"fas fa-question\"></i> How does the test `loss_mse` perform different order of the polynomial. \n",
    "\n",
    "<i class=\"fas fa-code\"></i> Add the regularizing term from `L2_reg` to the `loss` variable in the code. \n",
    "\n",
    "<i class=\"fas fa-question \"></i> Cosider the `loss_mse` for different values of $\\lambda$ (the regularization constant/ `lambda_reg` variable), does adding Ridge regularization improve the model performance on the test data?\n",
    "<i class=\"fas fa-code\"></i> Add the regularizing term from `L1_reg` to the `loss` variable in the code.  \n",
    "\n",
    "<i class=\"fas fa-question \"></i> Cosider the `loss_mse` for different values of $\\lambda$ (the regularization constant/ `lambda_reg` variable), does adding Lasso regularization improve the model performance on the test data?\n",
    "\n",
    "<i class=\"fas fa-question \"></i> Why is regularization not useful in this case?"
   ]
  },
  {
   "cell_type": "markdown",
   "id": "5ebb50c2-33e1-4ee0-bb40-13b3590e4839",
   "metadata": {},
   "source": [
    "The code in the cell below plots the model predicted values $\\hat{y_i}$ and target values $y_i$."
   ]
  },
  {
   "cell_type": "code",
   "execution_count": 24,
   "id": "a5fde9bc-242d-4a4b-ad49-e95696417bc6",
   "metadata": {},
   "outputs": [
    {
     "data": {
      "image/png": "[encoded data removed]",
      "text/plain": [
       "<Figure size 576x432 with 1 Axes>"
      ]
     },
     "metadata": {},
     "output_type": "display_data"
    }
   ],
   "source": [
    "### plotting the data and predictions to visualize model performance\n",
    "pred = model(xx/xx.max(axis=0).values)\n",
    "fig = plt.figure(figsize=(8,6))\n",
    "plt.plot(x,y,'p',color='blue',label='target')\n",
    "plt.plot(x,pred.detach(),'o',color='orange',label='prediction')\n",
    "plt.xlabel('x')\n",
    "plt.ylabel('y')\n",
    "plt.legend()\n",
    "plt.show()"
   ]
  },
  {
   "cell_type": "markdown",
   "id": "3f94dc76-c8b4-4704-b6ec-3dded13b00b7",
   "metadata": {},
   "source": [
    "<i class=\"fas fa-question \"></i> What happens with the predictions in the plot above when you increase the regularization constant $\\lambda$?"
   ]
  },
  {
   "cell_type": "markdown",
   "id": "5bb31a77-da42-47c1-b43c-f29e6f70ba2e",
   "metadata": {},
   "source": [
    "# Task (B)\n",
    "Now we consider a new dataset where statistical noise is added. Use `Poly_model()` from the cell above to answer the following tasks/questions:\n",
    "\n",
    "<i class=\"fas fa-code\"></i> Start by having training a $9^{th}$-order polynomial model, how is (for both Rigde and Lasso regularization) `loss_mse` affefected by slowly by increasing the `lambda_reg`? \n",
    "\n",
    "<i class=\"fas fa-code\"></i> Find any difference in results between Rigde and Lasso regulatization? `hint` try setting `$n$` to a much higher number (eg. 50).\n",
    "\n",
    "<i class=\"fas fa-code\"></i> Increase `N_points` to 5000 ($n=9$ again) is ridge and/or lasso regularization still worth doing? (argue why/ why not)\n",
    "\n",
    "<i class=\"fas fa-question\"></i> Consider, how how you would find the value for `lambda_reg` which results in the lowest test MSE (`loss_mse`)? Instead of just trying different values manually.\n"
   ]
  },
  {
   "cell_type": "code",
   "execution_count": 25,
   "id": "6408daf1-15ee-4500-9b97-7f8b43eb2516",
   "metadata": {},
   "outputs": [
    {
     "name": "stdout",
     "output_type": "stream",
     "text": [
      "iteration:   99,lambda-value: 0.0000, training loss:  9.99606, MSE test data: 16.25507\n",
      "iteration: 1099,lambda-value: 0.0000, training loss:  2.78073, MSE test data: 3.53777\n",
      "iteration: 2099,lambda-value: 0.0000, training loss:  2.70329, MSE test data: 3.45632\n",
      "iteration: 3099,lambda-value: 0.0000, training loss:  2.68458, MSE test data: 3.52205\n",
      "iteration: 4099,lambda-value: 0.0000, training loss:  2.66978, MSE test data: 3.60648\n",
      "iteration: 5099,lambda-value: 0.0000, training loss:  2.65708, MSE test data: 3.69746\n",
      "iteration: 6099,lambda-value: 0.0000, training loss:  2.64596, MSE test data: 3.79158\n",
      "iteration: 7099,lambda-value: 0.0000, training loss:  2.63609, MSE test data: 3.88700\n",
      "iteration: 8099,lambda-value: 0.0000, training loss:  2.62724, MSE test data: 3.98246\n",
      "iteration: 9099,lambda-value: 0.0000, training loss:  2.61924, MSE test data: 4.07708\n",
      "iteration: 10099,lambda-value: 0.0000, training loss:  2.61196, MSE test data: 4.17031\n",
      "iteration: 11099,lambda-value: 0.0000, training loss:  2.60529, MSE test data: 4.26171\n",
      "iteration: 12099,lambda-value: 0.0000, training loss:  2.59915, MSE test data: 4.35107\n",
      "iteration: 13099,lambda-value: 0.0000, training loss:  2.59347, MSE test data: 4.43822\n",
      "iteration: 14099,lambda-value: 0.0000, training loss:  2.58819, MSE test data: 4.52311\n",
      "iteration: 15099,lambda-value: 0.0000, training loss:  2.58327, MSE test data: 4.60571\n",
      "iteration: 16099,lambda-value: 0.0000, training loss:  2.57866, MSE test data: 4.68608\n",
      "iteration: 17099,lambda-value: 0.0000, training loss:  2.57435, MSE test data: 4.76430\n",
      "iteration: 18099,lambda-value: 0.0000, training loss:  2.57030, MSE test data: 4.84033\n",
      "iteration: 19099,lambda-value: 0.0000, training loss:  2.56648, MSE test data: 4.91434\n"
     ]
    }
   ],
   "source": [
    "\n",
    "# Create Tensors to hold input and outputs\n",
    "### different data to train/fit you polynomial to\n",
    "### \n",
    "N_points = 50\n",
    "x =torch.linspace(-3, 3, N_points)\n",
    "y = 0.2*x**3+0.8*x**2+2.5*x -1.0\n",
    "### add random noise\n",
    "noise = torch.randn(y.size())*2 + 0\n",
    "y = y + noise\n",
    "n = 50 ## order of polynomial fit\n",
    "\n",
    "learning_rate = 1e-2\n",
    "lambda_reg = 0.0\n",
    "iterations = 20000\n",
    "model , xx = poly_model(x,y,n,iterations, learning_rate,lambda_reg)"
   ]
  },
  {
   "cell_type": "code",
   "execution_count": 26,
   "id": "487dfec0-aeac-4e63-8fd3-2daa7e1c3134",
   "metadata": {},
   "outputs": [
    {
     "data": {
      "image/png": "[encoded data removed]",
      "text/plain": [
       "<Figure size 576x432 with 1 Axes>"
      ]
     },
     "metadata": {},
     "output_type": "display_data"
    }
   ],
   "source": [
    "### plotting the data and predictions to visualize model performance\n",
    "pred = model(xx/xx.max(axis=0).values)\n",
    "fig = plt.figure(figsize=(8,6))\n",
    "plt.plot(x,y,'p',color='blue',label='target')\n",
    "plt.plot(x,pred.detach(),'o',color='orange',label='prediction')\n",
    "plt.xlabel('x')\n",
    "plt.ylabel('y')\n",
    "plt.legend()\n",
    "plt.show()"
   ]
  },
  {
   "cell_type": "code",
   "execution_count": 34,
   "id": "fadf86fe",
   "metadata": {},
   "outputs": [
    {
     "name": "stdout",
     "output_type": "stream",
     "text": [
      "(51,)\n"
     ]
    },
    {
     "data": {
      "image/png": "[encoded data removed]",
      "text/plain": [
       "<Figure size 720x720 with 1 Axes>"
      ]
     },
     "metadata": {},
     "output_type": "display_data"
    }
   ],
   "source": [
    "## Plot the weights of the models\n",
    "\n",
    "# array of the model weights \n",
    "weights = torch.cat([x.view(-1) for x in model.parameters()]).detach().numpy()\n",
    "print(weights.shape)\n",
    "\n",
    "#### code for histogram of model parameter/weight values here #### \n"
   ]
  }
 ],
 "metadata": {
  "kernelspec": {
   "display_name": "Python 3.9.5 ('test')",
   "language": "python",
   "name": "python3"
  },
  "language_info": {
   "codemirror_mode": {
    "name": "ipython",
    "version": 3
   },
   "file_extension": ".py",
   "mimetype": "text/x-python",
   "name": "python",
   "nbconvert_exporter": "python",
   "pygments_lexer": "ipython3",
   "version": "3.9.5"
  },
  "vscode": {
   "interpreter": {
    "hash": "7da34bf825f88e32158564d567d736ca6f8c574890b002d9433796d1d18fb610"
   }
  }
 },
 "nbformat": 4,
 "nbformat_minor": 5
}
