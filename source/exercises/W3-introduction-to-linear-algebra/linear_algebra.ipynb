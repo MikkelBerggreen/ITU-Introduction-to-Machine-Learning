{
    "cells": [
        {
            "cell_type": "code",
            "execution_count": 2,
            "metadata": {
                "jupyter": {
                    "source_hidden": true
                },
                "tags": [
                    "remove-cell"
                ]
            },
            "outputs": [
                {
                    "data": {
                        "text/html": [
                            "<script src=\"https://kit.fontawesome.com/751ade44c1.js\" crossorigin=\"anonymous\"></script>\n",
                            "\n",
                            "<style>\n",
                            ":root {\n",
                            "    --red: #d9534f;\n",
                            "    --yellow: #f0ad4e;\n",
                            "    --green: #5cb85c;\n",
                            "    --blue: #0275d8;\n",
                            "    --light-blue: #5bc0de;\n",
                            "    --dark-blue: #073b4c;\n",
                            "    --purple: #6A4C93;\n",
                            "}\n",
                            "    \n",
                            ".important {\n",
                            "    color: var(--yellow);\n",
                            "}\n",
                            "\n",
                            ".optional {\n",
                            "    color: var(--green);\n",
                            "}\n",
                            "</style>\n"
                        ],
                        "text/plain": [
                            "<IPython.core.display.HTML object>"
                        ]
                    },
                    "metadata": {},
                    "output_type": "display_data"
                }
            ],
            "source": [
                "%%html\n",
                "<script src=\"https://kit.fontawesome.com/751ade44c1.js\" crossorigin=\"anonymous\"></script>\n",
                "\n",
                "<style>\n",
                ":root {\n",
                "    --red: #d9534f;\n",
                "    --yellow: #f0ad4e;\n",
                "    --green: #5cb85c;\n",
                "    --blue: #0275d8;\n",
                "    --light-blue: #5bc0de;\n",
                "    --dark-blue: #073b4c;\n",
                "    --purple: #6A4C93;\n",
                "}\n",
                "    \n",
                ".important {\n",
                "    color: var(--yellow);\n",
                "}\n",
                "\n",
                ".optional {\n",
                "    color: var(--green);\n",
                "}\n",
                "</style>\n"
            ]
        },
        {
            "cell_type": "markdown",
            "metadata": {},
            "source": [
                "# <i class=\"fas fa-circle exercise\"></i>Linear Algebra using Python and Numpy\n",
                "<span class=\"badge badge-pill important-bg\">exercise</span> <span class=\"badge badge-pill badge-dark\">notebook</span>\n",
                "\n",
                "\n",
                "This exercise introduces basic linear algebra operations in Numpy as well as how to use it to solve systems of linear equations. Your goal should be to familiarise yourself with the theoretical linear algebra concepts and learn some standard applications in Numpy. We cover the following topics :\n",
                "\n",
                "* Basic matrix operations (elementwise operations, transpose, multiplication, inverse)\n",
                "* Properties of matrix multiplication and inversion\n",
                "* Linear equations in matrix form\n",
                "* Solving linear equations using matrix inverses\n"
            ]
        },
        {
            "cell_type": "markdown",
            "metadata": {},
            "source": [
                "## Matrix operations and algebra\n",
                "In this exercise you will perform basic linear algebra operations using Numpy.\n"
            ]
        },
        {
            "cell_type": "code",
            "execution_count": 1,
            "metadata": {},
            "outputs": [],
            "source": [
                "import numpy as np\n",
                "import matplotlib.pyplot as plt\n"
            ]
        },
        {
            "cell_type": "code",
            "execution_count": 6,
            "metadata": {},
            "outputs": [],
            "source": [
                "# Define matrices to be used in the tasks:\n",
                "A = np.array([\n",
                "    [1, 0.5, 1/3, 0.25],\n",
                "    [0.5, 1/3, 0.25, 0.2],\n",
                "    [1/3, 0.25, 0.2, 1/6],\n",
                "    [0.25, 0.2, 1/6, 1/7]\n",
                "])\n",
                "\n",
                "B = np.array([\n",
                "    [-16, 15, -14, 13],\n",
                "    [-12, 11, -10, 9],\n",
                "    [-8, 7, -6, 5],\n",
                "    [-4, 3, -2, 1]\n",
                "])\n",
                "\n",
                "C = np.array([\n",
                "    [1, 1/2, 1/3, 1/4],\n",
                "    [1/2, 1/3, 1/4, 1/5],\n",
                "    [1/3, 1/5, 1/7, 1/9],\n",
                "    [1/4, 1/7, 1/8, 1/9],\n",
                "])\n",
                "\n"
            ]
        },
        {
            "cell_type": "markdown",
            "metadata": {},
            "source": [
                "### Task A):\n",
                "1. Calculate $A-B$. Then convert each of $A$, $B$, to `np.float16` (use `np.float16(a)`) and try again. Do you observe any differences?\n"
            ]
        },
        {
            "cell_type": "code",
            "execution_count": 9,
            "metadata": {},
            "outputs": [
                {
                    "name": "stdout",
                    "output_type": "stream",
                    "text": [
                        "[[ 17.         -14.5         14.33333333 -12.75      ]\n",
                        " [ 12.5        -10.66666667  10.25        -8.8       ]\n",
                        " [  8.33333333  -6.75         6.2         -4.83333333]\n",
                        " [  4.25        -2.8          2.16666667  -0.85714286]]\n",
                        "[[ 17.    -14.5    14.336 -12.75 ]\n",
                        " [ 12.5   -10.664  10.25   -8.8  ]\n",
                        " [  8.336  -6.75    6.2    -4.832]\n",
                        " [  4.25   -2.8     2.166  -0.857]]\n"
                    ]
                }
            ],
            "source": [
                "print(A-B)\n",
                "print(np.float16(A-B))"
            ]
        },
        {
            "cell_type": "markdown",
            "metadata": {},
            "source": [
                "2. Show that $AC \\not= CA$. Use the function `np.dot()`. \n"
            ]
        },
        {
            "cell_type": "code",
            "execution_count": 12,
            "metadata": {},
            "outputs": [
                {
                    "name": "stdout",
                    "output_type": "stream",
                    "text": [
                        "[[1.42361111 0.76904762 0.53720238 0.41481481]\n",
                        " [0.8        0.43968254 0.31071429 0.24166667]\n",
                        " [0.56666667 0.31380952 0.22301587 0.17407407]\n",
                        " [0.44126984 0.24540816 0.175      0.13689153]]\n",
                        "[[1.42361111 0.8        0.56666667 0.44126984]\n",
                        " [0.8        0.46361111 0.33333333 0.26190476]\n",
                        " [0.50873016 0.29126984 0.20820106 0.16301587]\n",
                        " [0.39087302 0.22609127 0.16256614 0.12777778]]\n"
                    ]
                }
            ],
            "source": [
                "print(np.dot(A, C))\n",
                "print(np.dot(C, A))"
            ]
        },
        {
            "cell_type": "markdown",
            "metadata": {},
            "source": [
                "3. Use the `*` operator to calculate `A*C`. Explain the difference between the operators `np.dot` and `*`.\n"
            ]
        },
        {
            "cell_type": "code",
            "execution_count": 14,
            "metadata": {},
            "outputs": [
                {
                    "name": "stdout",
                    "output_type": "stream",
                    "text": [
                        "[[1.         0.25       0.11111111 0.0625    ]\n",
                        " [0.25       0.11111111 0.0625     0.04      ]\n",
                        " [0.11111111 0.05       0.02857143 0.01851852]\n",
                        " [0.0625     0.02857143 0.02083333 0.01587302]]\n",
                        "[[1.42361111 0.76904762 0.53720238 0.41481481]\n",
                        " [0.8        0.43968254 0.31071429 0.24166667]\n",
                        " [0.56666667 0.31380952 0.22301587 0.17407407]\n",
                        " [0.44126984 0.24540816 0.175      0.13689153]]\n"
                    ]
                }
            ],
            "source": [
                "print(A*C)\n",
                "print(np.dot(A, C))\n",
                "\n",
                "# * multiplies each value in one matrix with the corresponding positioned value in the other matrix\n",
                "# np.dot calculates the dot product, which is not the same"
            ]
        },
        {
            "cell_type": "markdown",
            "metadata": {},
            "source": [
                "4. Use `np.linalg.inv` to calculate  the inverse of $A$ and $C$. ([np.linalg.inv](https://docs.scipy.org/doc/numpy/reference/generated/numpy.linalg.inv.html))\n"
            ]
        },
        {
            "cell_type": "code",
            "execution_count": 17,
            "metadata": {},
            "outputs": [
                {
                    "name": "stdout",
                    "output_type": "stream",
                    "text": [
                        "[[   16.  -120.   240.  -140.]\n",
                        " [ -120.  1200. -2700.  1680.]\n",
                        " [  240. -2700.  6480. -4200.]\n",
                        " [ -140.  1680. -4200.  2800.]]\n",
                        "[[   -72.   -225.    525.     42.]\n",
                        " [  1260.   3675.  -8820.   -630.]\n",
                        " [ -3696. -10710.  25830.   1764.]\n",
                        " [  2700.   7830. -18900.  -1260.]]\n"
                    ]
                }
            ],
            "source": [
                "print(np.linalg.inv(A))\n",
                "print(np.linalg.inv(C))"
            ]
        },
        {
            "cell_type": "markdown",
            "metadata": {},
            "source": [
                "5. Calculate $AA^{-1}$ and $CC^{-1}$. Explain the results.  *Note: You may want to use `np.around(a, dec)` ([np.around(a, dec)](https://docs.scipy.org/doc/numpy/reference/generated/numpy.around.html#numpy.around)) to round the results for easy visual inspection*.\n"
            ]
        },
        {
            "cell_type": "code",
            "execution_count": 23,
            "metadata": {},
            "outputs": [
                {
                    "name": "stdout",
                    "output_type": "stream",
                    "text": [
                        "[[ 1.  0.  0.  0.]\n",
                        " [-0.  1. -0.  0.]\n",
                        " [ 0.  0.  1. -0.]\n",
                        " [ 0.  0.  0.  1.]]\n",
                        "[[ 1.  0.  0.  0.]\n",
                        " [-0.  1.  0.  0.]\n",
                        " [-0.  0.  1.  0.]\n",
                        " [-0.  0. -0.  1.]]\n"
                    ]
                }
            ],
            "source": [
                "invA = np.linalg.inv(A)\n",
                "invC = np.linalg.inv(C)\n",
                "\n",
                "print(np.around(np.dot(A, invA)))\n",
                "print(np.around(np.dot(C, invC)))"
            ]
        },
        {
            "cell_type": "markdown",
            "metadata": {},
            "source": [
                "### Task B)\n",
                "Define two matrices $D$ and $E$ and  their inverses:\n"
            ]
        },
        {
            "cell_type": "code",
            "execution_count": 24,
            "metadata": {},
            "outputs": [],
            "source": [
                "D = np.array([\n",
                "    [2, 4, 5/2],\n",
                "    [-3/4, 2, 0.25],\n",
                "    [0.25, 0.5, 2]\n",
                "])\n",
                "\n",
                "E = np.array([\n",
                "    [1, -0.5, 3/4],\n",
                "    [3/2, 0.5, -2],\n",
                "    [0.25, 1, 0.5]\n",
                "])\n",
                "\n",
                "D_inv = np.linalg.inv(D)\n",
                "E_inv = np.linalg.inv(E)\n"
            ]
        },
        {
            "cell_type": "markdown",
            "metadata": {},
            "source": [
                "1-a. Show that $D^{-1}E^{-1}$ equals to $(ED)^{-1}$.\n",
                "\n",
                "1-b. Show that $D^{-1}E^{-1}$ is not equal  to $(DE)^{-1}$.\n"
            ]
        },
        {
            "cell_type": "code",
            "execution_count": 27,
            "metadata": {},
            "outputs": [
                {
                    "name": "stdout",
                    "output_type": "stream",
                    "text": [
                        "[[ 0.25261376  0.13578836 -0.51301587]\n",
                        " [-0.08601058  0.11462434  0.18539683]\n",
                        " [ 0.16592593 -0.18962963  0.17777778]]\n",
                        "[[ 0.25261376  0.13578836 -0.51301587]\n",
                        " [-0.08601058  0.11462434  0.18539683]\n",
                        " [ 0.16592593 -0.18962963  0.17777778]]\n"
                    ]
                }
            ],
            "source": [
                "print(np.dot(D_inv, E_inv))\n",
                "print(np.linalg.inv(np.dot(E, D)))"
            ]
        },
        {
            "cell_type": "markdown",
            "metadata": {},
            "source": [
                "2-a. Show why $(D^{-1})^T=(D^T)^{-1}$ as was proved in the pen and paper exercise. \n",
                "\n",
                "The transpose of an array $D$ in Numpy can be calculated with `D.T`.\n"
            ]
        },
        {
            "cell_type": "code",
            "execution_count": 32,
            "metadata": {},
            "outputs": [
                {
                    "name": "stdout",
                    "output_type": "stream",
                    "text": [
                        "[[ 0.32804233  0.13227513 -0.07407407]\n",
                        " [-0.57142857  0.28571429  0.        ]\n",
                        " [-0.33862434 -0.2010582   0.59259259]]\n",
                        "[[ 0.32804233  0.13227513 -0.07407407]\n",
                        " [-0.57142857  0.28571429 -0.        ]\n",
                        " [-0.33862434 -0.2010582   0.59259259]]\n",
                        "[ 1. -1.]\n"
                    ]
                }
            ],
            "source": [
                "print(D_inv.T)\n",
                "print(np.linalg.inv(D.T))\n"
            ]
        },
        {
            "cell_type": "markdown",
            "metadata": {},
            "source": [
                "## Linear equations\n"
            ]
        },
        {
            "cell_type": "markdown",
            "metadata": {},
            "source": [
                " Matrices can represent systems of linear equations \n",
                "\n",
                "$$\n",
                "Ax=b\n",
                "$$\n",
                "where $A$ is the coefficient matrix, $x$ vector of unknowns, and $b$ is a vector of the dependent variables.\n",
                " \n",
                "A solution can be found using\n",
                "\n",
                "$$\n",
                "\\begin{align*}\n",
                "A^{-1}Ax&=A^{-1}b\\\\\n",
                "x &= A^{-1}b.\n",
                "\\end{align*}\n",
                "$$\n",
                "\n",
                "### Task C)\n",
                "For each of the following sets of linear equations determine whether a unique solution exits:\n",
                "\\\n",
                "*Hint:* A matrix is invertible when its determinant is different from zero.\n",
                "\n",
                "a)\n",
                "\n",
                "$$ \n",
                "\\begin{align*}\n",
                "2x + 3y  &= -1\\\\\n",
                "x + y  &= 0\\\\\n",
                "\\end{align*}\n",
                "$$\n",
                "\n",
                "b)\n",
                "\n",
                "$$\n",
                "\\begin{align*}\n",
                "1x + 0y  &= 5\\\\\n",
                "0x + 1y  &= 7\\\\\n",
                "\\end{align*}\n",
                "$$\n",
                "\n",
                "c)\n",
                "\n",
                "$$\n",
                "\\begin{align*}\n",
                "0x + y  &= -1\\\\\n",
                "-2x + -3y  &= 2\\\\\n",
                "\\end{align*}\n",
                "$$\n",
                "\n",
                "d)\n",
                "\n",
                "$$\n",
                "\\begin{align*}\n",
                "x + -3y + 3z &= 0.5\\\\\n",
                "x - 5y + 3z& = 0.5\\\\\n",
                "6z + -6y + 4x &= 1.\n",
                "\\end{align*}\n",
                "$$\n",
                "\n",
                "e)\n",
                "\n",
                "$$\n",
                "\\begin{align*}\n",
                "2x + 3y + 4z &= 2\\\\\n",
                "x + 4z + y &= -2\\\\\n",
                "4z + 5y + 2x &= 3.\n",
                "\\end{align*}\n",
                "$$\n",
                "\n",
                "f)\n",
                "\n",
                "$$\n",
                "\\begin{align*}\n",
                "x + y + z &= 2\\\\\n",
                "2x + 2z + 2y &= -2\\\\\n",
                "3z + 3y + 3x &= 3.\n",
                "\\end{align*}\n",
                "$$\n"
            ]
        },
        {
            "cell_type": "code",
            "execution_count": 39,
            "metadata": {},
            "outputs": [
                {
                    "name": "stdout",
                    "output_type": "stream",
                    "text": [
                        "a)\n",
                        "[ 1. -1.]\n",
                        "b)\n",
                        "[5. 7.]\n",
                        "c)\n",
                        "[ 0.5 -1. ]\n",
                        "d)\n",
                        "[ 7.93016446e-18 -3.96508223e-18  1.66666667e-01]\n",
                        "e)\n",
                        "[ 3.     0.5   -1.375]\n"
                    ]
                }
            ],
            "source": [
                "print('a)')\n",
                "print(np.linalg.solve(np.array([[2, 3], [1, 1]]), np.array([-1, 0])))\n",
                "print('b)')\n",
                "print(np.linalg.solve(np.array([[1, 0], [0, 1]]), np.array([5, 7])))\n",
                "print('c)')\n",
                "print(np.linalg.solve(np.array([[0, 1], [-2, -3]]), np.array([-1, 2])))\n",
                "print('d)')\n",
                "print(np.linalg.solve(np.array([[1, -3, 3], [1, -5, 3], [4, -6, 6]]), np.array([0.5, 0.5, 1])))\n",
                "print('e)')\n",
                "print(np.linalg.solve(np.array([[2, 3, 4], [1, 1, 4], [2, 5, 4]]), np.array([2, -2, 3])))\n",
                "\n"
            ]
        }
    ],
    "metadata": {
        "kernelspec": {
            "display_name": "Python 3.9.13 ('iaml')",
            "language": "python",
            "name": "python3"
        },
        "language_info": {
            "codemirror_mode": {
                "name": "ipython",
                "version": 3
            },
            "file_extension": ".py",
            "mimetype": "text/x-python",
            "name": "python",
            "nbconvert_exporter": "python",
            "pygments_lexer": "ipython3",
            "version": "3.9.13"
        },
        "vscode": {
            "interpreter": {
                "hash": "28639c5af99c749e34dfe6e3a394e8201230bfd30612e23d9ec6dde41159fd64"
            }
        }
    },
    "nbformat": 4,
    "nbformat_minor": 4
}
