{
    "cells": [
        {
            "cell_type": "code",
            "execution_count": 1,
            "metadata": {
                "jupyter": {
                    "source_hidden": true
                },
                "tags": [
                    "remove-cell"
                ]
            },
            "outputs": [
                {
                    "data": {
                        "text/html": [
                            "<script src=\"https://kit.fontawesome.com/751ade44c1.js\" crossorigin=\"anonymous\"></script>\n",
                            "\n",
                            "<style>\n",
                            ":root {\n",
                            "    --red: #d9534f;\n",
                            "    --yellow: #f0ad4e;\n",
                            "    --green: #5cb85c;\n",
                            "    --blue: #0275d8;\n",
                            "    --light-blue: #5bc0de;\n",
                            "    --dark-blue: #073b4c;\n",
                            "    --purple: #6A4C93;\n",
                            "}\n",
                            "    \n",
                            ".important {\n",
                            "    color: var(--yellow);\n",
                            "}\n",
                            "\n",
                            ".optional {\n",
                            "    color: var(--green);\n",
                            "}\n",
                            "</style>\n"
                        ],
                        "text/plain": [
                            "<IPython.core.display.HTML object>"
                        ]
                    },
                    "metadata": {},
                    "output_type": "display_data"
                }
            ],
            "source": [
                "%%html\n",
                "<script src=\"https://kit.fontawesome.com/751ade44c1.js\" crossorigin=\"anonymous\"></script>\n",
                "\n",
                "<style>\n",
                ":root {\n",
                "    --red: #d9534f;\n",
                "    --yellow: #f0ad4e;\n",
                "    --green: #5cb85c;\n",
                "    --blue: #0275d8;\n",
                "    --light-blue: #5bc0de;\n",
                "    --dark-blue: #073b4c;\n",
                "    --purple: #6A4C93;\n",
                "}\n",
                "    \n",
                ".important {\n",
                "    color: var(--yellow);\n",
                "}\n",
                "\n",
                ".optional {\n",
                "    color: var(--green);\n",
                "}\n",
                "</style>\n"
            ]
        },
        {
            "cell_type": "markdown",
            "metadata": {
                "pycharm": {
                    "name": "#%% md\n"
                }
            },
            "source": [
                "# <i class=\"fas fa-circle exercise\"></i> Geometric transformations\n",
                "<span class=\"badge badge-pill badge-warning\">exercise</span><span class=\"badge badge-pill badge-dark\">notebook</span>\n"
            ]
        },
        {
            "cell_type": "code",
            "execution_count": 1,
            "metadata": {
                "collapsed": false,
                "jupyter": {
                    "outputs_hidden": false
                },
                "pycharm": {
                    "name": "#%%\n"
                }
            },
            "outputs": [],
            "source": [
                "import math\n",
                "import matplotlib.pyplot as plt\n",
                "import numpy as np\n"
            ]
        },
        {
            "cell_type": "markdown",
            "metadata": {},
            "source": [
                "\n",
                "## Geometric Transformations\n",
                "\n",
                "In this exercise, you will create matrices and apply linear geometric transformations in vectors and points on the\n",
                "homogeneous and Euclidean coordinate systems. We cover the following topics:\n",
                "\n",
                "* Rotations and translations using homogeneous coordinates.\n",
                "* Bases and transforming points between them.\n",
                "\n",
                "\n",
                "We use the following helper functions for making the visualisation easier. Feel free to study the code:\n"
            ]
        },
        {
            "cell_type": "code",
            "execution_count": 1,
            "metadata": {},
            "outputs": [],
            "source": [
                "def config_plot(title, data, data_type):\n",
                "    \"\"\"Setup plot layout. This is purely for making the plots easier to read.\n",
                "    \n",
                "    The details are not important for understanding the course material.\n",
                "    \"\"\"\n",
                "    rows, cols = data.shape\n",
                "    \n",
                "    plt.title(title)\n",
                "    plt.grid(b=True, which=\"major\")\n",
                "    plt.legend([f'{data_type}{i+1}' for i in range(cols)])\n",
                "    plt.axis('scaled')\n",
                "    plt.plot(0, 0, \"ok\")\n",
                "\n",
                "    plt.xlabel(\"X-Axis\")\n",
                "    plt.ylabel(\"Y-Axis\")\n",
                "    \n",
                "    max_values = 1.3 * np.max(abs(data.T), axis = 0)\n",
                "    plt.xlim([-max_values[0], max_values[0]])\n",
                "    plt.ylim([-max_values[1], max_values[1]])\n",
                "    \n",
                "    plt.show()\n",
                "\n",
                "def show_vectors(vectors, title=\"Vectors\", origin=(0, 0)):\n",
                "    \"\"\"Helper that displays vectors using Matplotlib. \n",
                "    \n",
                "    The details are not important for understanding the course material.\"\"\"\n",
                "    rows, cols = vectors.shape\n",
                "\n",
                "    for i in range(0, cols):\n",
                "        xs = [origin[0], vectors[0, i]]\n",
                "        ys = [origin[1], vectors[1, i]]\n",
                "        plt.plot(xs, ys, \"-\", linewidth=2)\n",
                "    \n",
                "    config_plot(title, vectors, 'v')\n",
                "\n",
                "def show_points(points, title=\"Points\"):\n",
                "    \"\"\"Helper that displays points using Matplotlib. \n",
                "    \n",
                "    The details are not important for understanding the course material.\"\"\"\n",
                "    rows, cols = points.shape\n",
                "\n",
                "    for i in range(0, cols):\n",
                "        xs = points[0, i]\n",
                "        ys = points[1, i]\n",
                "        plt.plot(xs, ys, \"o\", linewidth=2)\n",
                "    \n",
                "    config_plot(title, points, 'p')\n"
            ]
        },
        {
            "cell_type": "markdown",
            "metadata": {},
            "source": [
                "The rotation matrix ($R$) in two dimensions is given by:\n",
                "\n",
                "$$R = \\left[\n",
                "\t\\begin{array}{r r}\n",
                "\t\t\\cos(\\theta) & -\\sin(\\theta)\\\\\n",
                "\t\t\\sin(\\theta) & \\cos(\\theta)\n",
                "\t\\end{array}\n",
                "\\right],$$\n",
                "\n",
                "where $\\theta$ is the rotation angle around the origin $(0, 0)$.\n",
                "\n",
                "### <i class=\"fas fa-thermometer-quarter important\"></i> Task (A)\n",
                "1. **Create rotation matrices:** Implement the function `get_2d_rotation_matrix()` below which, given an input angle\n",
                "`theta` (in radians) returns the rotation matrix `R`:\n"
            ]
        },
        {
            "cell_type": "code",
            "execution_count": 2,
            "metadata": {},
            "outputs": [],
            "source": [
                "def get_2d_rotation_matrix(theta):\n",
                "    \"\"\"Return a rotation matrix for the specified input angle theta.\"\"\"\n",
                "    ...\n"
            ]
        },
        {
            "cell_type": "markdown",
            "metadata": {},
            "source": [
                "2. **Test the function:** Test your function by multiplying the rotation matrix with the vector $[0, 1]^T$ for the\n",
                "following values of $\\theta$: $0, \\pi/2, \\pi, 1.5\\pi, 2\\pi$. Print the results.\n"
            ]
        },
        {
            "cell_type": "code",
            "execution_count": 4,
            "metadata": {},
            "outputs": [
                {
                    "name": "stdout",
                    "output_type": "stream",
                    "text": [
                        "[[-1.000000e+00]\n",
                        " [ 6.123234e-17]]\n",
                        "[[-1.2246468e-16]\n",
                        " [-1.0000000e+00]]\n",
                        "[[ 1.0000000e+00]\n",
                        " [-1.8369702e-16]]\n",
                        "[[-0.59448077]\n",
                        " [ 0.80410983]]\n"
                    ]
                }
            ],
            "source": [
                "angles = [math.pi/2, math.pi, 3*math.pi/2, 2/math.pi]\n",
                "vector = np.array([[0], [1]])\n",
                "\n",
                "# Your code here:\n"
            ]
        },
        {
            "cell_type": "markdown",
            "metadata": {},
            "source": [
                "3. **Rotate multiple vectors:** Rotate the vectors in `V1` by using matrix multiplication. Show both the original and\n",
                "transformed vectors using the `show_vectors` function.\n"
            ]
        },
        {
            "cell_type": "code",
            "execution_count": 5,
            "metadata": {},
            "outputs": [
                {
                    "data": {
                        "image/png": "[encoded data removed]",
                        "text/plain": [
                            "<Figure size 432x288 with 1 Axes>"
                        ]
                    },
                    "metadata": {
                        "needs_background": "light"
                    },
                    "output_type": "display_data"
                },
                {
                    "data": {
                        "image/png": "[encoded data removed]",
                        "text/plain": [
                            "<Figure size 432x288 with 1 Axes>"
                        ]
                    },
                    "metadata": {
                        "needs_background": "light"
                    },
                    "output_type": "display_data"
                }
            ],
            "source": [
                "R = get_2d_rotation_matrix(math.pi/5) # Get rotation matrix\n",
                "# Create matrix of sample vectors\n",
                "V1 = np.array([[ 1,  1, -1 ,-1 ],\n",
                "               [ 1, -1, -1,  1 ]], dtype=np.float64)\n",
                "\n",
                "# Your code here:\n"
            ]
        },
        {
            "cell_type": "markdown",
            "metadata": {},
            "source": [
                "### Manual translation\n",
                "<i class=\"fas fa-thermometer-quarter optional\"></i>\n",
                "Translate the points in `p1` manually, by adding the translation $(-2, -1)$ to them. *Hint: Use broadcasting for the\n",
                "translation.*\n"
            ]
        },
        {
            "cell_type": "code",
            "execution_count": 6,
            "metadata": {},
            "outputs": [
                {
                    "data": {
                        "image/png": "[encoded data removed]",
                        "text/plain": [
                            "<Figure size 432x288 with 1 Axes>"
                        ]
                    },
                    "metadata": {
                        "needs_background": "light"
                    },
                    "output_type": "display_data"
                },
                {
                    "data": {
                        "image/png": "[encoded data removed]",
                        "text/plain": [
                            "<Figure size 432x288 with 1 Axes>"
                        ]
                    },
                    "metadata": {
                        "needs_background": "light"
                    },
                    "output_type": "display_data"
                }
            ],
            "source": [
                "# Test points\n",
                "p1 = np.array([[ 1, -1, 2, -2 ],\n",
                "               [ 0, -1, 2, -1 ]], dtype=np.float64)\n",
                "# Translation vector\n",
                "t = np.array([[-2], [-1]], dtype=np.float64)\n",
                "\n",
                "# Your code here:\n"
            ]
        },
        {
            "cell_type": "markdown",
            "metadata": {},
            "source": [
                "## Homogeneous coordinates\n",
                "In this exercise, you will implement rotations and translations using affine transformations.\n",
                "\n",
                "An general affine transformation matrix for rotation and translation in 2d is defined as:\n",
                "\n",
                "$$\n",
                "T=\\begin{bmatrix}\\cos\\theta&-\\sin\\theta & x_t\\\\\\sin\\theta& \\cos\\theta & y_t\\\\ 0&0&1\\end{bmatrix}\n",
                "$$\n",
                "\n",
                "The transformation is then applied using the following calcuation\n",
                "\n",
                "$$\n",
                "\\begin{bmatrix}x'\\\\ y'\\\\1\\end{bmatrix} = T\\begin{bmatrix}x\\\\ y\\\\1\\end{bmatrix}.\n",
                "$$\n",
                "\n",
                "Affine transformations necessitate the use of homogeneous coordinates to be used with generic matrix multiplication\n",
                "methods. We therefore define the functions `to_homogeneous` and `to_euclidean` for easy conversion to and from\n",
                "homogeneous coordinates.\n",
                "\n",
                "### <i class=\"fas fa-thermometer-half important\"></i> Task(B)\n",
                "1. Study the functions `to_homogeneous` and `to_euclidean` below. You will use them in the exercises to come.\n"
            ]
        },
        {
            "cell_type": "code",
            "execution_count": 3,
            "metadata": {},
            "outputs": [],
            "source": [
                "def to_homogeneous(points):\n",
                "    \"\"\"Transform points to homogeneus coordinates.\"\"\"\n",
                "    return np.vstack((points, np.ones((1, points.shape[1]))))\n",
                "\n",
                "def to_euclidean(points):\n",
                "    \"\"\"Transform homogeneus points to euclidean points.\"\"\"\n",
                "    return points[:2] / points[2]\n"
            ]
        },
        {
            "cell_type": "markdown",
            "metadata": {},
            "source": [
                "2. Implement the function `get_2d_rt_matrix`. It should return an affine transformation matrix given a rotation\n",
                "`theta` and translation tuple `t`.\n"
            ]
        },
        {
            "cell_type": "code",
            "execution_count": 8,
            "metadata": {},
            "outputs": [],
            "source": [
                "def get_2d_rt_matrix(theta, t):\n",
                "    \"\"\"Combines a rotation by angle theta and a translation by t=(x, y). \n",
                "    Returns the resulting transformation matrix.\"\"\"\n",
                "    ...\n"
            ]
        },
        {
            "cell_type": "markdown",
            "metadata": {},
            "source": [
                "3. **Transform points:** Transform the points in `p1` using `get_2d_rt_matrix`. Remember to convert the points to\n",
                "homogeneous coordinates. Experiment with different values of `theta` and `t`. In what order are the translation and\n",
                "rotation performed?\n"
            ]
        },
        {
            "cell_type": "code",
            "execution_count": 9,
            "metadata": {},
            "outputs": [
                {
                    "data": {
                        "image/png": "[encoded data removed]",
                        "text/plain": [
                            "<Figure size 432x288 with 1 Axes>"
                        ]
                    },
                    "metadata": {
                        "needs_background": "light"
                    },
                    "output_type": "display_data"
                },
                {
                    "data": {
                        "image/png": "[encoded data removed]",
                        "text/plain": [
                            "<Figure size 432x288 with 1 Axes>"
                        ]
                    },
                    "metadata": {
                        "needs_background": "light"
                    },
                    "output_type": "display_data"
                }
            ],
            "source": [
                "# Your code here:\n",
                "xm = ...\n",
                "\n",
                "# Show the points for testing\n",
                "show_points(p1, \"x\")\n",
                "show_points(xm, \"x'\")\n"
            ]
        },
        {
            "cell_type": "markdown",
            "metadata": {},
            "source": [
                "4. **Combine multiple transformations:** Do a translation followed by a rotation by creating two separate transformation\n",
                "matrices and combining them using the equation $T_{final} = T_{last}T_{first}$. Transform the points in `p1` using the\n",
                "new matrix.\n"
            ]
        },
        {
            "cell_type": "code",
            "execution_count": 10,
            "metadata": {},
            "outputs": [
                {
                    "data": {
                        "image/png": "[encoded data removed]",
                        "text/plain": [
                            "<Figure size 432x288 with 1 Axes>"
                        ]
                    },
                    "metadata": {
                        "needs_background": "light"
                    },
                    "output_type": "display_data"
                },
                {
                    "data": {
                        "image/png": "[encoded data removed]",
                        "text/plain": [
                            "<Figure size 432x288 with 1 Axes>"
                        ]
                    },
                    "metadata": {
                        "needs_background": "light"
                    },
                    "output_type": "display_data"
                }
            ],
            "source": [
                "# Your code here:\n",
                "\n",
                "# For testing\n",
                "show_points(p1, \"x\")\n",
                "show_points(xm, \"x'\")\n"
            ]
        },
        {
            "cell_type": "markdown",
            "metadata": {},
            "source": [
                "## Change of basis\n",
                "In this exercise, you will apply a change of basis in homogeneous coordinate systems.\n",
                "\n",
                "![coordinate system](images/coordinateSystems.png)\n",
                "\n",
                "The image above shows two coordinate systems: \n",
                "* $A$ which is defined by the unit vectors $\\binom{0}{1}, \\binom{1}{0}$.\n",
                "* $B$ which is translated by $(7, 5)$ and rotated $50^\\circ$ with respect to $A$.\n",
                "\n",
                "In the following, you will transform points from $A$ to $B$ and back using the change of basis formula.\n",
                "The matrix representing the change of basis transformation is defined as $T^A_B=V_B^{-1}V_A$, where $V_B, V_A$ are the\n",
                "basis vectors of $A$ and $B$ respectively. Since $A=I$ in our case, $T^A_B=V_B^{-1}$. $V_B$ is defined by the affine\n",
                "transformation matrix that performs the translation and rotation mentioned above.\n",
                "\n",
                "### <i class=\"fas fa-thermometer-quarter important\"></i> Task (C)\n",
                "1. **Create change of basis transformation:** \n",
                "Create an affine matrix `TAB` which maps a point from coordinate system $A$ to $B$ using the definitions above.\n"
            ]
        },
        {
            "cell_type": "code",
            "execution_count": 11,
            "metadata": {},
            "outputs": [],
            "source": [
                "t = (7, 5) # Translation\n",
                "theta = (50 * math.pi) / 180. # Rotation\n",
                "\n",
                "# Your code here:\n"
            ]
        },
        {
            "cell_type": "markdown",
            "metadata": {},
            "source": [
                "3. **Transform vectors:** Map the vectors defined by `vA` in coordinate system $A$ to coordinate system $B$ using the\n",
                "same method as the last exercise. Save the points as `vB`. Is the result what you expected? It might help to imagine\n",
                "the plots laid over the original plot above.\n"
            ]
        },
        {
            "cell_type": "code",
            "execution_count": 12,
            "metadata": {},
            "outputs": [
                {
                    "data": {
                        "image/png": "[encoded data removed]",
                        "text/plain": [
                            "<Figure size 432x288 with 1 Axes>"
                        ]
                    },
                    "metadata": {
                        "needs_background": "light"
                    },
                    "output_type": "display_data"
                },
                {
                    "data": {
                        "image/png": "[encoded data removed]",
                        "text/plain": [
                            "<Figure size 432x288 with 1 Axes>"
                        ]
                    },
                    "metadata": {
                        "needs_background": "light"
                    },
                    "output_type": "display_data"
                }
            ],
            "source": [
                "vA = np.array([[ -1, 1, 0, 0 ],\n",
                "               [  0, 0, 1, 2 ]], dtype=np.float64)\n",
                "\n",
                "# Your code here:\n",
                "# Testing\n",
                "show_points(vA, \"A\")\n",
                "show_points(vB, \"B\")\n",
                "plt.show()\n"
            ]
        },
        {
            "cell_type": "markdown",
            "metadata": {},
            "source": [
                "4. **Inverse mapping:** Create the affine matrix `TBA` which maps a point from coordinate system $B$ to $A$ using the\n",
                "definitions above. Use it to transform the points `vB` back to $A$ - save the result in `vA2`. *Hint: You may\n",
                "create `TBA` either from scratch or from `TAB`.*\n"
            ]
        },
        {
            "cell_type": "code",
            "execution_count": 13,
            "metadata": {},
            "outputs": [
                {
                    "data": {
                        "image/png": "[encoded data removed]",
                        "text/plain": [
                            "<Figure size 432x288 with 1 Axes>"
                        ]
                    },
                    "metadata": {
                        "needs_background": "light"
                    },
                    "output_type": "display_data"
                },
                {
                    "data": {
                        "image/png": "[encoded data removed]",
                        "text/plain": [
                            "<Figure size 432x288 with 1 Axes>"
                        ]
                    },
                    "metadata": {
                        "needs_background": "light"
                    },
                    "output_type": "display_data"
                }
            ],
            "source": [
                "# Your code here:\n",
                "\n",
                "# Testing\n",
                "show_points(vB, \"B\")\n",
                "show_points(vA2, \"A\")\n",
                "plt.show()\n"
            ]
        }
    ],
    "metadata": {
        "interpreter": {
            "hash": "58004f4a9b52f30f2f02951fc7e37ee3032cf21ade773b235ffa3b2610a82225"
        },
        "kernelspec": {
            "display_name": "Python 3.8.6 64-bit ('iaml': conda)",
            "name": "python3"
        },
        "language_info": {
            "name": "python",
            "version": ""
        },
        "toc-autonumbering": false
    },
    "nbformat": 4,
    "nbformat_minor": 4
}