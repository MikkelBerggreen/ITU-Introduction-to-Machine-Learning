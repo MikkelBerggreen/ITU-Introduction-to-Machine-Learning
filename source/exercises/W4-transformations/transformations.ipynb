{
    "cells": [
        {
            "cell_type": "code",
            "execution_count": 33,
            "metadata": {
                "jupyter": {
                    "source_hidden": true
                },
                "tags": [
                    "remove-cell"
                ]
            },
            "outputs": [
                {
                    "data": {
                        "text/html": [
                            "<script src=\"https://kit.fontawesome.com/751ade44c1.js\" crossorigin=\"anonymous\"></script>\n",
                            "\n",
                            "<style>\n",
                            ":root {\n",
                            "    --red: #d9534f;\n",
                            "    --yellow: #f0ad4e;\n",
                            "    --green: #5cb85c;\n",
                            "    --blue: #0275d8;\n",
                            "    --light-blue: #5bc0de;\n",
                            "    --dark-blue: #073b4c;\n",
                            "    --purple: #6A4C93;\n",
                            "}\n",
                            "    \n",
                            ".important {\n",
                            "    color: var(--yellow);\n",
                            "}\n",
                            "\n",
                            ".optional {\n",
                            "    color: var(--green);\n",
                            "}\n",
                            "</style>\n"
                        ],
                        "text/plain": [
                            "<IPython.core.display.HTML object>"
                        ]
                    },
                    "metadata": {},
                    "output_type": "display_data"
                }
            ],
            "source": [
                "%%html\n",
                "<script src=\"https://kit.fontawesome.com/751ade44c1.js\" crossorigin=\"anonymous\"></script>\n",
                "\n",
                "<style>\n",
                ":root {\n",
                "    --red: #d9534f;\n",
                "    --yellow: #f0ad4e;\n",
                "    --green: #5cb85c;\n",
                "    --blue: #0275d8;\n",
                "    --light-blue: #5bc0de;\n",
                "    --dark-blue: #073b4c;\n",
                "    --purple: #6A4C93;\n",
                "}\n",
                "    \n",
                ".important {\n",
                "    color: var(--yellow);\n",
                "}\n",
                "\n",
                ".optional {\n",
                "    color: var(--green);\n",
                "}\n",
                "</style>\n"
            ]
        },
        {
            "cell_type": "markdown",
            "metadata": {
                "pycharm": {
                    "name": "#%% md\n"
                }
            },
            "source": [
                "# <i class=\"fas fa-circle exercise\"></i> Geometric transformations\n",
                "<span class=\"badge badge-pill important-bg\">exercise</span><span class=\"badge badge-pill badge-dark\">notebook</span>\n"
            ]
        },
        {
            "cell_type": "code",
            "execution_count": 34,
            "metadata": {
                "collapsed": false,
                "jupyter": {
                    "outputs_hidden": false
                },
                "pycharm": {
                    "name": "#%%\n"
                }
            },
            "outputs": [],
            "source": [
                "import math\n",
                "import matplotlib.pyplot as plt\n",
                "import numpy as np\n"
            ]
        },
        {
            "cell_type": "markdown",
            "metadata": {},
            "source": [
                "\n",
                "## Geometric Transformations\n",
                "\n",
                "In this exercise, you will create  and apply linear geometric transformations using both the homogeneous and Euclidean representations. We cover the following topics:\n",
                "\n",
                "* Rotations and translations using homogeneous coordinates.\n",
                "\n",
                "\n",
                "We use the following helper functions for making the visualisation easier. Feel free to study the code:\n"
            ]
        },
        {
            "cell_type": "code",
            "execution_count": 35,
            "metadata": {},
            "outputs": [],
            "source": [
                "\n",
                "# Import function to setup plot and display vectors \n",
                "\n",
                "from show_vectors import show_vectors\n",
                "from  show_points import show_points\n"
            ]
        },
        {
            "cell_type": "code",
            "execution_count": 36,
            "metadata": {},
            "outputs": [],
            "source": [
                "def show_vectors(vectors, title=\"Vectors\", origin=(0, 0)):\n",
                "    \"\"\"Helper that displays vectors using Matplotlib. \n",
                "    \n",
                "    The details are not important for understanding the course material.\"\"\"\n",
                "    rows, cols = vectors.shape\n",
                "\n",
                "    for i in range(0, cols):\n",
                "        xs = [origin[0], vectors[0, i]]\n",
                "        ys = [origin[1], vectors[1, i]]\n",
                "        plt.plot(xs, ys, \"-\", linewidth=2)\n",
                "    \n",
                "    config_plot(title, vectors, 'v')\n",
                "\n",
                "def show_points(points, title=\"Points\"):\n",
                "    \"\"\"Helper that displays points using Matplotlib. \n",
                "    \n",
                "    The details are not important for understanding the course material.\"\"\"\n",
                "    rows, cols = points.shape\n",
                "\n",
                "    for i in range(0, cols):\n",
                "        xs = points[0, i]\n",
                "        ys = points[1, i]\n",
                "        plt.plot(xs, ys, \"o\", linewidth=2)\n",
                "    \n",
                "    config_plot(title, points, 'p')\n",
                "\n",
                "def config_plot(title, data, data_type):\n",
                "    \"\"\"Setup plot layout. This is purely for making the plots easier to read.\n",
                "    \n",
                "    The details are not important for understanding the course material.\n",
                "    \"\"\"\n",
                "    rows, cols = data.shape\n",
                "    \n",
                "    plt.title(title)\n",
                "    plt.grid(b=True, which=\"major\")\n",
                "    plt.legend([f'{data_type}{i+1}' for i in range(cols)])\n",
                "    plt.axis('scaled')\n",
                "    plt.plot(0, 0, \"ok\")\n",
                "\n",
                "    plt.xlabel(\"X-Axis\")\n",
                "    plt.ylabel(\"Y-Axis\")\n",
                "    \n",
                "    max_values = 1.3 * np.max(abs(data.T), axis = 0)\n",
                "    plt.xlim([-max_values[0], max_values[0]])\n",
                "    plt.ylim([-max_values[1], max_values[1]])\n",
                "    \n",
                "    plt.show()\n"
            ]
        },
        {
            "cell_type": "markdown",
            "metadata": {},
            "source": [
                "The  rotation matrix ($R$) which rotates a 2D point around the origin with angle $\\theta$  is given by:\n",
                "\n",
                "$$R = \\left[\n",
                "\t\\begin{array}{r r}\n",
                "\t\t\\cos(\\theta) & -\\sin(\\theta)\\\\\n",
                "\t\t\\sin(\\theta) & \\cos(\\theta)\n",
                "\t\\end{array}\n",
                "\\right],$$\n",
                "\n",
                "\n",
                "### <i class=\"fas fa-thermometer-quarter important\"></i> Task (A)\n",
                "1. **Create rotation matrices:** Implement the function `get_2d_rotation_matrix()` below which, given an input angle\n",
                "`theta` (in radians) returns the rotation matrix `R`:\n"
            ]
        },
        {
            "cell_type": "code",
            "execution_count": 37,
            "metadata": {},
            "outputs": [],
            "source": [
                "def get_2d_rotation_matrix(theta):\n",
                "    \"\"\"Return a rotation matrix for the specified input angle theta.\"\"\"\n",
                "    ...\n"
            ]
        },
        {
            "cell_type": "markdown",
            "metadata": {},
            "source": [
                "1. **Test the function:** Test the implementation  by rotating the vector $[0, 1]^T$  with \n",
                "different values of $\\theta$: $0, \\pi/2, \\pi, 1.5\\pi, 2\\pi$. Show that the rotated vectors are respectively $[0, 1]^T$, $[-1, 0]^T$,$[-1, -1]^T$, $[1, -1]^T$ and $[0, 1]^T$. \n"
            ]
        },
        {
            "cell_type": "code",
            "execution_count": 38,
            "metadata": {},
            "outputs": [
                {
                    "name": "stdout",
                    "output_type": "stream",
                    "text": [
                        "[[0.]\n",
                        " [1.]]\n",
                        "[[-1.000000e+00]\n",
                        " [ 6.123234e-17]]\n",
                        "[[-1.2246468e-16]\n",
                        " [-1.0000000e+00]]\n",
                        "[[ 1.0000000e+00]\n",
                        " [-1.8369702e-16]]\n",
                        "[[2.4492936e-16]\n",
                        " [1.0000000e+00]]\n"
                    ]
                }
            ],
            "source": [
                "angles = [0 ,math.pi/2, math.pi, 3*math.pi/2, 2*math.pi]\n",
                "vector = np.array([[0], [1]])\n",
                "\n",
                "# Your code here:\n"
            ]
        },
        {
            "cell_type": "markdown",
            "metadata": {},
            "source": []
        },
        {
            "cell_type": "code",
            "execution_count": null,
            "metadata": {},
            "outputs": [],
            "source": []
        },
        {
            "cell_type": "markdown",
            "metadata": {},
            "source": [
                "1. **Rotate multiple vectors:** (a)  Rotate the column vectors in $V_1 = \\begin{bmatrix} 1 &  1& -1 &-1\\\\ 1& -1& -1&  1 \\end{bmatrix} $ in one matrix operation (no iteration).  \n",
                "(b) Show both the original and\n",
                "transformed vectors using the `show_vectors` function. \n",
                "(c) Explain the transformation of the points of V_1 in terms of the column vectors of R\n"
            ]
        },
        {
            "cell_type": "code",
            "execution_count": 39,
            "metadata": {},
            "outputs": [
                {
                    "name": "stderr",
                    "output_type": "stream",
                    "text": [
                        "/var/folders/mh/j38spbnj0g17m1662_7msn300000gn/T/ipykernel_7598/2094557591.py:35: MatplotlibDeprecationWarning: The 'b' parameter of grid() has been renamed 'visible' since Matplotlib 3.5; support for the old name will be dropped two minor releases later.\n",
                        "  plt.grid(b=True, which=\"major\")\n"
                    ]
                },
                {
                    "data": {
                        "image/png": "[encoded data removed]",
                        "text/plain": [
                            "<Figure size 432x288 with 1 Axes>"
                        ]
                    },
                    "metadata": {
                        "needs_background": "light"
                    },
                    "output_type": "display_data"
                },
                {
                    "data": {
                        "image/png": "[encoded data removed]",
                        "text/plain": [
                            "<Figure size 432x288 with 1 Axes>"
                        ]
                    },
                    "metadata": {
                        "needs_background": "light"
                    },
                    "output_type": "display_data"
                }
            ],
            "source": [
                "import matplotlib.pyplot as plt\n",
                "R = get_2d_rotation_matrix(math.pi/5) # Get rotation matrix\n",
                "# Create matrix of sample vectors\n",
                "V1 = np.array([[ 1,  1, -1 ,-1 ],\n",
                "               [ 1, -1, -1,  1 ]], dtype=np.float64)\n",
                "\n",
                "# Your code here:\n"
            ]
        },
        {
            "cell_type": "markdown",
            "metadata": {},
            "source": [
                "### Manual translation\n",
                "<i class=\"fas fa-thermometer-quarter optional\"></i>\n",
                "(a) Translate the  the matrix p1  by   $(-2, -1)$  where $p1 =\\begin{bmatrix} 1 & -1 & 2 & -2\\\\\n",
                "              0 & -1 & 2 & -1 \\end{bmatrix}$ and each column is considered a separate point. \n",
                "(b) Show both the original and transformed vectors using the `show_vectors` function.\n"
            ]
        },
        {
            "cell_type": "code",
            "execution_count": 40,
            "metadata": {},
            "outputs": [
                {
                    "name": "stderr",
                    "output_type": "stream",
                    "text": [
                        "/var/folders/mh/j38spbnj0g17m1662_7msn300000gn/T/ipykernel_7598/2094557591.py:35: MatplotlibDeprecationWarning: The 'b' parameter of grid() has been renamed 'visible' since Matplotlib 3.5; support for the old name will be dropped two minor releases later.\n",
                        "  plt.grid(b=True, which=\"major\")\n"
                    ]
                },
                {
                    "data": {
                        "image/png": "[encoded data removed]",
                        "text/plain": [
                            "<Figure size 432x288 with 1 Axes>"
                        ]
                    },
                    "metadata": {
                        "needs_background": "light"
                    },
                    "output_type": "display_data"
                },
                {
                    "data": {
                        "image/png": "[encoded data removed]",
                        "text/plain": [
                            "<Figure size 432x288 with 1 Axes>"
                        ]
                    },
                    "metadata": {
                        "needs_background": "light"
                    },
                    "output_type": "display_data"
                }
            ],
            "source": [
                "# Test points\n",
                "p1 = np.array([[ 1, -1, 2, -2 ],\n",
                "               [ 0, -1, 2, -1 ]], dtype=np.float64)\n",
                "# Translation vector\n",
                "t = np.array([[-2], [-1]], dtype=np.float64)\n",
                "\n",
                "# Your code here:\n"
            ]
        },
        {
            "cell_type": "markdown",
            "metadata": {},
            "source": []
        },
        {
            "cell_type": "markdown",
            "metadata": {},
            "source": [
                "## Homogeneous coordinates\n",
                " A  'similarity transformation' is a simplified affine transformation that only performs  rotation and translation. The similarity transformation is described by 3 parameters, the rotation angle ($\\theta$) and two translation components  ($\\Delta x$ and $\\Delta y$)\n",
                "\n",
                "\n",
                "The 2D similarity transformation using homegeneous coordinates is consequently :\n",
                "\n",
                "$$\n",
                "T=\\begin{bmatrix}\\cos\\theta&-\\sin\\theta & x_t\\\\\\sin\\theta& \\cos\\theta & y_t\\\\ 0&0&1\\end{bmatrix}\n",
                "$$\n",
                "\n",
                "Transformation of (homegeneous) coordinates is consequently\n",
                "\n",
                "$$\n",
                "\\begin{bmatrix}x'\\\\ y'\\\\1\\end{bmatrix} = T\\begin{bmatrix}x\\\\ y\\\\1\\end{bmatrix}.\n",
                "$$\n",
                "\n",
                " Define the functions `to_homogeneous` (that map Euclidean coordinates to homogeneous coordinate) and `to_euclidean`  (that does the reverse) .\n",
                "\n",
                "### <i class=\"fas fa-thermometer-half important\"></i> Task(B)\n",
                "1. Study the functions `to_homogeneous` and `to_euclidean` below. You will need them in the subseqent tasks.\n"
            ]
        },
        {
            "cell_type": "code",
            "execution_count": 41,
            "metadata": {},
            "outputs": [],
            "source": [
                "def to_homogeneous(points):\n",
                "    \"\"\"Transform points to homogeneus coordinates.\"\"\"\n",
                "    return np.vstack((points, np.ones((1, points.shape[1]))))\n",
                "\n",
                "def to_euclidean(points):\n",
                "    \"\"\"Transform homogeneus points to euclidean points.\"\"\"\n",
                "    return points[:2] / points[2]\n"
            ]
        },
        {
            "cell_type": "markdown",
            "metadata": {},
            "source": [
                "2. Implement the function `get_2d_rt_matrix`. RENAME Isimilarity matrix .... which given a rotation\n",
                "angle `theta`  and 2D translation vector `t` returns the similarity matrix ($3 \\times 3$)\n"
            ]
        },
        {
            "cell_type": "code",
            "execution_count": 42,
            "metadata": {},
            "outputs": [],
            "source": [
                "def get_2d_rt_matrix(theta, t):\n",
                "    \"\"\"Combines a rotation by angle theta and a translation by t=(x, y). \n",
                "    Returns the resulting transformation matrix.\"\"\"\n",
                "    ...\n"
            ]
        },
        {
            "cell_type": "markdown",
            "metadata": {},
            "source": [
                "1. **Transform points:**  (a) Create a similarity matrix S  using `get_2d_rt_matrix`. (b) Transform  the points V1 using S.   Recall the points in V_1 are in Eucidean coordinates. Experiment with different values of `theta` and `t`. ( (d) Linear transformations are not commutative but does the similarity transformation above rotate and then translate or translate first and then rotate? use the 'show_points' to argue this. \n"
            ]
        },
        {
            "cell_type": "code",
            "execution_count": 43,
            "metadata": {},
            "outputs": [
                {
                    "name": "stderr",
                    "output_type": "stream",
                    "text": [
                        "/var/folders/mh/j38spbnj0g17m1662_7msn300000gn/T/ipykernel_7598/2094557591.py:35: MatplotlibDeprecationWarning: The 'b' parameter of grid() has been renamed 'visible' since Matplotlib 3.5; support for the old name will be dropped two minor releases later.\n",
                        "  plt.grid(b=True, which=\"major\")\n"
                    ]
                },
                {
                    "data": {
                        "image/png": "[encoded data removed]",
                        "text/plain": [
                            "<Figure size 432x288 with 1 Axes>"
                        ]
                    },
                    "metadata": {
                        "needs_background": "light"
                    },
                    "output_type": "display_data"
                },
                {
                    "data": {
                        "image/png": "[encoded data removed]",
                        "text/plain": [
                            "<Figure size 432x288 with 1 Axes>"
                        ]
                    },
                    "metadata": {
                        "needs_background": "light"
                    },
                    "output_type": "display_data"
                }
            ],
            "source": [
                "# Your code here:\n",
                "xm = ...\n",
                "\n",
                "# Show the points for testing\n",
                "show_points(p1, \"x\")\n",
                "show_points(xm, \"x'\")\n"
            ]
        },
        {
            "cell_type": "markdown",
            "metadata": {},
            "source": [
                "   **Combining transformations:** :Linear transformations can be combined through the sequential matrix multiplication in the right order eg. the transformation T  $$T = T_nT_{n-1}\\cdots T_{1}$$ is composed the matrices $T_1,\\cdots , T_n$) by first applying $T_1$ then $T_2$ until $T_n$. \n",
                "   \n",
                "1. Create a transformation matrix $T_{rt} = RT$ that  performs a  translation followed by a rotation by creating two separate transformation\n",
                "matrices $R$ and $T$ .\n",
                " 2. Transform the points  `p1` using the\n",
                "new matrix.\n",
                "3. How are the points p1 transformed when the order if R and T are reversed\n"
            ]
        },
        {
            "cell_type": "code",
            "execution_count": 44,
            "metadata": {},
            "outputs": [
                {
                    "name": "stderr",
                    "output_type": "stream",
                    "text": [
                        "/var/folders/mh/j38spbnj0g17m1662_7msn300000gn/T/ipykernel_7598/2094557591.py:35: MatplotlibDeprecationWarning: The 'b' parameter of grid() has been renamed 'visible' since Matplotlib 3.5; support for the old name will be dropped two minor releases later.\n",
                        "  plt.grid(b=True, which=\"major\")\n"
                    ]
                },
                {
                    "data": {
                        "image/png": "[encoded data removed]",
                        "text/plain": [
                            "<Figure size 432x288 with 1 Axes>"
                        ]
                    },
                    "metadata": {
                        "needs_background": "light"
                    },
                    "output_type": "display_data"
                },
                {
                    "data": {
                        "image/png": "[encoded data removed]",
                        "text/plain": [
                            "<Figure size 432x288 with 1 Axes>"
                        ]
                    },
                    "metadata": {
                        "needs_background": "light"
                    },
                    "output_type": "display_data"
                }
            ],
            "source": [
                "# Your code here:\n",
                "\n",
                "# For testing\n",
                "show_points(p1, \"x\")\n",
                "show_points(xm, \"x'\")\n"
            ]
        }
    ],
    "metadata": {
        "interpreter": {
            "hash": "58004f4a9b52f30f2f02951fc7e37ee3032cf21ade773b235ffa3b2610a82225"
        },
        "kernelspec": {
            "display_name": "Python 3.8.6 64-bit ('iaml': conda)",
            "name": "python3"
        },
        "language_info": {
            "codemirror_mode": {
                "name": "ipython",
                "version": 3
            },
            "file_extension": ".py",
            "mimetype": "text/x-python",
            "name": "python",
            "nbconvert_exporter": "python",
            "pygments_lexer": "ipython3",
            "version": "3.9.7"
        },
        "toc-autonumbering": false
    },
    "nbformat": 4,
    "nbformat_minor": 4
}