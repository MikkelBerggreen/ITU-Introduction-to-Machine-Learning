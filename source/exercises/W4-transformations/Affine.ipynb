{
 "cells": [
  {
   "cell_type": "markdown",
   "metadata": {},
   "source": [
    "# <i class=\"fas fa-circle exercise\"></i>Learning an Affine Transformation\n",
    "<span class=\"badge badge-pill important-bg\">regular</span>"
   ]
  },
  {
   "cell_type": "markdown",
   "metadata": {},
   "source": [
    "\n",
    "<figure>\n",
    "<img src=\"images/AffineTransformTask.svg\" style=\"width:20%\">\n",
    "<figcaption align = \"center\"> Naming the planes and transformations. </figcaption>\n",
    "</figure>\n",
    "\n",
    "Lets assume that an affine mapping is sufficient  to transform image coordinates  of a\n",
    "person walking in the atrium at ITU to an overview map (image) of the ground floor of ITU.\n",
    "The goal of this exercise is learn the coefficients of the affine mapping given training data and then subsequently map the tracking coordinates for the person in the video is given in `trackingdata.dat`.\n",
    "\n",
    "As shown in the figure above, denote  \n",
    "1. the video `ITUStudent.mov`  by $V$, \n",
    "2. the ground floor in $V$ by $G$ \n",
    "3. the groundplane of ITU building by $M$ \n",
    "4. The affine transformation ${T}_G^M$ from the ground floor $G$ to\n",
    "the overview map $M$.\n",
    "\n",
    "\n",
    "\n",
    "Your goal is to learn the coefficients of the affine transformation and apply the mapping to tracking tracking data to the overview map. \n",
    "\n",
    "\n",
    "\n",
    "Hence  your task is \n",
    "1. Learn the coefficients of the affine transformation  ${T}_G^M$ and\n",
    "2. Apply the mapping ${T}_G^M$ to transform the tracking data from the ground floor $G$ in $V$ to $M$ and display the location of the person on the ground floor.\n",
    "\n",
    "## Overview\n",
    "\n",
    "Your main task is to implement the function `calc_affine()` that given points in $V$ and $M$ estimates and returns the corresponding affine transformation matrix $T$.\n",
    "\n",
    "\n",
    "The 3 pairs of corresponding points and tracking data are provided for you in the input folder. The\n",
    "tracking data is loaded from `trackingdata.dat` where each row $r_i$ in the\n",
    "file is associate to a frame $f_i$ in the video `ITUStudent.mov` and contains\n",
    "the coordinates of 3 rectangles as shown in the figure below. \n",
    "\n",
    "Each rectangle is defined by a  coordinates pair $(x_1, y_1)$ and $(x_2, y_2)$ corresponding to the top left and\n",
    "bottom right hand corners of the rectangle. The rectangles for specific bodyparts are stored  in a dictionary `data` that has keys *body*, *legs*, and *all*. \n",
    "to  access the arrays of the corresponding bodyparts.  \n",
    " \n",
    "\n",
    "<figure>\n",
    "<img src=\"images/trackingData.jpg\" style=\"width:20%\">\n",
    "<figcaption align = \"center\"> The three sub-regions of the person being tracked. </figcaption>\n",
    "</figure>\n",
    "\n"
   ]
  },
  {
   "cell_type": "markdown",
   "metadata": {},
   "source": [
    "### (Pen & Paper) Background on Affine mappings\n",
    "\n",
    "Let an affine mapping  $T$ be given by\n",
    "\n",
    "$$ T = \n",
    "\\begin{bmatrix}\n",
    "    a & b & c \\\\\n",
    "    d & e & f \\\\\n",
    "    0 & 0 & 1\n",
    "\\end{bmatrix}\n",
    "$$\n",
    "\n",
    "where $T$  transforms points between the planes by $p^{\\prime} = T p$ and\n",
    "$p$ and $p^{\\prime}$ are 2D  homogeneous coordinates.\n",
    "\n",
    "Since the transformation is linear it is possible to estimate the 6 coefficients $\\theta = \\begin{bmatrix} a \\\\ b \\\\ c\\\\ d \\\\ e \\\\ f \\end{bmatrix}$ using pairs of corresponding input-output points.\n",
    "\n",
    "1. On a piece of paper show that given an input $p=\\begin{bmatrix} x_1 \\\\ x_2 \\\\1\\end{bmatrix}$ and output $p'=\\begin{bmatrix} x'_1 \\\\ x'_2 \\\\1\\end{bmatrix}$ that the unknowns $\\theta$ can be isolated into the following inner product\n",
    "\n",
    "$$\\begin{bmatrix}\n",
    "    x_1 & y_1 & 1 & 0 & 0 & 0 \\\\\n",
    "    0 & 0 & 0 & x_1 & y_1 & 1 \\\\\n",
    "    \\end{bmatrix}\n",
    "    \\begin{bmatrix}\n",
    "    a \\\\\n",
    "    b \\\\\n",
    "    c \\\\\n",
    "    d \\\\\n",
    "    e \\\\\n",
    "    f\n",
    "\\end{bmatrix}\n",
    "= \n",
    "\\begin{bmatrix}\n",
    "    x_1^{\\prime} \\\\\n",
    "    y_1^{\\prime} \\\\\n",
    "    \\end{bmatrix}\n",
    "$$\n",
    "\n",
    "This means that one pair of corresponding points yield two equations. \n",
    "\n",
    "\n",
    "1. Show that the unknowns $\\theta$ can be by solved through  $\\theta = A^{-1}y^{\\prime}$,  where $A$ is the designmatrix and argue why $3$ pairs of corresponding points are needed to solve for the unknowns $\\theta$ \n",
    "\n",
    "$A = \\begin{bmatrix}\n",
    "    x_1 & y_1 & 1 & 0 & 0 & 0 \\\\\n",
    "    0 & 0 & 0 & x_1 & y_1 & 1 \\\\\n",
    "    x_2 & y_2 & 1 & 0 & 0 & 0 \\\\\n",
    "    0 & 0 & 0 & x_2 & y_2 & 1 \\\\\n",
    "    x_3 & y_3 & 1 & 0 & 0 & 0 \\\\\n",
    "    0 & 0 & 0 & x_3 & y_3 & 1 \n",
    "\\end{bmatrix}$,\n",
    " $y^{\\prime} = \\begin{bmatrix}\n",
    "    x_1^{\\prime} \\\\\n",
    "    y_1^{\\prime} \\\\\n",
    "    x_2^{\\prime} \\\\\n",
    "    y_2^{\\prime} \\\\\n",
    "    x_3^{\\prime} \\\\\n",
    "    y_3^{\\prime}\n",
    "\\end{bmatrix}$\n",
    "\n"
   ]
  },
  {
   "cell_type": "markdown",
   "metadata": {},
   "source": [
    "A pre-selected set of 3 point pairs (in the different planes) are loaded."
   ]
  },
  {
   "cell_type": "code",
   "execution_count": 1,
   "metadata": {},
   "outputs": [],
   "source": [
    "# importing needed libraries\n",
    "import matplotlib.pyplot as plt\n",
    "import numpy as np\n",
    "\n",
    "#### loading data\n",
    "points_source = np.load('points_source.npy')\n",
    "points_destination = np.load('points_destination.npy')"
   ]
  },
  {
   "cell_type": "markdown",
   "metadata": {},
   "source": [
    "The 3 pairs of points are visualized in the code below"
   ]
  },
  {
   "cell_type": "code",
   "execution_count": 2,
   "metadata": {},
   "outputs": [
    {
     "ename": "FileNotFoundError",
     "evalue": "[Errno 2] No such file or directory: 'inputs/image_ground.jpg'",
     "output_type": "error",
     "traceback": [
      "\u001b[1;31m---------------------------------------------------------------------------\u001b[0m",
      "\u001b[1;31mFileNotFoundError\u001b[0m                         Traceback (most recent call last)",
      "\u001b[1;32mc:\\ITU\\ITU K1\\Introduction to Machine Learning\\Exercises\\material-fall-2022-updated\\source\\exercises\\W4-transformations\\Affine.ipynb Cell 7\u001b[0m in \u001b[0;36m<cell line: 1>\u001b[1;34m()\u001b[0m\n\u001b[1;32m----> <a href='vscode-notebook-cell:/c%3A/ITU/ITU%20K1/Introduction%20to%20Machine%20Learning/Exercises/material-fall-2022-updated/source/exercises/W4-transformations/Affine.ipynb#W6sZmlsZQ%3D%3D?line=0'>1</a>\u001b[0m ITU_image \u001b[39m=\u001b[39m plt\u001b[39m.\u001b[39;49mimread(\u001b[39m'\u001b[39;49m\u001b[39minputs/image_ground.jpg\u001b[39;49m\u001b[39m'\u001b[39;49m)\n\u001b[0;32m      <a href='vscode-notebook-cell:/c%3A/ITU/ITU%20K1/Introduction%20to%20Machine%20Learning/Exercises/material-fall-2022-updated/source/exercises/W4-transformations/Affine.ipynb#W6sZmlsZQ%3D%3D?line=1'>2</a>\u001b[0m ITU_RGB \u001b[39m=\u001b[39m ITU_image[:,:,:\u001b[39m3\u001b[39m]\n\u001b[0;32m      <a href='vscode-notebook-cell:/c%3A/ITU/ITU%20K1/Introduction%20to%20Machine%20Learning/Exercises/material-fall-2022-updated/source/exercises/W4-transformations/Affine.ipynb#W6sZmlsZQ%3D%3D?line=2'>3</a>\u001b[0m plt\u001b[39m.\u001b[39mfigure(figsize\u001b[39m=\u001b[39m(\u001b[39m14\u001b[39m,\u001b[39m8\u001b[39m))\n",
      "File \u001b[1;32mc:\\Users\\mikke\\anaconda3\\envs\\iaml\\lib\\site-packages\\matplotlib\\pyplot.py:2158\u001b[0m, in \u001b[0;36mimread\u001b[1;34m(fname, format)\u001b[0m\n\u001b[0;32m   2156\u001b[0m \u001b[39m@_copy_docstring_and_deprecators\u001b[39m(matplotlib\u001b[39m.\u001b[39mimage\u001b[39m.\u001b[39mimread)\n\u001b[0;32m   2157\u001b[0m \u001b[39mdef\u001b[39;00m \u001b[39mimread\u001b[39m(fname, \u001b[39mformat\u001b[39m\u001b[39m=\u001b[39m\u001b[39mNone\u001b[39;00m):\n\u001b[1;32m-> 2158\u001b[0m     \u001b[39mreturn\u001b[39;00m matplotlib\u001b[39m.\u001b[39;49mimage\u001b[39m.\u001b[39;49mimread(fname, \u001b[39mformat\u001b[39;49m)\n",
      "File \u001b[1;32mc:\\Users\\mikke\\anaconda3\\envs\\iaml\\lib\\site-packages\\matplotlib\\image.py:1560\u001b[0m, in \u001b[0;36mimread\u001b[1;34m(fname, format)\u001b[0m\n\u001b[0;32m   1558\u001b[0m                 response \u001b[39m=\u001b[39m io\u001b[39m.\u001b[39mBytesIO(response\u001b[39m.\u001b[39mread())\n\u001b[0;32m   1559\u001b[0m             \u001b[39mreturn\u001b[39;00m imread(response, \u001b[39mformat\u001b[39m\u001b[39m=\u001b[39mext)\n\u001b[1;32m-> 1560\u001b[0m \u001b[39mwith\u001b[39;00m img_open(fname) \u001b[39mas\u001b[39;00m image:\n\u001b[0;32m   1561\u001b[0m     \u001b[39mreturn\u001b[39;00m (_pil_png_to_float_array(image)\n\u001b[0;32m   1562\u001b[0m             \u001b[39mif\u001b[39;00m \u001b[39misinstance\u001b[39m(image, PIL\u001b[39m.\u001b[39mPngImagePlugin\u001b[39m.\u001b[39mPngImageFile) \u001b[39melse\u001b[39;00m\n\u001b[0;32m   1563\u001b[0m             pil_to_array(image))\n",
      "File \u001b[1;32mc:\\Users\\mikke\\anaconda3\\envs\\iaml\\lib\\site-packages\\PIL\\Image.py:3092\u001b[0m, in \u001b[0;36mopen\u001b[1;34m(fp, mode, formats)\u001b[0m\n\u001b[0;32m   3089\u001b[0m     filename \u001b[39m=\u001b[39m fp\n\u001b[0;32m   3091\u001b[0m \u001b[39mif\u001b[39;00m filename:\n\u001b[1;32m-> 3092\u001b[0m     fp \u001b[39m=\u001b[39m builtins\u001b[39m.\u001b[39;49mopen(filename, \u001b[39m\"\u001b[39;49m\u001b[39mrb\u001b[39;49m\u001b[39m\"\u001b[39;49m)\n\u001b[0;32m   3093\u001b[0m     exclusive_fp \u001b[39m=\u001b[39m \u001b[39mTrue\u001b[39;00m\n\u001b[0;32m   3095\u001b[0m \u001b[39mtry\u001b[39;00m:\n",
      "\u001b[1;31mFileNotFoundError\u001b[0m: [Errno 2] No such file or directory: 'inputs/image_ground.jpg'"
     ]
    }
   ],
   "source": [
    "ITU_image = plt.imread('inputs/image_ground.jpg')\n",
    "ITU_RGB = ITU_image[:,:,:3]\n",
    "plt.figure(figsize=(14,8))\n",
    "ITU_RGB[int(points_source[0,1])-5:int(points_source[0,1])+5,int(points_source[0,0])-5:int(points_source[0,0])+5] = np.array([255,0,0])\n",
    "ITU_RGB[int(points_source[1,1])-5:int(points_source[1,1])+5,int(points_source[1,0])-5:int(points_source[1,0])+5] = np.array([0,255,0])\n",
    "ITU_RGB[int(points_source[2,1])-5:int(points_source[2,1])+5,int(points_source[2,0])-5:int(points_source[2,0])+5] = np.array([0,0,255])\n",
    "plt.imshow(ITU_RGB)\n",
    "\n",
    "ITU_Map = plt.imread('inputs/ITUMap.png')\n",
    "plt.figure(figsize=(14,8))\n",
    "Map_RGB = ITU_Map[:,:,:3]\n",
    "Map_RGB[int(points_destination[0,1])-5:int(points_destination[0,1])+5,int(points_destination[0,0])-5:int(points_destination[0,0])+5] = np.array([1,0,0])\n",
    "Map_RGB[int(points_destination[1,1])-5:int(points_destination[1,1])+5,int(points_destination[1,0])-5:int(points_destination[1,0])+5] = np.array([0,1,0])\n",
    "Map_RGB[int(points_destination[2,1])-5:int(points_destination[2,1])+5,int(points_destination[2,0])-5:int(points_destination[2,0])+5] = np.array([0,0,1])\n",
    "plt.imshow(Map_RGB);"
   ]
  },
  {
   "cell_type": "code",
   "execution_count": 4,
   "metadata": {},
   "outputs": [
    {
     "data": {
      "image/png": "[encoded data removed]",
      "text/plain": [
       "<Figure size 1008x288 with 2 Axes>"
      ]
     },
     "metadata": {
      "needs_background": "light"
     },
     "output_type": "display_data"
    }
   ],
   "source": [
    "### We can also visualize the points by them self\n",
    "plt.figure(figsize=(14,4))\n",
    "plt.subplot(1,2,1),plt.plot(points_source[:,0],points_source[:,1],'r*'),plt.ylim(256,0),plt.xlim(0,320),plt.title('The 3 source points')\n",
    "plt.subplot(1,2,2),plt.plot(points_destination[:,0],points_destination[:,1],'b*'),plt.ylim(348,0),plt.xlim(0,800),plt.title('The 3 destination points')\n",
    "plt.ylim(348,0);"
   ]
  },
  {
   "cell_type": "markdown",
   "metadata": {},
   "source": [
    "# Implement learning of the affine model\n",
    "\n",
    "With the points loaded, lets denote  $P_{i}^{G}$ and $P_{i}^{M}$ the points in the ground plane $G$ ('point_source') and the overview map $M$ ('points_destination'), respectively. \n",
    "Your task is to create a function that can estimate the parameters of the affine model using the selected points datapoints.\n",
    "\n",
    "In the cell below your task is to in to implement the function `calc_affine(points_source,points_destination)` so that it returns the  affine transformation $T$ that takes 'points_source' to 'points_destination'. \n",
    "The function should do the following:\n",
    "* Create the design matrix $A$ \n",
    "* Estimate the parameters $\\theta$ using the inverse $A^{-1}$\n",
    "* Return the affine transformation matrix $T$"
   ]
  },
  {
   "cell_type": "code",
   "execution_count": 11,
   "metadata": {},
   "outputs": [
    {
     "name": "stdout",
     "output_type": "stream",
     "text": [
      "Affine Trasformation Matrix:\n",
      " [[0.1569499341238476, 1.0004940711462442, 118.090579710145], [-0.37697628458497956, 0.1971343873517779, 175.14130434782612], [0, 0, 1]]\n"
     ]
    }
   ],
   "source": [
    "### affine tranformation creation\n",
    "\n",
    "def calc_affine(points_source,points_destination):\n",
    "    \"\"\"Estimate the affine transformation matrix using the corresponding points pairs\"\"\"\n",
    "    A = np.transpose([[points_source[0][0], 0, points_source[1][0], 0, points_source[2][0], 0],\n",
    "        [points_source[0][1], 0, points_source[1][1], 0, points_source[2][1], 0],\n",
    "        [1, 0, 1, 0, 1, 0],\n",
    "        [0, points_source[0][0], 0, points_source[1][0], 0, points_source[2][0]],\n",
    "        [0, points_source[0][1], 0, points_source[1][1], 0, points_source[2][1]],\n",
    "        [0, 1, 0, 1, 0, 1]])\n",
    "\n",
    "    y = [[points_destination[0][0]], [points_destination[0][1]], [points_destination[1][0]], [points_destination[1][1]], [points_destination[2][0]], [points_destination[2][1]]]\n",
    "    theta = np.dot(np.linalg.inv(A), y)\n",
    "    T = [[theta[0][0], theta[1][0], theta[2][0]], [theta[3][0], theta[4][0], theta[5][0]], [0, 0, 1]]\n",
    "    return T # Replace\n",
    "\n",
    "T = calc_affine(points_source,points_destination)\n",
    "print('Affine Trasformation Matrix:\\n',T)"
   ]
  },
  {
   "cell_type": "markdown",
   "metadata": {},
   "source": [
    "## Estimate points in the overview map\n",
    "\n",
    "In this task you will use the transformation to display the path walked by a\n",
    "student in the overview map. Use `load_data()` (provided in the cell below) to generate the `data` the dictionary with the different regions of the tracked person in the $G$ view\n",
    "Then use the affine tranformation to map the points in `data['legs']`) that are on the ground\n",
    "floor $G$ to the overview map $M$.\n",
    "\n",
    "All the entries in `data` contain points $(x_i, y_i, x_i, y_i)$ in a $N\\times 4$\n",
    "array, i.e. the points for the $i$th frame can be accessed using `data[i]`.\n"
   ]
  },
  {
   "cell_type": "code",
   "execution_count": 12,
   "metadata": {},
   "outputs": [],
   "source": [
    "def load_data():\n",
    "    \"\"\"Loads the tracking data.\"\"\"\n",
    "    filename = \"inputs/trackingdata.dat\"\n",
    "    data = np.loadtxt(filename)\n",
    "    data = {\"body\": data[:, :4], \"legs\": data[:, 4:8], \"all\": data[:, 8:]}\n",
    "    \n",
    "    return data\n"
   ]
  },
  {
   "cell_type": "code",
   "execution_count": 13,
   "metadata": {},
   "outputs": [],
   "source": [
    "### Load data \n",
    "data = load_data()"
   ]
  },
  {
   "cell_type": "markdown",
   "metadata": {},
   "source": [
    "You need to select a point on the floor.  A fair approximation is to use the center of the bounding boxes (in homogenious coordinates)"
   ]
  },
  {
   "cell_type": "code",
   "execution_count": 15,
   "metadata": {},
   "outputs": [],
   "source": [
    "### Needed functions\n",
    "\n",
    "def to_homogeneous(points):\n",
    "    if len(points.shape) == 1:\n",
    "        points = points.reshape((*points.shape, 1))\n",
    "    return np.vstack((points, np.ones((1, points.shape[1]))))\n",
    "\n",
    "\n",
    "def to_euclidean(points):\n",
    "    return points[:2] / points[2]\n",
    "\n",
    "def get_center(part, i):\n",
    "    \"\"\"Returns center of body part in homogeneous coordinates.\n",
    "\n",
    "    Parameters: part refers to a Nx4 array containing rectangle points for a specific\n",
    "    body part. i refers to the frame index to fetch.\n",
    "    \"\"\"\n",
    "    x = int((part[i, 0] + part[i, 2]) / 2)\n",
    "    y = int((part[i, 1] + part[i, 3]) / 2)\n",
    "\n",
    "    return to_homogeneous(np.array([x, y]))\n"
   ]
  },
  {
   "cell_type": "markdown",
   "metadata": {},
   "source": [
    "Tasks:\n",
    "1. Implement the function `apply_affine(T, point)`. It should\n",
    "   transform `point` in homogeneous coordinates using transformation matrix `T` and return the result as in euclidean coordinate."
   ]
  },
  {
   "cell_type": "code",
   "execution_count": 17,
   "metadata": {},
   "outputs": [],
   "source": [
    "#### transforming points\n",
    "\n",
    "# Exercise\n",
    "def apply_affine(T, point):\n",
    "    \"\"\"Apply affine transformation h to point.\"\"\"\n",
    "    homPoint = to_homogeneous(point)\n",
    "    transformedPoint = to_euclidean(np.dot(T, homPoint))\n",
    "    return transformedPoint # Replace\n"
   ]
  },
  {
   "cell_type": "markdown",
   "metadata": {},
   "source": [
    "2. Use the `get_center` and `apply_affine` functions to create a function `transform_points(part:str,data,T)`. That take the tracking data `data` a specified body part `part` (string value) and the Affine transformation $T$ as input and return the centered points `G_points` and `M_points`. Where `G_points` is the tracking data points in the video view $G$. `M_points` is the transformed points in the ITU map view. _Hint:_ Iterate over the tracking data and transform the bodypart center for each frame.   \n"
   ]
  },
  {
   "cell_type": "code",
   "execution_count": 50,
   "metadata": {},
   "outputs": [],
   "source": [
    "\n",
    "def transform_points(part:str,data,T):\n",
    "    \"\"\"Apply affine transformation to all points in tracking data for a specific part\"\"\"\n",
    "    frameIndex = 0\n",
    "    if part == \"legs\":\n",
    "        frameIndex = 1\n",
    "    elif part == \"all\":\n",
    "        frameIndex = 2\n",
    "    \n",
    "    transformedPoints = []\n",
    "    centeredPoints = []\n",
    "    for i in data.get(part):\n",
    "        print(i)\n",
    "        centerPoint = get_center(i, frameIndex)\n",
    "        centeredPoints.append[centerPoint]\n",
    "        transformedPoint = apply_affine(T, centerPoint)\n",
    "        transformedPoints.append(transformedPoint)\n",
    "    \n",
    "    return centeredPoints, transformedPoints # Replace\n",
    "    "
   ]
  },
  {
   "cell_type": "code",
   "execution_count": 51,
   "metadata": {},
   "outputs": [
    {
     "name": "stdout",
     "output_type": "stream",
     "text": [
      "[156. 214. 169. 224.]\n"
     ]
    },
    {
     "ename": "IndexError",
     "evalue": "too many indices for array: array is 1-dimensional, but 2 were indexed",
     "output_type": "error",
     "traceback": [
      "\u001b[1;31m---------------------------------------------------------------------------\u001b[0m",
      "\u001b[1;31mIndexError\u001b[0m                                Traceback (most recent call last)",
      "\u001b[1;32mc:\\ITU\\ITU K1\\Introduction to Machine Learning\\Exercises\\material-fall-2022-updated\\source\\exercises\\W4-transformations\\Affine.ipynb Cell 20\u001b[0m in \u001b[0;36m<cell line: 2>\u001b[1;34m()\u001b[0m\n\u001b[0;32m      <a href='vscode-notebook-cell:/c%3A/ITU/ITU%20K1/Introduction%20to%20Machine%20Learning/Exercises/material-fall-2022-updated/source/exercises/W4-transformations/Affine.ipynb#X25sZmlsZQ%3D%3D?line=0'>1</a>\u001b[0m \u001b[39m### Use your recently created function to transform the tracking data\u001b[39;00m\n\u001b[1;32m----> <a href='vscode-notebook-cell:/c%3A/ITU/ITU%20K1/Introduction%20to%20Machine%20Learning/Exercises/material-fall-2022-updated/source/exercises/W4-transformations/Affine.ipynb#X25sZmlsZQ%3D%3D?line=1'>2</a>\u001b[0m G_points, M_points \u001b[39m=\u001b[39m transform_points(\u001b[39m\"\u001b[39;49m\u001b[39mlegs\u001b[39;49m\u001b[39m\"\u001b[39;49m,data,T)\n",
      "\u001b[1;32mc:\\ITU\\ITU K1\\Introduction to Machine Learning\\Exercises\\material-fall-2022-updated\\source\\exercises\\W4-transformations\\Affine.ipynb Cell 20\u001b[0m in \u001b[0;36mtransform_points\u001b[1;34m(part, data, T)\u001b[0m\n\u001b[0;32m     <a href='vscode-notebook-cell:/c%3A/ITU/ITU%20K1/Introduction%20to%20Machine%20Learning/Exercises/material-fall-2022-updated/source/exercises/W4-transformations/Affine.ipynb#X25sZmlsZQ%3D%3D?line=10'>11</a>\u001b[0m \u001b[39mfor\u001b[39;00m i \u001b[39min\u001b[39;00m data\u001b[39m.\u001b[39mget(part):\n\u001b[0;32m     <a href='vscode-notebook-cell:/c%3A/ITU/ITU%20K1/Introduction%20to%20Machine%20Learning/Exercises/material-fall-2022-updated/source/exercises/W4-transformations/Affine.ipynb#X25sZmlsZQ%3D%3D?line=11'>12</a>\u001b[0m     \u001b[39mprint\u001b[39m(i)\n\u001b[1;32m---> <a href='vscode-notebook-cell:/c%3A/ITU/ITU%20K1/Introduction%20to%20Machine%20Learning/Exercises/material-fall-2022-updated/source/exercises/W4-transformations/Affine.ipynb#X25sZmlsZQ%3D%3D?line=12'>13</a>\u001b[0m     centerPoint \u001b[39m=\u001b[39m get_center(i, frameIndex)\n\u001b[0;32m     <a href='vscode-notebook-cell:/c%3A/ITU/ITU%20K1/Introduction%20to%20Machine%20Learning/Exercises/material-fall-2022-updated/source/exercises/W4-transformations/Affine.ipynb#X25sZmlsZQ%3D%3D?line=13'>14</a>\u001b[0m     centeredPoints\u001b[39m.\u001b[39mappend[centerPoint]\n\u001b[0;32m     <a href='vscode-notebook-cell:/c%3A/ITU/ITU%20K1/Introduction%20to%20Machine%20Learning/Exercises/material-fall-2022-updated/source/exercises/W4-transformations/Affine.ipynb#X25sZmlsZQ%3D%3D?line=14'>15</a>\u001b[0m     transformedPoint \u001b[39m=\u001b[39m apply_affine(T, centerPoint)\n",
      "\u001b[1;32mc:\\ITU\\ITU K1\\Introduction to Machine Learning\\Exercises\\material-fall-2022-updated\\source\\exercises\\W4-transformations\\Affine.ipynb Cell 20\u001b[0m in \u001b[0;36mget_center\u001b[1;34m(part, i)\u001b[0m\n\u001b[0;32m     <a href='vscode-notebook-cell:/c%3A/ITU/ITU%20K1/Introduction%20to%20Machine%20Learning/Exercises/material-fall-2022-updated/source/exercises/W4-transformations/Affine.ipynb#X25sZmlsZQ%3D%3D?line=11'>12</a>\u001b[0m \u001b[39mdef\u001b[39;00m \u001b[39mget_center\u001b[39m(part, i):\n\u001b[0;32m     <a href='vscode-notebook-cell:/c%3A/ITU/ITU%20K1/Introduction%20to%20Machine%20Learning/Exercises/material-fall-2022-updated/source/exercises/W4-transformations/Affine.ipynb#X25sZmlsZQ%3D%3D?line=12'>13</a>\u001b[0m     \u001b[39m\"\"\"Returns center of body part in homogeneous coordinates.\u001b[39;00m\n\u001b[0;32m     <a href='vscode-notebook-cell:/c%3A/ITU/ITU%20K1/Introduction%20to%20Machine%20Learning/Exercises/material-fall-2022-updated/source/exercises/W4-transformations/Affine.ipynb#X25sZmlsZQ%3D%3D?line=13'>14</a>\u001b[0m \n\u001b[0;32m     <a href='vscode-notebook-cell:/c%3A/ITU/ITU%20K1/Introduction%20to%20Machine%20Learning/Exercises/material-fall-2022-updated/source/exercises/W4-transformations/Affine.ipynb#X25sZmlsZQ%3D%3D?line=14'>15</a>\u001b[0m \u001b[39m    Parameters: part refers to a Nx4 array containing rectangle points for a specific\u001b[39;00m\n\u001b[0;32m     <a href='vscode-notebook-cell:/c%3A/ITU/ITU%20K1/Introduction%20to%20Machine%20Learning/Exercises/material-fall-2022-updated/source/exercises/W4-transformations/Affine.ipynb#X25sZmlsZQ%3D%3D?line=15'>16</a>\u001b[0m \u001b[39m    body part. i refers to the frame index to fetch.\u001b[39;00m\n\u001b[0;32m     <a href='vscode-notebook-cell:/c%3A/ITU/ITU%20K1/Introduction%20to%20Machine%20Learning/Exercises/material-fall-2022-updated/source/exercises/W4-transformations/Affine.ipynb#X25sZmlsZQ%3D%3D?line=16'>17</a>\u001b[0m \u001b[39m    \"\"\"\u001b[39;00m\n\u001b[1;32m---> <a href='vscode-notebook-cell:/c%3A/ITU/ITU%20K1/Introduction%20to%20Machine%20Learning/Exercises/material-fall-2022-updated/source/exercises/W4-transformations/Affine.ipynb#X25sZmlsZQ%3D%3D?line=17'>18</a>\u001b[0m     x \u001b[39m=\u001b[39m \u001b[39mint\u001b[39m((part[i, \u001b[39m0\u001b[39;49m] \u001b[39m+\u001b[39m part[i, \u001b[39m2\u001b[39m]) \u001b[39m/\u001b[39m \u001b[39m2\u001b[39m)\n\u001b[0;32m     <a href='vscode-notebook-cell:/c%3A/ITU/ITU%20K1/Introduction%20to%20Machine%20Learning/Exercises/material-fall-2022-updated/source/exercises/W4-transformations/Affine.ipynb#X25sZmlsZQ%3D%3D?line=18'>19</a>\u001b[0m     y \u001b[39m=\u001b[39m \u001b[39mint\u001b[39m((part[i, \u001b[39m1\u001b[39m] \u001b[39m+\u001b[39m part[i, \u001b[39m3\u001b[39m]) \u001b[39m/\u001b[39m \u001b[39m2\u001b[39m)\n\u001b[0;32m     <a href='vscode-notebook-cell:/c%3A/ITU/ITU%20K1/Introduction%20to%20Machine%20Learning/Exercises/material-fall-2022-updated/source/exercises/W4-transformations/Affine.ipynb#X25sZmlsZQ%3D%3D?line=20'>21</a>\u001b[0m     \u001b[39mreturn\u001b[39;00m to_homogeneous(np\u001b[39m.\u001b[39marray([x, y]))\n",
      "\u001b[1;31mIndexError\u001b[0m: too many indices for array: array is 1-dimensional, but 2 were indexed"
     ]
    }
   ],
   "source": [
    "### Use your recently created function to transform the tracking data\n",
    "G_points, M_points = transform_points(\"legs\",data,T)"
   ]
  },
  {
   "cell_type": "markdown",
   "metadata": {},
   "source": [
    "In the cell code is given that visualize the points in the $G$ and $M$ view\n",
    "\n",
    "3. Plot the tracking data for all the different body parts"
   ]
  },
  {
   "cell_type": "code",
   "execution_count": 12,
   "metadata": {},
   "outputs": [
    {
     "data": {
      "image/png": "[encoded data removed]",
      "text/plain": [
       "<Figure size 1008x432 with 1 Axes>"
      ]
     },
     "metadata": {
      "needs_background": "light"
     },
     "output_type": "display_data"
    },
    {
     "data": {
      "image/png": "[encoded data removed]",
      "text/plain": [
       "<Figure size 576x432 with 1 Axes>"
      ]
     },
     "metadata": {
      "needs_background": "light"
     },
     "output_type": "display_data"
    }
   ],
   "source": [
    "#### Visualize transformed points\n",
    "plt.figure(figsize=(14,6))\n",
    "plt.plot(points_destination[:,0],points_destination[:,1],'b*',label=\"3 points for transformation estimation\")\n",
    "plt.plot(M_points[:,0],M_points[:,1],'g.',label=\"tracked person\")\n",
    "plt.ylim(348,0)\n",
    "plt.xlim(0,800)\n",
    "plt.title('ITU MAP plane')\n",
    "plt.legend()\n",
    "plt.show()\n",
    "\n",
    "##### orignal plane visualization\n",
    "\n",
    "plt.figure(figsize=(8,6))\n",
    "plt.plot(points_source[:,0],points_source[:,1],'b*',label=\"3 points for transformation estimation\")\n",
    "plt.plot(G_points[:,0],G_points[:,1],'g.',label=\"tracked person\")\n",
    "plt.ylim(256,0),plt.xlim(0,320)\n",
    "plt.title('Video plane')\n",
    "plt.legend()\n",
    "plt.show()"
   ]
  },
  {
   "cell_type": "markdown",
   "metadata": {},
   "source": [
    "Also compare with the video, to gauge the quality of the tranformation. \n",
    "\n",
    "* Can you find any arguments as for why this tranfomation could be somewhat limited?"
   ]
  }
 ],
 "metadata": {
  "kernelspec": {
   "display_name": "Python 3.9.5 ('iml-course-s21qN5ct-py3.9')",
   "language": "python",
   "name": "python3"
  },
  "language_info": {
   "codemirror_mode": {
    "name": "ipython",
    "version": 3
   },
   "file_extension": ".py",
   "mimetype": "text/x-python",
   "name": "python",
   "nbconvert_exporter": "python",
   "pygments_lexer": "ipython3",
   "version": "3.9.5"
  },
  "orig_nbformat": 4,
  "vscode": {
   "interpreter": {
    "hash": "8fe4de6e6b77849f24957c97c480ab33d851ddf93356191007b76a6a2a3a82c0"
   }
  }
 },
 "nbformat": 4,
 "nbformat_minor": 2
}
