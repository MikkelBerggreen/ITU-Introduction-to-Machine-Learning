{
    "cells": [
        {
            "cell_type": "markdown",
            "id": "2ce8dc46",
            "metadata": {},
            "source": [
                "# Linear Algebra \n",
                "This tutorial will cover basic terms in linear algebra and their implementation in `NumPy`. \n",
                "The tutorial includes the following:\n",
                "\n",
                "1. Data structures in linear algebra \n",
                "2. Vectors operations (addition , inner product, length vs number of elements ...)\n",
                "3. Matrix operations \n",
                "4. Special matrices\n",
                "5. Determinant and inverse of a matrix\n",
                "\n",
                "\n",
                "## Data structures in linear algebra \n",
                "Define:\n",
                "- Scalar: Single number\n",
                "- Vector: Array of numbers\n",
                "- Matrix: 2-dimensional array of numbers\n",
                "- Tensor: N-dimensional array of numbers where $N$ > 2\n",
                "\n",
                "`NumPy` represents a vector as a 1-D array, a matrix as a 2-D array (array of arrays), and a $N$-tensor as a $N$-D array (e.g. A 3D-tensor is an array of 2D arrays etc.):\n",
                "\n",
                "<img src=\"https://miro.medium.com/max/617/0*Vh-pKXTJsdL-9FT0.png\" alt=\"alt text\" title=\"image Title\" />\n",
                "\n",
                "\n",
                "Creation of the structures in `NumPy` is shown below. (We leave out the scalar case, as it should be trivial)\n"
            ]
        },
        {
            "cell_type": "code",
            "execution_count": 1,
            "id": "3a395f96",
            "metadata": {},
            "outputs": [],
            "source": [
                "#import the numpy lib\n",
                "import numpy as np\n"
            ]
        },
        {
            "cell_type": "code",
            "execution_count": 3,
            "id": "fd6ba3aa",
            "metadata": {},
            "outputs": [
                {
                    "name": "stdout",
                    "output_type": "stream",
                    "text": [
                        "[1 6 3 1]\n"
                    ]
                }
            ],
            "source": [
                "#Vector with 4 elements:\n",
                "v= np.array([1,6,3,1])\n",
                "print(v)\n"
            ]
        },
        {
            "cell_type": "code",
            "execution_count": 4,
            "id": "f8f7de66",
            "metadata": {},
            "outputs": [
                {
                    "name": "stdout",
                    "output_type": "stream",
                    "text": [
                        "[[ 1 42  6  4]\n",
                        " [ 2  6 87  2]]\n"
                    ]
                }
            ],
            "source": [
                "# A 2x4 matrix:\n",
                "A= np.array([[1,42,6,4],[2,6,87,2]])\n",
                "print(A)\n",
                "\n"
            ]
        },
        {
            "cell_type": "code",
            "execution_count": 8,
            "id": "23729344",
            "metadata": {},
            "outputs": [
                {
                    "name": "stdout",
                    "output_type": "stream",
                    "text": [
                        "(2, 4)\n"
                    ]
                }
            ],
            "source": [
                "#print the size of the matrix\n",
                "print(A.shape)\n"
            ]
        },
        {
            "cell_type": "code",
            "execution_count": 5,
            "id": "6cd23a6c",
            "metadata": {},
            "outputs": [
                {
                    "name": "stdout",
                    "output_type": "stream",
                    "text": [
                        "[[[  1  23   3   4]\n",
                        "  [ 42   6   7  87]]\n",
                        "\n",
                        " [[  9   3  11   2]\n",
                        "  [  2  22  15 101]]]\n"
                    ]
                }
            ],
            "source": [
                "# A 2x2x4 tensor:\n",
                "T=np.array([[[1,23,3,4],[42,6,7,87]],[[9,3,11,2],[2,22,15,101]]])\n",
                "print(T)\n"
            ]
        },
        {
            "cell_type": "code",
            "execution_count": 6,
            "id": "363eb0aa",
            "metadata": {},
            "outputs": [
                {
                    "name": "stdout",
                    "output_type": "stream",
                    "text": [
                        "(2, 2, 4)\n"
                    ]
                }
            ],
            "source": [
                "#print the size of the tensor\n",
                "print(T.shape)\n"
            ]
        },
        {
            "cell_type": "markdown",
            "id": "cac280a0",
            "metadata": {},
            "source": [
                "## Vector Operations\n",
                "- **A vector multiplied by a scalar:** \n"
            ]
        },
        {
            "cell_type": "code",
            "execution_count": 8,
            "id": "e8e3c4eb",
            "metadata": {},
            "outputs": [
                {
                    "data": {
                        "text/plain": [
                            "array([ 6, 44,  6, 42])"
                        ]
                    },
                    "execution_count": 8,
                    "metadata": {},
                    "output_type": "execute_result"
                }
            ],
            "source": [
                "v1=np.array([3,22,3,21])\n",
                "v1*2\n"
            ]
        },
        {
            "cell_type": "markdown",
            "id": "07b37312",
            "metadata": {},
            "source": [
                "- **dot product/ inner product:** The dot product (see lecture slides for details) of two vectors $a,b$ with $N$ elements each: $$ a\\cdot b =\\sum_i^N a_ib_i = a^\\top b $$\n",
                "The **dot product** can be calculated using the numpy function `np.dot(a,b)` \n"
            ]
        },
        {
            "cell_type": "code",
            "execution_count": 2,
            "id": "8d367c15",
            "metadata": {},
            "outputs": [
                {
                    "data": {
                        "text/plain": [
                            "230"
                        ]
                    },
                    "execution_count": 2,
                    "metadata": {},
                    "output_type": "execute_result"
                }
            ],
            "source": [
                "#Create 2 vectors v1 and v2\n",
                "v1=np.array([1,2,3,42])\n",
                "v2=np.array([2,3,4,5])\n",
                "# calculate the dot product\n",
                "np.dot(v1,v2)\n"
            ]
        },
        {
            "cell_type": "markdown",
            "id": "3eee54ef",
            "metadata": {},
            "source": [
                "- **Summation and Subtraction of 2 vectors:**  Elementwise summation/subtraction (Note this is identical for matrices/tensors)\n"
            ]
        },
        {
            "cell_type": "code",
            "execution_count": 3,
            "id": "200d3815",
            "metadata": {},
            "outputs": [
                {
                    "name": "stdout",
                    "output_type": "stream",
                    "text": [
                        "v1 + v2 is : \n",
                        " [ 3  5  7 47]\n",
                        "v1 - v2 is :  \n",
                        " [-1 -1 -1 37]\n"
                    ]
                }
            ],
            "source": [
                "#create 2 vectors\n",
                "v1=np.array([1,2,3,42])\n",
                "v2=np.array([2,3,4,5])\n",
                "\n",
                "print(\"v1 + v2 is : \\n\",v1+v2)\n",
                "print(\"v1 - v2 is :  \\n\",v1-v2)\n"
            ]
        },
        {
            "cell_type": "markdown",
            "id": "2d1be909",
            "metadata": {},
            "source": [
                "## Length and dimensionality of vectors\n",
                "The Euclidean distance ($L2$-norm) of a vector $a$ is the square root of the inner product $$ |a| =\\sqrt{\\sum_i^N a_i^2 }= \\sqrt{a^\\top a}$$.\n",
                "\n"
            ]
        },
        {
            "cell_type": "code",
            "execution_count": 4,
            "id": "604bd8db",
            "metadata": {},
            "outputs": [
                {
                    "name": "stdout",
                    "output_type": "stream",
                    "text": [
                        "Euclidean distance of v1: 42.16633728461603\n"
                    ]
                }
            ],
            "source": [
                "# inner product of v1 with itself\n",
                "v1_v1_inner_product=np.dot(v1,v1)\n",
                "Euc_len_v1=np.sqrt(v1_v1_inner_product)\n",
                "print('Euclidean distance of v1:', Euc_len_v1)\n"
            ]
        },
        {
            "cell_type": "markdown",
            "id": "bb9e0f35",
            "metadata": {},
            "source": [
                "The Euclidean length can also be determined by a single built-in numpy function `np.linalg.norm()`\n"
            ]
        },
        {
            "cell_type": "code",
            "execution_count": 5,
            "id": "ed1b1161",
            "metadata": {},
            "outputs": [
                {
                    "name": "stdout",
                    "output_type": "stream",
                    "text": [
                        "Euclidean distance of v1: 42.16633728461603\n"
                    ]
                }
            ],
            "source": [
                "print('Euclidean distance of v1:', np.linalg.norm(v1))\n"
            ]
        },
        {
            "cell_type": "markdown",
            "id": "9842002a",
            "metadata": {},
            "source": [
                "### Orthogonal and normal vectors \n",
                "2 vectors are considered orthogonal/perpendicular if their inner product is zero. $$ x^\\top y=0$$\n"
            ]
        },
        {
            "cell_type": "code",
            "execution_count": 11,
            "id": "eea8354a",
            "metadata": {},
            "outputs": [
                {
                    "name": "stdout",
                    "output_type": "stream",
                    "text": [
                        "0\n"
                    ]
                }
            ],
            "source": [
                "# Orthognonal vectors\n",
                "v1 = np.array([1, -2, 4])\n",
                "v2 = np.array([2, 5, 2])\n",
                "\n",
                "print(v1.dot(v2)) ## Alternative way to do dot product. Equivalent to (np.dot(v1,v2))\n"
            ]
        },
        {
            "cell_type": "markdown",
            "id": "4a1fb32e",
            "metadata": {},
            "source": [
                "**orthonormal vectors:** Defined as two orthogonal vectors both with unit length.\n",
                "\n",
                "In the cell below, orthogonal vectors v1 and v2 are normalized by division with their length. \n"
            ]
        },
        {
            "cell_type": "code",
            "execution_count": 43,
            "id": "40d8dbf6",
            "metadata": {},
            "outputs": [
                {
                    "name": "stdout",
                    "output_type": "stream",
                    "text": [
                        "v1_normalized: [ 0.21821789 -0.43643578  0.87287156]\n",
                        "v2_normalized: [0.34815531 0.87038828 0.34815531]\n",
                        "inner product of v1_normalized and v2_normalized: \n",
                        " 0.0\n"
                    ]
                }
            ],
            "source": [
                "v1_normalized= v1/np.linalg.norm(v1)\n",
                "print('v1_normalized:', v1_normalized)\n",
                "v2_normalized= v2/np.linalg.norm(v2)\n",
                "print('v2_normalized:', v2_normalized)\n",
                "\n",
                "#inner product of orthonormal vectors\n",
                "print('inner product of v1_normalized and v2_normalized: \\n',v1_normalized.dot(v2_normalized))\n"
            ]
        },
        {
            "cell_type": "markdown",
            "id": "d288b709",
            "metadata": {},
            "source": [
                "## Matrix Operations\n",
                "In the next section is an overview of important matrix properties and well-known matrix compositions. \n",
                "\n",
                "**square matrix:** A two dimensional array with the same number of rows and columns.\n"
            ]
        },
        {
            "cell_type": "code",
            "execution_count": 16,
            "id": "18606cfc",
            "metadata": {},
            "outputs": [
                {
                    "data": {
                        "text/plain": [
                            "array([[2, 2, 3],\n",
                            "       [1, 4, 1],\n",
                            "       [1, 3, 2]])"
                        ]
                    },
                    "execution_count": 16,
                    "metadata": {},
                    "output_type": "execute_result"
                }
            ],
            "source": [
                "A=np.random.randint(5,size=(3,3))\n",
                "A\n"
            ]
        },
        {
            "cell_type": "markdown",
            "id": "4038157b",
            "metadata": {},
            "source": [
                "**Identity matrix** is a square matrix that contains ones on the diagonal and zeros elsewhere.\n",
                " \n",
                "The NumPy function `np.identity(N)` creates an identity matrix with N elements on the diagonal. \n"
            ]
        },
        {
            "cell_type": "code",
            "execution_count": 6,
            "id": "e57196f5",
            "metadata": {},
            "outputs": [
                {
                    "data": {
                        "text/plain": [
                            "array([[1., 0., 0.],\n",
                            "       [0., 1., 0.],\n",
                            "       [0., 0., 1.]])"
                        ]
                    },
                    "execution_count": 6,
                    "metadata": {},
                    "output_type": "execute_result"
                }
            ],
            "source": [
                "I3=np.identity(3)\n",
                "I3\n"
            ]
        },
        {
            "cell_type": "code",
            "execution_count": 7,
            "id": "8d7158c4",
            "metadata": {},
            "outputs": [
                {
                    "data": {
                        "text/plain": [
                            "array([[1., 0., 0., 0.],\n",
                            "       [0., 1., 0., 0.],\n",
                            "       [0., 0., 1., 0.],\n",
                            "       [0., 0., 0., 1.]])"
                        ]
                    },
                    "execution_count": 7,
                    "metadata": {},
                    "output_type": "execute_result"
                }
            ],
            "source": [
                "I4=np.identity(4)\n",
                "I4\n"
            ]
        },
        {
            "cell_type": "markdown",
            "id": "f7c403ca",
            "metadata": {},
            "source": [
                "**Diagonal matrix:** Only have non-zero elements on the diagonal.\n",
                "\n",
                "The NumPy function `np.diag(a)` creates a 2D array (diagonal matrix)\n",
                " given a 1D array (list/vector containing diagonal elements) as input. \n"
            ]
        },
        {
            "cell_type": "code",
            "execution_count": 11,
            "id": "666b043c",
            "metadata": {},
            "outputs": [],
            "source": [
                "# Create an array:\n",
                "v = np.array([3., 2., 5.])\n"
            ]
        },
        {
            "cell_type": "code",
            "execution_count": 12,
            "id": "c3ed5074",
            "metadata": {},
            "outputs": [
                {
                    "name": "stdout",
                    "output_type": "stream",
                    "text": [
                        "[[3. 0. 0.]\n",
                        " [0. 2. 0.]\n",
                        " [0. 0. 5.]]\n"
                    ]
                }
            ],
            "source": [
                "# Create a matrix with elements of v on the diagonal:\n",
                "D = np.diag(v)\n",
                "print(D)\n"
            ]
        },
        {
            "cell_type": "markdown",
            "id": "96e5f3c7",
            "metadata": {},
            "source": [
                "# Matrix multiplication \n",
                "**Matrix multiplication of two matrices consist of inner products of row-column pairs:**\n",
                "\n",
                "Consider the matrices A1 and A2:\n",
                "\n",
                "The first row of A1 is [1,3,0] and the first column of A2 is [2,0,2]. The inner product of the first row of A1 and the column of A2 ($(1\\times 2)+(3\\times 0)+(0\\times 2)=2$) gives the element of the product matrix at index $(1,1)$ but $[0,0]$ in the NumPy array.\n",
                "\n",
                "Similarly, the inner product of second row of A1 and second column of A2 is $36$ which is the value of the product matrix at index $[1,1]$ in the NumPy array. \n"
            ]
        },
        {
            "cell_type": "code",
            "execution_count": 15,
            "id": "6a7cd16c",
            "metadata": {},
            "outputs": [
                {
                    "data": {
                        "text/plain": [
                            "array([[1, 3, 0],\n",
                            "       [4, 4, 4]])"
                        ]
                    },
                    "execution_count": 15,
                    "metadata": {},
                    "output_type": "execute_result"
                }
            ],
            "source": [
                "# Create a 2x3 matrix A1\n",
                "A1=np.array([[1,3,0],[4,4,4]])\n",
                "A1\n"
            ]
        },
        {
            "cell_type": "code",
            "execution_count": 14,
            "id": "e98fcdb4",
            "metadata": {},
            "outputs": [
                {
                    "data": {
                        "text/plain": [
                            "array([[2, 2],\n",
                            "       [0, 4],\n",
                            "       [2, 3]])"
                        ]
                    },
                    "execution_count": 14,
                    "metadata": {},
                    "output_type": "execute_result"
                }
            ],
            "source": [
                "# Create a 3x2 matrix A2\n",
                "A2=np.array([[2,2],[0,4],[2,3]])\n",
                "A2\n"
            ]
        },
        {
            "cell_type": "code",
            "execution_count": 23,
            "id": "76000750",
            "metadata": {},
            "outputs": [
                {
                    "data": {
                        "text/plain": [
                            "2"
                        ]
                    },
                    "execution_count": 23,
                    "metadata": {},
                    "output_type": "execute_result"
                }
            ],
            "source": [
                "#A1 first row, A2 first column : position [1,1]\n",
                "np.dot(A1[0,:],A2[:,0])\n"
            ]
        },
        {
            "cell_type": "code",
            "execution_count": 24,
            "id": "e1f1eba4",
            "metadata": {},
            "outputs": [
                {
                    "data": {
                        "text/plain": [
                            "16"
                        ]
                    },
                    "execution_count": 24,
                    "metadata": {},
                    "output_type": "execute_result"
                }
            ],
            "source": [
                "#A1 second row, A2 first column : position [2,1]\n",
                "np.dot(A1[1,:],A2[:,0])\n"
            ]
        },
        {
            "cell_type": "code",
            "execution_count": 25,
            "id": "85dad9bd",
            "metadata": {},
            "outputs": [
                {
                    "data": {
                        "text/plain": [
                            "14"
                        ]
                    },
                    "execution_count": 25,
                    "metadata": {},
                    "output_type": "execute_result"
                }
            ],
            "source": [
                "#A1 first row, A2 second column : position [1,2]\n",
                "np.dot(A1[0,:],A2[:,1])\n"
            ]
        },
        {
            "cell_type": "code",
            "execution_count": 26,
            "id": "5ba4417b",
            "metadata": {},
            "outputs": [
                {
                    "data": {
                        "text/plain": [
                            "36"
                        ]
                    },
                    "execution_count": 26,
                    "metadata": {},
                    "output_type": "execute_result"
                }
            ],
            "source": [
                "#A1 second row, A2 second column : position [2,2]\n",
                "np.dot(A1[1,:],A2[:,1])\n"
            ]
        },
        {
            "cell_type": "code",
            "execution_count": 16,
            "id": "e7b6ba0f",
            "metadata": {},
            "outputs": [
                {
                    "data": {
                        "text/plain": [
                            "array([[ 2, 14],\n",
                            "       [16, 36]])"
                        ]
                    },
                    "execution_count": 16,
                    "metadata": {},
                    "output_type": "execute_result"
                }
            ],
            "source": [
                "# A1*A2\n",
                "np.matmul(A1,A2)\n"
            ]
        },
        {
            "cell_type": "markdown",
            "id": "751636f8",
            "metadata": {},
            "source": [
                "Multiplying a matrix A (from either left or right) with the identity matrix yields the matrix A. Thus, \n",
                "$$AI = A = IA.$$\n",
                "An example is provided below:\n"
            ]
        },
        {
            "cell_type": "code",
            "execution_count": 17,
            "id": "9d066bf3",
            "metadata": {},
            "outputs": [
                {
                    "data": {
                        "text/plain": [
                            "array([[2, 4, 3],\n",
                            "       [4, 3, 2],\n",
                            "       [2, 4, 0]])"
                        ]
                    },
                    "execution_count": 17,
                    "metadata": {},
                    "output_type": "execute_result"
                }
            ],
            "source": [
                "# create 3x3 matrix A with random values between 0 and 4.\n",
                "A=np.random.randint(5,size=(3,3))\n",
                "A\n"
            ]
        },
        {
            "cell_type": "code",
            "execution_count": 18,
            "id": "4f73f307",
            "metadata": {},
            "outputs": [
                {
                    "data": {
                        "text/plain": [
                            "array([[1., 0., 0.],\n",
                            "       [0., 1., 0.],\n",
                            "       [0., 0., 1.]])"
                        ]
                    },
                    "execution_count": 18,
                    "metadata": {},
                    "output_type": "execute_result"
                }
            ],
            "source": [
                "# create 3x3 identity matrix.\n",
                "I=np.identity(3)\n",
                "I\n"
            ]
        },
        {
            "cell_type": "code",
            "execution_count": 19,
            "id": "8670dec7",
            "metadata": {},
            "outputs": [
                {
                    "data": {
                        "text/plain": [
                            "array([[2., 4., 3.],\n",
                            "       [4., 3., 2.],\n",
                            "       [2., 4., 0.]])"
                        ]
                    },
                    "execution_count": 19,
                    "metadata": {},
                    "output_type": "execute_result"
                }
            ],
            "source": [
                "np.dot(A,I)\n"
            ]
        },
        {
            "cell_type": "markdown",
            "id": "98f40c64",
            "metadata": {},
            "source": [
                "## Determinant and inverse of a matrix\n",
                "We use **np.linalg.det()** to get determinant of a matrix. \n"
            ]
        },
        {
            "cell_type": "code",
            "execution_count": 22,
            "id": "43ae0d81",
            "metadata": {},
            "outputs": [
                {
                    "data": {
                        "text/plain": [
                            "array([[ 1,  1,  1],\n",
                            "       [ 0,  2,  5],\n",
                            "       [ 2,  5, -1]])"
                        ]
                    },
                    "execution_count": 22,
                    "metadata": {},
                    "output_type": "execute_result"
                }
            ],
            "source": [
                "# create 3x3 array\n",
                "A4= np.array([[1,1,1],[0,2,5],[2,5,-1]])\n",
                "A4\n"
            ]
        },
        {
            "cell_type": "code",
            "execution_count": 23,
            "id": "bb491a7b",
            "metadata": {},
            "outputs": [
                {
                    "data": {
                        "text/plain": [
                            "-21.0"
                        ]
                    },
                    "execution_count": 23,
                    "metadata": {},
                    "output_type": "execute_result"
                }
            ],
            "source": [
                "# calculate the determinant \n",
                "np.linalg.det(A4)\n"
            ]
        },
        {
            "cell_type": "markdown",
            "id": "a8ea719f",
            "metadata": {},
            "source": [
                "\n",
                "The function `np.linalg.inv(A)` can be used to calculate the inverse of a matrix `A`. \n",
                "\n",
                "**Note:** The function returns an error when the matrix is singular (i.e. the determinant is zero)\n",
                "Hence it would be wise to write:\n"
            ]
        },
        {
            "cell_type": "code",
            "execution_count": 36,
            "id": "0633460c",
            "metadata": {},
            "outputs": [
                {
                    "name": "stdout",
                    "output_type": "stream",
                    "text": [
                        "[[ 1.28571429 -0.28571429 -0.14285714]\n",
                        " [-0.47619048  0.14285714  0.23809524]\n",
                        " [ 0.19047619  0.14285714 -0.0952381 ]]\n"
                    ]
                }
            ],
            "source": [
                "if np.linalg.det(A4)!=0:\n",
                "    A4_inv=np.linalg.inv(A4)\n",
                "    print(A4_inv)\n",
                "else: \n",
                "    print('The matrix is singular, hence its inverse does not exists')\n"
            ]
        },
        {
            "cell_type": "markdown",
            "id": "2552dd50",
            "metadata": {},
            "source": [
                "The matrix A multiplied by its inverse yields the identity matrix.\n"
            ]
        },
        {
            "cell_type": "code",
            "execution_count": 37,
            "id": "25d71e0b",
            "metadata": {},
            "outputs": [
                {
                    "data": {
                        "text/plain": [
                            "array([[ 1.00000000e+00, -5.55111512e-17,  0.00000000e+00],\n",
                            "       [ 0.00000000e+00,  1.00000000e+00,  0.00000000e+00],\n",
                            "       [-1.11022302e-16,  5.55111512e-17,  1.00000000e+00]])"
                        ]
                    },
                    "execution_count": 37,
                    "metadata": {},
                    "output_type": "execute_result"
                }
            ],
            "source": [
                "np.dot(A4,A4_inv)\n"
            ]
        },
        {
            "cell_type": "markdown",
            "id": "703fe3b1",
            "metadata": {},
            "source": [
                "### Diagonal matrice (determinant and inversion)\n"
            ]
        },
        {
            "cell_type": "code",
            "execution_count": 45,
            "id": "4c012908",
            "metadata": {},
            "outputs": [
                {
                    "data": {
                        "text/plain": [
                            "array([[5, 0, 0],\n",
                            "       [0, 2, 0],\n",
                            "       [0, 0, 3]])"
                        ]
                    },
                    "execution_count": 45,
                    "metadata": {},
                    "output_type": "execute_result"
                }
            ],
            "source": [
                "# Create a diagonal matrix \n",
                "A5=np.diag([5,2,3])\n",
                "A5\n"
            ]
        },
        {
            "cell_type": "markdown",
            "id": "65febc41",
            "metadata": {},
            "source": [
                "The determinant of a diagonal matrix is the product of the elements on the diagonal. \n"
            ]
        },
        {
            "cell_type": "code",
            "execution_count": 46,
            "id": "726fd689",
            "metadata": {},
            "outputs": [
                {
                    "data": {
                        "text/plain": [
                            "29.99999999999999"
                        ]
                    },
                    "execution_count": 46,
                    "metadata": {},
                    "output_type": "execute_result"
                }
            ],
            "source": [
                "np.linalg.det(A5)\n"
            ]
        },
        {
            "cell_type": "markdown",
            "id": "0d9c2e67",
            "metadata": {},
            "source": [
                "The inverse of a diagonal matrix is the reciprocal of each element on the diagonal.\n"
            ]
        },
        {
            "cell_type": "code",
            "execution_count": 47,
            "id": "19c997ac",
            "metadata": {},
            "outputs": [
                {
                    "data": {
                        "text/plain": [
                            "array([[0.2       , 0.        , 0.        ],\n",
                            "       [0.        , 0.5       , 0.        ],\n",
                            "       [0.        , 0.        , 0.33333333]])"
                        ]
                    },
                    "execution_count": 47,
                    "metadata": {},
                    "output_type": "execute_result"
                }
            ],
            "source": [
                "np.linalg.inv(A5)\n"
            ]
        },
        {
            "cell_type": "markdown",
            "id": "d16ba481",
            "metadata": {},
            "source": [
                "This concludes the toturial.\n"
            ]
        }
    ],
    "metadata": {
        "kernelspec": {
            "display_name": "Python 3.9.5 ('test')",
            "language": "python",
            "name": "python3"
        },
        "language_info": {
            "codemirror_mode": {
                "name": "ipython",
                "version": 3
            },
            "file_extension": ".py",
            "mimetype": "text/x-python",
            "name": "python",
            "nbconvert_exporter": "python",
            "pygments_lexer": "ipython3",
            "version": "3.9.5"
        },
        "vscode": {
            "interpreter": {
                "hash": "7da34bf825f88e32158564d567d736ca6f8c574890b002d9433796d1d18fb610"
            }
        }
    },
    "nbformat": 4,
    "nbformat_minor": 5
}