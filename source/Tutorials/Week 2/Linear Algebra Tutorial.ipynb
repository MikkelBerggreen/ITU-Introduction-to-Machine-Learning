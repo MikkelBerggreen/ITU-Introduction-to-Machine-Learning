{
    "cells": [
        {
            "cell_type": "markdown",
            "id": "f721c587",
            "metadata": {},
            "source": []
        },
        {
            "cell_type": "markdown",
            "id": "2ce8dc46",
            "metadata": {},
            "source": [
                "# Linear Algebra \n",
                "In this tutorial, we will cover some basic terms in linear algebra and go through examples using NumPy. You might got familiar with some these materials in exercise week 2. The tutorial covers the following topics:\n",
                "\n",
                "1. Data structures in linear algebra \n",
                "2. Vectors operations (addition , inner product, length vs number of elements ...)\n",
                "3. Matrix operations \n",
                "4. Special matrices\n",
                "5. Determinant and inverse of a matrix\n",
                "\n",
                "\n",
                "## Data structures in linear algbera \n",
                "There are different types of objects (or structures) in linear algebra:\n",
                "\n",
                "- Scalar: Single number\n",
                "- Vector: Array of numbers\n",
                "- Matrix: 2-dimensional array of numbers\n",
                "- Tensor: N-dimensional array of numbers where n > 2\n",
                "\n",
                "\n",
                "Let\u2019s create an example for each of these objects. \n",
                "We will skip \u201cscalar\u201d since it is just a number.\n",
                "let's first import numpy.\n"
            ]
        },
        {
            "cell_type": "code",
            "execution_count": 5,
            "id": "3a395f96",
            "metadata": {},
            "outputs": [],
            "source": [
                "import numpy as np \n"
            ]
        },
        {
            "cell_type": "markdown",
            "id": "929b7e61",
            "metadata": {},
            "source": [
                "A vector that has 4 elements:\n"
            ]
        },
        {
            "cell_type": "code",
            "execution_count": 6,
            "id": "fd6ba3aa",
            "metadata": {},
            "outputs": [
                {
                    "name": "stdout",
                    "output_type": "stream",
                    "text": [
                        "[1 2 3 4]\n"
                    ]
                }
            ],
            "source": [
                "v= np.array([1,2,3,4])\n",
                "print(v)\n"
            ]
        },
        {
            "cell_type": "markdown",
            "id": "08c1c843",
            "metadata": {},
            "source": [
                "A 2x4 matrix:\n"
            ]
        },
        {
            "cell_type": "code",
            "execution_count": 7,
            "id": "f8f7de66",
            "metadata": {},
            "outputs": [
                {
                    "name": "stdout",
                    "output_type": "stream",
                    "text": [
                        "[[1 2 3 4]\n",
                        " [5 6 7 8]]\n"
                    ]
                }
            ],
            "source": [
                "A= np.array([[1,2,3,4],[5,6,7,8]])\n",
                "print(A)\n",
                "\n"
            ]
        },
        {
            "cell_type": "code",
            "execution_count": 8,
            "id": "23729344",
            "metadata": {},
            "outputs": [
                {
                    "name": "stdout",
                    "output_type": "stream",
                    "text": [
                        "(2, 4)\n"
                    ]
                }
            ],
            "source": [
                "#print the size of the matrix\n",
                "print(A.shape)\n"
            ]
        },
        {
            "cell_type": "markdown",
            "id": "f31ed8cc",
            "metadata": {},
            "source": [
                "A 2x2x4 tensor:\n"
            ]
        },
        {
            "cell_type": "code",
            "execution_count": 9,
            "id": "6cd23a6c",
            "metadata": {},
            "outputs": [
                {
                    "name": "stdout",
                    "output_type": "stream",
                    "text": [
                        "[[[ 1  2  3  4]\n",
                        "  [ 5  6  7  8]]\n",
                        "\n",
                        " [[ 9 10 11 12]\n",
                        "  [13 14 15 16]]]\n"
                    ]
                }
            ],
            "source": [
                "T=np.array([[[1,2,3,4],[5,6,7,8]],[[9,10,11,12],[13,14,15,16]]])\n",
                "print(T)\n"
            ]
        },
        {
            "cell_type": "code",
            "execution_count": 10,
            "id": "363eb0aa",
            "metadata": {},
            "outputs": [
                {
                    "name": "stdout",
                    "output_type": "stream",
                    "text": [
                        "(2, 2, 4)\n"
                    ]
                }
            ],
            "source": [
                "#print the size of the tensor\n",
                "print(T.shape)\n"
            ]
        },
        {
            "cell_type": "markdown",
            "id": "8b4f2ad5",
            "metadata": {},
            "source": [
                "In terms of numpy representations, vector is 1-D array, matrix is 2-D array, and tensor is n-D array (n>2):\n",
                "\n"
            ]
        },
        {
            "cell_type": "markdown",
            "id": "365a2b3e",
            "metadata": {},
            "source": [
                "<img src=\"https://miro.medium.com/max/617/0*Vh-pKXTJsdL-9FT0.png\" alt=\"alt text\" title=\"image Title\" />\n"
            ]
        },
        {
            "cell_type": "markdown",
            "id": "cac280a0",
            "metadata": {},
            "source": [
                "## Vector Operations\n",
                "- When a vector is multiplied by a scalar, each element of the vector is multiplied with the scalar:\n"
            ]
        },
        {
            "cell_type": "code",
            "execution_count": 11,
            "id": "e8e3c4eb",
            "metadata": {},
            "outputs": [
                {
                    "data": {
                        "text/plain": [
                            "array([2, 4, 6, 8])"
                        ]
                    },
                    "execution_count": 11,
                    "metadata": {},
                    "output_type": "execute_result"
                }
            ],
            "source": [
                "v1=np.array([1,2,3,4])\n",
                "v1*2\n"
            ]
        },
        {
            "cell_type": "markdown",
            "id": "07b37312",
            "metadata": {},
            "source": [
                "- Another common operation is **dot product**. The dot product of two vectors is the sum of the products of elements with regards to position. The first element of one vector is multiplied by the first element of the second vector and so on. The sum of these products is the dot product which can be done with **np.dot()** function.\n"
            ]
        },
        {
            "cell_type": "code",
            "execution_count": 12,
            "id": "8d367c15",
            "metadata": {},
            "outputs": [
                {
                    "data": {
                        "text/plain": [
                            "20"
                        ]
                    },
                    "execution_count": 12,
                    "metadata": {},
                    "output_type": "execute_result"
                }
            ],
            "source": [
                "v1=np.array([1,2,3])\n",
                "v2=np.array([2,3,4])\n",
                "\n",
                "np.dot(v1,v2)\n"
            ]
        },
        {
            "cell_type": "markdown",
            "id": "3eee54ef",
            "metadata": {},
            "source": [
                "- Element-wise summation and subtraction on vectors are done with standard math operations.\n"
            ]
        },
        {
            "cell_type": "code",
            "execution_count": 13,
            "id": "200d3815",
            "metadata": {},
            "outputs": [
                {
                    "name": "stdout",
                    "output_type": "stream",
                    "text": [
                        "v1 + v2 is : \n",
                        " [3 5 7]\n",
                        "v1 - v2 is :  \n",
                        " [-1 -1 -1]\n"
                    ]
                }
            ],
            "source": [
                "v1=np.array([1,2,3])\n",
                "v2=np.array([2,3,4])\n",
                "\n",
                "print(\"v1 + v2 is : \\n\",v1+v2)\n",
                "print(\"v1 - v2 is :  \\n\",v1-v2)\n"
            ]
        },
        {
            "cell_type": "markdown",
            "id": "2d1be909",
            "metadata": {},
            "source": [
                "## Length and dimensionality of vectors\n",
                "The length of a vector is most commonly measured by the \"square root of the sum of the squares of the elements\";Euclidean length of a vector. We will calcualte Euclidean length of vector by getting a square root of inner product of it with itself. \n",
                "\n"
            ]
        },
        {
            "cell_type": "code",
            "execution_count": 14,
            "id": "604bd8db",
            "metadata": {},
            "outputs": [
                {
                    "name": "stdout",
                    "output_type": "stream",
                    "text": [
                        "Euclidean length of v1: 3.7416573867739413\n"
                    ]
                }
            ],
            "source": [
                "# inner product of v1 with itself\n",
                "v1_v1_inner_product=v1.dot(v1)\n",
                "Euc_len_v1=np.sqrt(v1_v1_inner_product)\n",
                "print('Euclidean length of v1:', Euc_len_v1)\n"
            ]
        },
        {
            "cell_type": "markdown",
            "id": "bb9e0f35",
            "metadata": {},
            "source": [
                "We can also calculte Euclidean length by using *np.linalg.norm()*\n"
            ]
        },
        {
            "cell_type": "code",
            "execution_count": 15,
            "id": "ed1b1161",
            "metadata": {},
            "outputs": [
                {
                    "name": "stdout",
                    "output_type": "stream",
                    "text": [
                        "Euclidean length of v1: 3.7416573867739413\n"
                    ]
                }
            ],
            "source": [
                "print('Euclidean length of v1:', np.linalg.norm(v1))\n"
            ]
        },
        {
            "cell_type": "markdown",
            "id": "9842002a",
            "metadata": {},
            "source": [
                "### Orthogonal and normal vectors \n",
                "We say that 2 vectors are orthogonal if they are perpendicular to each other( i.e. the dot product of the two vectors is zero). \n",
                "\n",
                "\n",
                "$ x^Ty=0$\n",
                "\n"
            ]
        },
        {
            "cell_type": "code",
            "execution_count": 38,
            "id": "eea8354a",
            "metadata": {},
            "outputs": [
                {
                    "name": "stdout",
                    "output_type": "stream",
                    "text": [
                        "0\n"
                    ]
                }
            ],
            "source": [
                "# Orthognonal vectors\n",
                "v1 = np.array([1, -2, 4])\n",
                "v2 = np.array([2, 5, 2])\n",
                "\n",
                "print(v1.dot(v2))\n"
            ]
        },
        {
            "cell_type": "markdown",
            "id": "4a1fb32e",
            "metadata": {},
            "source": [
                "If two orthogonal vectors have unit magnitude we call them **orthonromal**. In the code below we normolaize vectors v1 and v2 by dividing bt their Euclidean length. \n"
            ]
        },
        {
            "cell_type": "code",
            "execution_count": 43,
            "id": "40d8dbf6",
            "metadata": {},
            "outputs": [
                {
                    "name": "stdout",
                    "output_type": "stream",
                    "text": [
                        "v1_normalized: [ 0.21821789 -0.43643578  0.87287156]\n",
                        "v2_normalized: [0.34815531 0.87038828 0.34815531]\n",
                        "inner product of v1_normalized and v2_normalized: \n",
                        " 0.0\n"
                    ]
                }
            ],
            "source": [
                "v1_normalized= v1/np.linalg.norm(v1)\n",
                "print('v1_normalized:', v1_normalized)\n",
                "v2_normalized= v2/np.linalg.norm(v2)\n",
                "print('v2_normalized:', v2_normalized)\n",
                "\n",
                "#inner product of orthonormal vectors\n",
                "print('inner product of v1_normalized and v2_normalized: \\n',v1_normalized.dot(v2_normalized))\n"
            ]
        },
        {
            "cell_type": "markdown",
            "id": "d288b709",
            "metadata": {},
            "source": [
                "## Matrix Operations\n",
                "\n",
                "Matrix operations are widely-used operation in linear algebra. When solving a system of linear equations, matrix multiplication comes in very handy. let's first have an introduction on properties of matrices and introduce some well-known matrices. \n",
                "A matrix is a 2-dimensional array. If the number of elements (size) in both dimensions are the same, then we have a **square matrix**.\n"
            ]
        },
        {
            "cell_type": "code",
            "execution_count": 16,
            "id": "18606cfc",
            "metadata": {},
            "outputs": [
                {
                    "data": {
                        "text/plain": [
                            "array([[2, 2, 3],\n",
                            "       [1, 4, 1],\n",
                            "       [1, 3, 2]])"
                        ]
                    },
                    "execution_count": 16,
                    "metadata": {},
                    "output_type": "execute_result"
                }
            ],
            "source": [
                "A=np.random.randint(5,size=(3,3))\n",
                "A\n"
            ]
        },
        {
            "cell_type": "markdown",
            "id": "4038157b",
            "metadata": {},
            "source": [
                "**Identity matrix** is a square matrix that contains ones on the main diagonal and zeros in all other positions.\n"
            ]
        },
        {
            "cell_type": "code",
            "execution_count": 17,
            "id": "e57196f5",
            "metadata": {},
            "outputs": [
                {
                    "data": {
                        "text/plain": [
                            "array([[1, 0, 0],\n",
                            "       [0, 1, 0],\n",
                            "       [0, 0, 1]])"
                        ]
                    },
                    "execution_count": 17,
                    "metadata": {},
                    "output_type": "execute_result"
                }
            ],
            "source": [
                "I3=np.identity(3, dtype=int)\n",
                "I3\n"
            ]
        },
        {
            "cell_type": "code",
            "execution_count": 18,
            "id": "8d7158c4",
            "metadata": {},
            "outputs": [
                {
                    "data": {
                        "text/plain": [
                            "array([[1, 0, 0],\n",
                            "       [0, 1, 0],\n",
                            "       [0, 0, 1]])"
                        ]
                    },
                    "execution_count": 18,
                    "metadata": {},
                    "output_type": "execute_result"
                }
            ],
            "source": [
                "I4=np.identity(3, dtype=int)\n",
                "I4\n"
            ]
        },
        {
            "cell_type": "markdown",
            "id": "f7c403ca",
            "metadata": {},
            "source": [
                "**Diagonal matrix:** we will use the diag() function. This function is particularly interesting, because if we pass a 1-D array into it, it will return a 2-D array (or a matrix) with the vector values on its \ud835\udc58-th diagonal (\ud835\udc58=0 for the main diagonal).\n",
                "\n",
                "Now let\u2019s create some 1-D array (or a vector):\n"
            ]
        },
        {
            "cell_type": "code",
            "execution_count": 19,
            "id": "666b043c",
            "metadata": {},
            "outputs": [],
            "source": [
                "v = [3, 2, 5]\n"
            ]
        },
        {
            "cell_type": "markdown",
            "id": "c399284f",
            "metadata": {},
            "source": [
                "and create a matrix with \ud835\udc63 on the main diagonal:\n"
            ]
        },
        {
            "cell_type": "code",
            "execution_count": 20,
            "id": "c3ed5074",
            "metadata": {},
            "outputs": [
                {
                    "name": "stdout",
                    "output_type": "stream",
                    "text": [
                        "[[3 0 0]\n",
                        " [0 2 0]\n",
                        " [0 0 5]]\n"
                    ]
                }
            ],
            "source": [
                "D = np.diag(v)\n",
                "print(D)\n"
            ]
        },
        {
            "cell_type": "markdown",
            "id": "96e5f3c7",
            "metadata": {},
            "source": [
                "# Matrix multiplication \n",
                "Matrix multiplication of two matrices is based on dot products of rows of one matrix with the columns of other matrix. Each element of the product matrix is a dot product of a row in first matrix and a column in the second matrix. Consider matrices A1 and A2 below. The first row of A1 is [1,3,0] and the first column of A2 is [2,0,2]. Dot product of these two vectors is (1x2)+(3x0)+(0x2)=2 which is the element of the product matrix at position [0,0]. The dot product of second row of A1 and second column of A2 gives us the element at position [2,2] which is 36. \n"
            ]
        },
        {
            "cell_type": "code",
            "execution_count": 21,
            "id": "6a7cd16c",
            "metadata": {},
            "outputs": [
                {
                    "data": {
                        "text/plain": [
                            "array([[1, 3, 0],\n",
                            "       [4, 4, 4]])"
                        ]
                    },
                    "execution_count": 21,
                    "metadata": {},
                    "output_type": "execute_result"
                }
            ],
            "source": [
                "A1=np.array([[1,3,0],[4,4,4]])\n",
                "A1\n"
            ]
        },
        {
            "cell_type": "code",
            "execution_count": 22,
            "id": "e98fcdb4",
            "metadata": {},
            "outputs": [
                {
                    "data": {
                        "text/plain": [
                            "array([[2, 2],\n",
                            "       [0, 4],\n",
                            "       [2, 3]])"
                        ]
                    },
                    "execution_count": 22,
                    "metadata": {},
                    "output_type": "execute_result"
                }
            ],
            "source": [
                "A2=np.array([[2,2],[0,4],[2,3]])\n",
                "A2\n"
            ]
        },
        {
            "cell_type": "code",
            "execution_count": 23,
            "id": "76000750",
            "metadata": {},
            "outputs": [
                {
                    "data": {
                        "text/plain": [
                            "2"
                        ]
                    },
                    "execution_count": 23,
                    "metadata": {},
                    "output_type": "execute_result"
                }
            ],
            "source": [
                "#A1 first row, A2 first column : position [1,1]\n",
                "np.dot(A1[0,:],A2[:,0])\n"
            ]
        },
        {
            "cell_type": "code",
            "execution_count": 24,
            "id": "e1f1eba4",
            "metadata": {},
            "outputs": [
                {
                    "data": {
                        "text/plain": [
                            "16"
                        ]
                    },
                    "execution_count": 24,
                    "metadata": {},
                    "output_type": "execute_result"
                }
            ],
            "source": [
                "#A1 second row, A2 first column : position [2,1]\n",
                "np.dot(A1[1,:],A2[:,0])\n"
            ]
        },
        {
            "cell_type": "code",
            "execution_count": 25,
            "id": "85dad9bd",
            "metadata": {},
            "outputs": [
                {
                    "data": {
                        "text/plain": [
                            "14"
                        ]
                    },
                    "execution_count": 25,
                    "metadata": {},
                    "output_type": "execute_result"
                }
            ],
            "source": [
                "#A1 first row, A2 second column : position [1,2]\n",
                "np.dot(A1[0,:],A2[:,1])\n"
            ]
        },
        {
            "cell_type": "code",
            "execution_count": 26,
            "id": "5ba4417b",
            "metadata": {},
            "outputs": [
                {
                    "data": {
                        "text/plain": [
                            "36"
                        ]
                    },
                    "execution_count": 26,
                    "metadata": {},
                    "output_type": "execute_result"
                }
            ],
            "source": [
                "#A1 second row, A2 second column : position [2,2]\n",
                "np.dot(A1[1,:],A2[:,1])\n"
            ]
        },
        {
            "cell_type": "code",
            "execution_count": 27,
            "id": "e7b6ba0f",
            "metadata": {},
            "outputs": [
                {
                    "data": {
                        "text/plain": [
                            "array([[ 2, 14],\n",
                            "       [16, 36]])"
                        ]
                    },
                    "execution_count": 27,
                    "metadata": {},
                    "output_type": "execute_result"
                }
            ],
            "source": [
                "# A3=A1*A2\n",
                "A3=np.matmul(A1,A2)\n",
                "A3\n"
            ]
        },
        {
            "cell_type": "markdown",
            "id": "751636f8",
            "metadata": {},
            "source": [
                "One important feature of the identity matrix is that it does not change a matrix when multiplied. So, AI = A. Let\u2019s confirm with numpy:\n"
            ]
        },
        {
            "cell_type": "code",
            "execution_count": 28,
            "id": "9d066bf3",
            "metadata": {},
            "outputs": [
                {
                    "data": {
                        "text/plain": [
                            "array([[3, 0, 2],\n",
                            "       [2, 4, 2],\n",
                            "       [2, 1, 3]])"
                        ]
                    },
                    "execution_count": 28,
                    "metadata": {},
                    "output_type": "execute_result"
                }
            ],
            "source": [
                "A=np.random.randint(5,size=(3,3))\n",
                "A\n"
            ]
        },
        {
            "cell_type": "code",
            "execution_count": 29,
            "id": "4f73f307",
            "metadata": {},
            "outputs": [
                {
                    "data": {
                        "text/plain": [
                            "array([[1, 0, 0],\n",
                            "       [0, 1, 0],\n",
                            "       [0, 0, 1]])"
                        ]
                    },
                    "execution_count": 29,
                    "metadata": {},
                    "output_type": "execute_result"
                }
            ],
            "source": [
                "I=np.identity(3, dtype=int)\n",
                "I\n"
            ]
        },
        {
            "cell_type": "code",
            "execution_count": 30,
            "id": "8670dec7",
            "metadata": {},
            "outputs": [
                {
                    "data": {
                        "text/plain": [
                            "array([[3, 0, 2],\n",
                            "       [2, 4, 2],\n",
                            "       [2, 1, 3]])"
                        ]
                    },
                    "execution_count": 30,
                    "metadata": {},
                    "output_type": "execute_result"
                }
            ],
            "source": [
                "np.dot(A,I)\n"
            ]
        },
        {
            "cell_type": "markdown",
            "id": "98f40c64",
            "metadata": {},
            "source": [
                "## Determinant and inverse of a matrix\n",
                "We use **np.linalg.det()** to get determinant of a matrix. \n"
            ]
        },
        {
            "cell_type": "code",
            "execution_count": 31,
            "id": "43ae0d81",
            "metadata": {},
            "outputs": [
                {
                    "data": {
                        "text/plain": [
                            "array([[ 1,  1,  1],\n",
                            "       [ 0,  2,  5],\n",
                            "       [ 2,  5, -1]])"
                        ]
                    },
                    "execution_count": 31,
                    "metadata": {},
                    "output_type": "execute_result"
                }
            ],
            "source": [
                "A4= np.array([[1,1,1],[0,2,5],[2,5,-1]])\n",
                "A4\n"
            ]
        },
        {
            "cell_type": "code",
            "execution_count": 32,
            "id": "bb491a7b",
            "metadata": {},
            "outputs": [
                {
                    "data": {
                        "text/plain": [
                            "-21.0"
                        ]
                    },
                    "execution_count": 32,
                    "metadata": {},
                    "output_type": "execute_result"
                }
            ],
            "source": [
                "np.linalg.det(A4)\n"
            ]
        },
        {
            "cell_type": "markdown",
            "id": "a8ea719f",
            "metadata": {},
            "source": [
                "\n",
                "We use **np.linalg.inv()** function to calculate the inverse of a matrix. We already know that the inverse of a matrix exists if and only if the deteminat of it iz ono-zero. \n"
            ]
        },
        {
            "cell_type": "code",
            "execution_count": 33,
            "id": "0633460c",
            "metadata": {},
            "outputs": [
                {
                    "data": {
                        "text/plain": [
                            "array([[ 1.28571429, -0.28571429, -0.14285714],\n",
                            "       [-0.47619048,  0.14285714,  0.23809524],\n",
                            "       [ 0.19047619,  0.14285714, -0.0952381 ]])"
                        ]
                    },
                    "execution_count": 33,
                    "metadata": {},
                    "output_type": "execute_result"
                }
            ],
            "source": [
                "A4_inv=np.linalg.inv(A4)\n",
                "A4_inv\n"
            ]
        },
        {
            "cell_type": "markdown",
            "id": "2552dd50",
            "metadata": {},
            "source": [
                "The inverse of a matrix is such that if it is multiplied by the original matrix, it results in identity matrix.\n"
            ]
        },
        {
            "cell_type": "code",
            "execution_count": 34,
            "id": "25d71e0b",
            "metadata": {},
            "outputs": [
                {
                    "data": {
                        "text/plain": [
                            "array([[ 1.00000000e+00, -5.55111512e-17,  0.00000000e+00],\n",
                            "       [ 0.00000000e+00,  1.00000000e+00,  0.00000000e+00],\n",
                            "       [-1.11022302e-16,  5.55111512e-17,  1.00000000e+00]])"
                        ]
                    },
                    "execution_count": 34,
                    "metadata": {},
                    "output_type": "execute_result"
                }
            ],
            "source": [
                "np.dot(A4,A4_inv)\n"
            ]
        },
        {
            "cell_type": "markdown",
            "id": "703fe3b1",
            "metadata": {},
            "source": [
                "### Diagonal matrix (determinent and inversion)\n",
                "A diagonal matrix is a square matrix in which all the elements outside the main diagonal are zero (0). The entries on the main diagonal may or may not be null. \n"
            ]
        },
        {
            "cell_type": "code",
            "execution_count": 45,
            "id": "4c012908",
            "metadata": {},
            "outputs": [
                {
                    "data": {
                        "text/plain": [
                            "array([[5, 0, 0],\n",
                            "       [0, 2, 0],\n",
                            "       [0, 0, 3]])"
                        ]
                    },
                    "execution_count": 45,
                    "metadata": {},
                    "output_type": "execute_result"
                }
            ],
            "source": [
                "A5=np.diag([5,2,3])\n",
                "A5\n"
            ]
        },
        {
            "cell_type": "markdown",
            "id": "65febc41",
            "metadata": {},
            "source": [
                "The determinant of a diagonal matrix is the product of elements of its diagonal. \n"
            ]
        },
        {
            "cell_type": "code",
            "execution_count": 46,
            "id": "726fd689",
            "metadata": {},
            "outputs": [
                {
                    "data": {
                        "text/plain": [
                            "29.99999999999999"
                        ]
                    },
                    "execution_count": 46,
                    "metadata": {},
                    "output_type": "execute_result"
                }
            ],
            "source": [
                "np.linalg.det(A5)\n"
            ]
        },
        {
            "cell_type": "markdown",
            "id": "0d9c2e67",
            "metadata": {},
            "source": [
                "The inverse of a diagonal matrix is given by replacing the main diagonal elements of the matrix with their reciprocals.\n"
            ]
        },
        {
            "cell_type": "code",
            "execution_count": 47,
            "id": "19c997ac",
            "metadata": {},
            "outputs": [
                {
                    "data": {
                        "text/plain": [
                            "array([[0.2       , 0.        , 0.        ],\n",
                            "       [0.        , 0.5       , 0.        ],\n",
                            "       [0.        , 0.        , 0.33333333]])"
                        ]
                    },
                    "execution_count": 47,
                    "metadata": {},
                    "output_type": "execute_result"
                }
            ],
            "source": [
                "np.linalg.inv(A5)\n"
            ]
        },
        {
            "cell_type": "code",
            "execution_count": null,
            "id": "ed1b81d0",
            "metadata": {},
            "outputs": [],
            "source": []
        }
    ],
    "metadata": {
        "kernelspec": {
            "display_name": "Python 3 (ipykernel)",
            "language": "python",
            "name": "python3"
        },
        "language_info": {
            "codemirror_mode": {
                "name": "ipython",
                "version": 3
            },
            "file_extension": ".py",
            "mimetype": "text/x-python",
            "name": "python",
            "nbconvert_exporter": "python",
            "pygments_lexer": "ipython3",
            "version": "3.9.7"
        }
    },
    "nbformat": 4,
    "nbformat_minor": 5
}