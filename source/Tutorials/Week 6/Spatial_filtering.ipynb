{
 "cells": [
  {
   "cell_type": "markdown",
   "metadata": {},
   "source": [
    "# 1. Denoising 101"
   ]
  },
  {
   "cell_type": "code",
   "execution_count": 1,
   "metadata": {},
   "outputs": [],
   "source": [
    "import numpy as np\n",
    "import matplotlib.pyplot as plt\n",
    "from scipy.ndimage.filters import convolve\n",
    "import scipy.ndimage as sp"
   ]
  },
  {
   "cell_type": "markdown",
   "metadata": {},
   "source": [
    "## Denoising by filtering - from scratch"
   ]
  },
  {
   "cell_type": "markdown",
   "metadata": {},
   "source": [
    "Make example image:"
   ]
  },
  {
   "cell_type": "code",
   "execution_count": 2,
   "metadata": {},
   "outputs": [
    {
     "data": {
      "image/png": "[encoded data removed]",
      "text/plain": [
       "<Figure size 432x288 with 2 Axes>"
      ]
     },
     "metadata": {
      "needs_background": "light"
     },
     "output_type": "display_data"
    }
   ],
   "source": [
    "sz = 30\n",
    "im = np.zeros((sz,sz))\n",
    "im[10:20,10:20] = 1\n",
    "noisy = im + np.random.normal(0, 0.3, (sz,sz))\n",
    "fig = plt.figure()\n",
    "fig.add_subplot(1,2,1), plt.imshow(im)\n",
    "fig.add_subplot(1,2,2), plt.imshow(noisy);"
   ]
  },
  {
   "cell_type": "markdown",
   "metadata": {},
   "source": [
    "Make a mean convolution filter:"
   ]
  },
  {
   "cell_type": "code",
   "execution_count": null,
   "metadata": {},
   "outputs": [],
   "source": [
    "meanfilt = np.asarray([[1, 1, 1], [1, 1, 1], [1, 1, 1]]) / 9\n",
    "print(meanfilt)\n",
    "filtered = convolve(noisy, meanfilt)\n",
    "plt.imshow(filtered);\n",
    "print(noisy.shape)\n",
    "print(filtered.shape)"
   ]
  },
  {
   "cell_type": "markdown",
   "metadata": {},
   "source": [
    "Exercise: Mean filtering is most likely already implemented in a standard function. Find it (asking Professor Google) and try it ... "
   ]
  },
  {
   "cell_type": "code",
   "execution_count": null,
   "metadata": {},
   "outputs": [],
   "source": [
    "from skimage.morphology import disk\n",
    "from skimage.filters import rank\n",
    "\n",
    "minInt = np.min(noisy)\n",
    "maxInt = np.max(noisy)\n",
    "print('Image range:',minInt,'to',maxInt)\n",
    "filtered = rank.mean(noisy/maxInt, disk(10))\n",
    "plt.imshow(filtered)"
   ]
  },
  {
   "cell_type": "markdown",
   "metadata": {},
   "source": [
    "Most often, there are standard functions doing most of the work. We have to find them and then possibly adjust our data to work with them. "
   ]
  },
  {
   "cell_type": "markdown",
   "metadata": {},
   "source": [
    "# 2. Feature Detection"
   ]
  },
  {
   "cell_type": "markdown",
   "metadata": {},
   "source": [
    "## Edge Filter by convolution - from scratch"
   ]
  },
  {
   "cell_type": "code",
   "execution_count": 3,
   "metadata": {},
   "outputs": [
    {
     "data": {
      "image/png": "[encoded data removed]",
      "text/plain": [
       "<Figure size 432x288 with 2 Axes>"
      ]
     },
     "metadata": {
      "needs_background": "light"
     },
     "output_type": "display_data"
    }
   ],
   "source": [
    "im = np.zeros((30,30))\n",
    "im[10:20,10:20] = 1\n",
    "\n",
    "filt = np.asarray([[1, 1, 1], \n",
    "                   [0, 0, 0], \n",
    "                   [-1, -1, -1]])\n",
    "filtered = convolve(im, filt)\n",
    "\n",
    "fig = plt.figure()\n",
    "fig.add_subplot(1,2,1)\n",
    "plt.imshow(im)\n",
    "fig.add_subplot(1,2,2)\n",
    "plt.imshow(filtered);"
   ]
  },
  {
   "cell_type": "markdown",
   "metadata": {},
   "source": [
    "Exercise: How do we then detect vertical edges?"
   ]
  },
  {
   "cell_type": "code",
   "execution_count": 4,
   "metadata": {},
   "outputs": [
    {
     "data": {
      "text/plain": [
       "<matplotlib.image.AxesImage at 0x7f10cc91a100>"
      ]
     },
     "execution_count": 4,
     "metadata": {},
     "output_type": "execute_result"
    },
    {
     "data": {
      "image/png": "[encoded data removed]",
      "text/plain": [
       "<Figure size 432x288 with 1 Axes>"
      ]
     },
     "metadata": {
      "needs_background": "light"
     },
     "output_type": "display_data"
    }
   ],
   "source": [
    "filtered = convolve(im, filt.T)\n",
    "plt.imshow(filtered)"
   ]
  },
  {
   "cell_type": "markdown",
   "metadata": {},
   "source": [
    "And does it work for the noisy version?"
   ]
  },
  {
   "cell_type": "code",
   "execution_count": 5,
   "metadata": {},
   "outputs": [
    {
     "data": {
      "text/plain": [
       "<matplotlib.image.AxesImage at 0x7f10cc87a790>"
      ]
     },
     "execution_count": 5,
     "metadata": {},
     "output_type": "execute_result"
    },
    {
     "data": {
      "image/png": "[encoded data removed]",
      "text/plain": [
       "<Figure size 432x288 with 1 Axes>"
      ]
     },
     "metadata": {
      "needs_background": "light"
     },
     "output_type": "display_data"
    }
   ],
   "source": [
    "filtered = convolve(noisy, filt.T)\n",
    "plt.imshow(filtered)"
   ]
  },
  {
   "cell_type": "markdown",
   "metadata": {},
   "source": [
    "This edge detection is challenged a lot by moderate noise ..."
   ]
  },
  {
   "cell_type": "markdown",
   "metadata": {},
   "source": [
    "## Blob filter by convolution"
   ]
  },
  {
   "cell_type": "code",
   "execution_count": 6,
   "metadata": {},
   "outputs": [
    {
     "data": {
      "image/png": "[encoded data removed]",
      "text/plain": [
       "<Figure size 432x288 with 1 Axes>"
      ]
     },
     "metadata": {
      "needs_background": "light"
     },
     "output_type": "display_data"
    }
   ],
   "source": [
    "filt = np.asarray([[1,  1, 1], \n",
    "                   [1, -8, 1], \n",
    "                   [1,  1, 1]])\n",
    "filtered = convolve(im, filt)\n",
    "plt.imshow(filtered);"
   ]
  },
  {
   "cell_type": "markdown",
   "metadata": {},
   "source": [
    "This was not really what we wanted .... why?"
   ]
  },
  {
   "cell_type": "markdown",
   "metadata": {},
   "source": [
    "## Gaussian Derivatives"
   ]
  },
  {
   "cell_type": "markdown",
   "metadata": {},
   "source": [
    "In Math, we may locally approximate a function by the Taylor series expansion, including derivatives up a given order.\n",
    "Images as not continuous, even less smooth. \n",
    "So we we use Gaussian derivatives: Ix = d(I) is performed as d(G * I) = I * d(G). \n",
    "Let's do this step by step ..."
   ]
  },
  {
   "cell_type": "markdown",
   "metadata": {},
   "source": [
    "First, we use the gaussian_filter function that makes the Gaussian (derivative) filter and applies it to a given image: "
   ]
  },
  {
   "cell_type": "code",
   "execution_count": null,
   "metadata": {},
   "outputs": [],
   "source": [
    "fig = plt.figure()\n",
    "fig.add_subplot(1,3,1), plt.imshow(im)\n",
    "fig.add_subplot(1,3,2), plt.imshow(sp.gaussian_filter(im, 1))\n",
    "fig.add_subplot(1,3,3), plt.imshow(sp.gaussian_filter(im, 4));"
   ]
  },
  {
   "cell_type": "markdown",
   "metadata": {},
   "source": [
    "The Gaussian filter blurs the image by convolution with a Gaussian kernel - at a given scale. Small scale gives narrow filter and limited blurring - large scale gives more blurring. We can use this blurring as an alternative to the denoising filter used above:"
   ]
  },
  {
   "cell_type": "code",
   "execution_count": null,
   "metadata": {},
   "outputs": [],
   "source": [
    "fig = plt.figure()\n",
    "fig.add_subplot(1,3,1), plt.imshow(noisy)\n",
    "fig.add_subplot(1,3,2), plt.imshow(sp.gaussian_filter(noisy, 1));"
   ]
  },
  {
   "cell_type": "markdown",
   "metadata": {},
   "source": [
    "Next, if we convolve with a derivative of the Gaussian, we get a mathematically well-defined derivative. "
   ]
  },
  {
   "cell_type": "code",
   "execution_count": null,
   "metadata": {},
   "outputs": [],
   "source": [
    "fig = plt.figure()\n",
    "fig.add_subplot(1,2,1), plt.imshow(sp.gaussian_filter(im, 1, (1,0)))\n",
    "fig.add_subplot(1,2,2), plt.imshow(sp.gaussian_filter(im, 4, (0,1)));"
   ]
  },
  {
   "cell_type": "markdown",
   "metadata": {},
   "source": [
    "By choosing the scale appropriately, we can look for features with small/large extent. "
   ]
  },
  {
   "cell_type": "markdown",
   "metadata": {},
   "source": [
    "Exercise: How do we find edges, invariant to the direction?"
   ]
  },
  {
   "cell_type": "code",
   "execution_count": null,
   "metadata": {},
   "outputs": [],
   "source": [
    "Ix = sp.gaussian_filter(im, 1, (1,0))\n",
    "Iy = sp.gaussian_filter(im, 1, (0,1))\n",
    "grad = [Ix, Iy]\n",
    "gradMag = np.sqrt(Ix**2 + Iy**2)\n",
    "fig = plt.figure()\n",
    "fig.add_subplot(1,2,1), plt.imshow(im)\n",
    "fig.add_subplot(1,2,2), plt.imshow(gradMag);"
   ]
  }
 ],
 "metadata": {
  "kernelspec": {
   "display_name": "Python 3.9.5 ('test')",
   "language": "python",
   "name": "python3"
  },
  "language_info": {
   "codemirror_mode": {
    "name": "ipython",
    "version": 3
   },
   "file_extension": ".py",
   "mimetype": "text/x-python",
   "name": "python",
   "nbconvert_exporter": "python",
   "pygments_lexer": "ipython3",
   "version": "3.9.5"
  },
  "vscode": {
   "interpreter": {
    "hash": "7da34bf825f88e32158564d567d736ca6f8c574890b002d9433796d1d18fb610"
   }
  }
 },
 "nbformat": 4,
 "nbformat_minor": 4
}
